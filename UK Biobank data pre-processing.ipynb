{
 "cells": [
  {
   "cell_type": "code",
   "execution_count": 1,
   "metadata": {},
   "outputs": [],
   "source": [
    "import numpy as np\n",
    "import pandas as pd\n",
    "import matplotlib.pyplot as plt\n",
    "import seaborn as sns\n",
    "import semopy as sem\n",
    "import scipy.stats as sts\n",
    "from sklearn.decomposition import FactorAnalysis\n",
    "from factor_analyzer import FactorAnalyzer\n",
    "from statistics import stdev, mean"
   ]
  },
  {
   "cell_type": "markdown",
   "metadata": {},
   "source": [
    "# 1. Data Pre-processing"
   ]
  },
  {
   "cell_type": "markdown",
   "metadata": {},
   "source": [
    "The datasets we were given, shown below, were previously cleaned and delivered to us afterwards. Therefore, not a lot of data pre-processing was required, besides the following actions:"
   ]
  },
  {
   "cell_type": "markdown",
   "metadata": {},
   "source": [
    "## 1.1 Merging and combining datasets"
   ]
  },
  {
   "cell_type": "markdown",
   "metadata": {},
   "source": [
    "Merging and combining the datasets provided according to patients ids ('f.eid')."
   ]
  },
  {
   "cell_type": "code",
   "execution_count": 2,
   "metadata": {},
   "outputs": [
    {
     "name": "stderr",
     "output_type": "stream",
     "text": [
      "b'Skipping line 281516: expected 50 fields, saw 86\\n'\n",
      "C:\\Users\\Alejandro\\Downloads\\ANACONDA\\lib\\site-packages\\IPython\\core\\interactiveshell.py:3058: DtypeWarning: Columns (14,15,17,18,20,21,32,33,34,35,36,37) have mixed types. Specify dtype option on import or set low_memory=False.\n",
      "  interactivity=interactivity, compiler=compiler, result=result)\n"
     ]
    },
    {
     "data": {
      "text/plain": [
       "((2141, 1396), (502418, 50), (502536, 14), (630, 1))"
      ]
     },
     "execution_count": 2,
     "metadata": {},
     "output_type": "execute_result"
    }
   ],
   "source": [
    "# Loading all the data\n",
    "data_all = pd.read_csv('all_causality_data.csv')\n",
    "data_new = pd.read_csv('ukbb_cardio_merged_unclean.csv', error_bad_lines=False)\n",
    "data_bp = pd.read_csv('ukbb_bp_merged_unclean.csv')\n",
    "radiomics_groups = pd.read_csv('radiomics.groups.csv', header = None)\n",
    "data_all.shape, data_new.shape, data_bp.shape, radiomics_groups.shape"
   ]
  },
  {
   "cell_type": "code",
   "execution_count": 3,
   "metadata": {},
   "outputs": [
    {
     "data": {
      "text/plain": [
       "(502418, 63)"
      ]
     },
     "execution_count": 3,
     "metadata": {},
     "output_type": "execute_result"
    }
   ],
   "source": [
    "# Merging data_new and data_bp = data2\n",
    "ids = data_new.iloc[:,1]\n",
    "data_new_ids = data_bp[data_bp['f.eid'].isin(ids)]\n",
    "data_new_ids = data_new_ids.sort_values(by = 'f.eid')\n",
    "data2 = pd.merge(data_new, data_new_ids, on='f.eid',  how='left')\n",
    "data2.shape"
   ]
  },
  {
   "cell_type": "code",
   "execution_count": 4,
   "metadata": {},
   "outputs": [
    {
     "data": {
      "text/plain": [
       "(2141, 1456)"
      ]
     },
     "execution_count": 4,
     "metadata": {},
     "output_type": "execute_result"
    }
   ],
   "source": [
    "# Merging data2 and data_all = data\n",
    "ids2 = data_all.iloc[:,1]\n",
    "data_new_ids2 = data2[data2['f.eid'].isin(ids2)]\n",
    "data_new_ids2 = data_new_ids2.sort_values(by = 'f.eid')\n",
    "data = pd.merge(data_all, data_new_ids2.rename(columns={'f.eid':'heart_f_eid'}), on='heart_f_eid',  how='left')\n",
    "data = data.drop(['Unnamed: 0', 'heart_f_eid'], axis=1)\n",
    "data.shape"
   ]
  },
  {
   "cell_type": "code",
   "execution_count": 5,
   "metadata": {},
   "outputs": [
    {
     "data": {
      "text/plain": [
       "(2141, 1456)"
      ]
     },
     "execution_count": 5,
     "metadata": {},
     "output_type": "execute_result"
    }
   ],
   "source": [
    "# Changing heart radiomics columns names\n",
    "radiomics_groups = radiomics_groups[0].values.tolist()\n",
    "heart_df = data.filter(regex='heart')\n",
    "data = data[data.columns.drop(list(data.filter(regex='heart')))]\n",
    "heart_df.columns = radiomics_groups\n",
    "data = pd.concat([data, heart_df], axis=1)\n",
    "data.shape"
   ]
  },
  {
   "cell_type": "markdown",
   "metadata": {},
   "source": [
    "## 1.2 Selecting data instance collection"
   ]
  },
  {
   "cell_type": "markdown",
   "metadata": {},
   "source": [
    "Data was collected at three instances: 'baseline', 'calibration' and 'imaging'. We selected the instance with the least number of missing values, which is 'baseline', and drop the other two."
   ]
  },
  {
   "cell_type": "code",
   "execution_count": 6,
   "metadata": {},
   "outputs": [
    {
     "data": {
      "text/plain": [
       "((2141, 20), (2141, 20), (2141, 20))"
      ]
     },
     "execution_count": 6,
     "metadata": {},
     "output_type": "execute_result"
    }
   ],
   "source": [
    "baseline_df = data.filter(regex='baseline')\n",
    "calibration_df = data.filter(regex='calibration')\n",
    "imaging_df = data.filter(regex=':imaging')\n",
    "baseline_df.shape, calibration_df.shape, imaging_df.shape"
   ]
  },
  {
   "cell_type": "code",
   "execution_count": 7,
   "metadata": {},
   "outputs": [
    {
     "data": {
      "text/plain": [
       "(17796, 33513, 17859)"
      ]
     },
     "execution_count": 7,
     "metadata": {},
     "output_type": "execute_result"
    }
   ],
   "source": [
    "baseline_df.isna().sum().sum(), calibration_df.isna().sum().sum(), imaging_df.isna().sum().sum()"
   ]
  },
  {
   "cell_type": "code",
   "execution_count": 8,
   "metadata": {},
   "outputs": [],
   "source": [
    "data = data[data.columns.drop(list(data.filter(regex='calibration')))]\n",
    "data = data[data.columns.drop(list(data.filter(regex=':imaging')))]"
   ]
  },
  {
   "cell_type": "markdown",
   "metadata": {},
   "source": [
    "## 1.3 Remove missing values"
   ]
  },
  {
   "cell_type": "markdown",
   "metadata": {},
   "source": [
    "Due to our large sample size, removing entire rows with missing values was considered to be the best approach to have a complete final dataset. Our resulting final dataset has 2065 patients and 1416 variables."
   ]
  },
  {
   "cell_type": "code",
   "execution_count": 9,
   "metadata": {},
   "outputs": [
    {
     "data": {
      "text/plain": [
       "(2065, 1416)"
      ]
     },
     "execution_count": 9,
     "metadata": {},
     "output_type": "execute_result"
    }
   ],
   "source": [
    "data = data[data['bio:systolic_blood_pressure,_automated_reading:0:baseline'].notna()]\n",
    "data = data[data['bio:age_stopped_smoking:0:baseline'] != 'Do not know']\n",
    "data.shape"
   ]
  },
  {
   "cell_type": "markdown",
   "metadata": {},
   "source": [
    "# 2. Feature extraction"
   ]
  },
  {
   "cell_type": "markdown",
   "metadata": {},
   "source": [
    "Several new features were extracted from our initial VRFs variables: smoking pack years and WHR."
   ]
  },
  {
   "cell_type": "markdown",
   "metadata": {},
   "source": [
    "## 2.1 Smoking pack years"
   ]
  },
  {
   "cell_type": "markdown",
   "metadata": {},
   "source": [
    "Pack years was calculated as the number of cigarettes per day smoked by each patient, then divided by 20, and lastly multiplied by the number of years patients reported having smoked for."
   ]
  },
  {
   "cell_type": "markdown",
   "metadata": {},
   "source": [
    "However, in order to extract this feature, first we had to substitute \"Do not know\" responses. Cigarette smoking variables presented plenty of these type of categorical values. Therefore, replacing them with 0 was considered to be the best approach. Also, some other categorical variables were encoded using integer encoding, that consist in referencing each possible categorical value with an integer, such as \"Less than one a day\" subtituted by 1."
   ]
  },
  {
   "cell_type": "code",
   "execution_count": 10,
   "metadata": {},
   "outputs": [],
   "source": [
    "data['bio:age_started_smoking_in_former_smokers:0:baseline'] = data['bio:age_started_smoking_in_former_smokers:0:baseline'].replace('Do not know', np.nan)\n",
    "data['bio:number_of_cigarettes_previously_smoked_daily:0:baseline'] = data['bio:number_of_cigarettes_previously_smoked_daily:0:baseline'].replace('Do not know', np.nan)\n",
    "data['bio:number_of_cigarettes_previously_smoked_daily:0:baseline'] = data['bio:number_of_cigarettes_previously_smoked_daily:0:baseline'].replace('Less than one a day', 1)"
   ]
  },
  {
   "cell_type": "code",
   "execution_count": 11,
   "metadata": {},
   "outputs": [],
   "source": [
    "data['bio:age_started_smoking_in_former_smokers:0:baseline'] = data['bio:age_started_smoking_in_former_smokers:0:baseline'].fillna(0)\n",
    "data['bio:number_of_cigarettes_previously_smoked_daily:0:baseline'] = data['bio:number_of_cigarettes_previously_smoked_daily:0:baseline'].fillna(0)\n",
    "data['bio:age_stopped_smoking:0:baseline'] = data['bio:age_stopped_smoking:0:baseline'].fillna(0)"
   ]
  },
  {
   "cell_type": "code",
   "execution_count": 12,
   "metadata": {},
   "outputs": [],
   "source": [
    "data['bio:age_started_smoking_in_former_smokers:0:baseline'] = data['bio:age_started_smoking_in_former_smokers:0:baseline'].astype(str).astype(int)\n",
    "data['bio:number_of_cigarettes_previously_smoked_daily:0:baseline'] = data['bio:number_of_cigarettes_previously_smoked_daily:0:baseline'].astype(str).astype(int)\n",
    "data['bio:age_stopped_smoking:0:baseline'] = data['bio:age_stopped_smoking:0:baseline'].astype(str).astype(int)"
   ]
  },
  {
   "cell_type": "code",
   "execution_count": 13,
   "metadata": {},
   "outputs": [],
   "source": [
    "data['pack_years'] = ((data['bio:number_of_cigarettes_previously_smoked_daily:0:baseline'] / 20)*\n",
    "                      (data['bio:age_stopped_smoking:0:baseline'] - data['bio:age_started_smoking_in_former_smokers:0:baseline']))"
   ]
  },
  {
   "cell_type": "code",
   "execution_count": 14,
   "metadata": {},
   "outputs": [
    {
     "data": {
      "text/plain": [
       "count    2065.000000\n",
       "mean        4.177772\n",
       "std         9.995071\n",
       "min         0.000000\n",
       "25%         0.000000\n",
       "50%         0.000000\n",
       "75%         0.000000\n",
       "max       111.000000\n",
       "Name: pack_years, dtype: float64"
      ]
     },
     "execution_count": 14,
     "metadata": {},
     "output_type": "execute_result"
    }
   ],
   "source": [
    "data['pack_years'].describe()"
   ]
  },
  {
   "cell_type": "code",
   "execution_count": 15,
   "metadata": {},
   "outputs": [
    {
     "data": {
      "text/plain": [
       "<matplotlib.axes._subplots.AxesSubplot at 0x200800a86a0>"
      ]
     },
     "execution_count": 15,
     "metadata": {},
     "output_type": "execute_result"
    },
    {
     "data": {
      "image/png": "[encoded data removed]",
      "text/plain": [
       "<Figure size 432x288 with 1 Axes>"
      ]
     },
     "metadata": {
      "needs_background": "light"
     },
     "output_type": "display_data"
    }
   ],
   "source": [
    "bin_values = np.arange(start=1, stop=111, step=0.5)\n",
    "data['pack_years'].plot(kind='hist', bins=bin_values)"
   ]
  },
  {
   "cell_type": "markdown",
   "metadata": {},
   "source": [
    "## 2.2 Waist-Hip Ratio (WHR)"
   ]
  },
  {
   "cell_type": "markdown",
   "metadata": {},
   "source": [
    "Waist and hip measurements were conducted to provide WHR."
   ]
  },
  {
   "cell_type": "code",
   "execution_count": 16,
   "metadata": {},
   "outputs": [],
   "source": [
    "data['WHR'] = data['bio:waist_circumference:0:baseline'] / data['bio:hip_circumference:0:baseline']"
   ]
  },
  {
   "cell_type": "code",
   "execution_count": 17,
   "metadata": {},
   "outputs": [
    {
     "data": {
      "text/plain": [
       "count    2065.000000\n",
       "mean        0.860974\n",
       "std         0.087590\n",
       "min         0.607843\n",
       "25%         0.790476\n",
       "50%         0.860000\n",
       "75%         0.924528\n",
       "max         1.160000\n",
       "Name: WHR, dtype: float64"
      ]
     },
     "execution_count": 17,
     "metadata": {},
     "output_type": "execute_result"
    }
   ],
   "source": [
    "data['WHR'].describe()"
   ]
  },
  {
   "cell_type": "code",
   "execution_count": 18,
   "metadata": {},
   "outputs": [
    {
     "data": {
      "text/plain": [
       "<matplotlib.axes._subplots.AxesSubplot at 0x20081466048>"
      ]
     },
     "execution_count": 18,
     "metadata": {},
     "output_type": "execute_result"
    },
    {
     "data": {
      "image/png": "[encoded data removed]",
      "text/plain": [
       "<Figure size 432x288 with 1 Axes>"
      ]
     },
     "metadata": {
      "needs_background": "light"
     },
     "output_type": "display_data"
    }
   ],
   "source": [
    "bin_values = np.arange(start=0.6, stop=1.2, step=0.005)\n",
    "data['WHR'].plot(kind='hist', bins=bin_values)"
   ]
  },
  {
   "cell_type": "markdown",
   "metadata": {},
   "source": [
    "# 3. Data Normalization"
   ]
  },
  {
   "cell_type": "markdown",
   "metadata": {},
   "source": [
    "In general, learning algorithms benefit from standardization of the data set, and for example some algorithms will improve cardiovascular predictions if all numerical features are zero centered and have a variance of the same magnitude order [1]. For this reason, some of our VRFs were normalized using Z-Score normalization due to the nature and distribution of the variables.  These variables were SBP, DBP, Pack years, BMI, and WHR."
   ]
  },
  {
   "cell_type": "markdown",
   "metadata": {},
   "source": [
    "In the following plot we can see the distribution of these variables before normalization:"
   ]
  },
  {
   "cell_type": "markdown",
   "metadata": {},
   "source": [
    "<center><img src=\"Figures/before normalization 4.png\"></center>"
   ]
  },
  {
   "cell_type": "code",
   "execution_count": 19,
   "metadata": {},
   "outputs": [],
   "source": [
    "data['SBP_norm'] = ((data['bio:systolic_blood_pressure,_automated_reading:0:baseline'] - \n",
    "                                         mean(data['bio:systolic_blood_pressure,_automated_reading:0:baseline'])) \n",
    "                                        / stdev(data['bio:systolic_blood_pressure,_automated_reading:0:baseline']))\n",
    "\n",
    "data['DBP_norm'] = ((data['bio:diastolic_blood_pressure,_automated_reading:0:baseline'] - \n",
    "                                         mean(data['bio:diastolic_blood_pressure,_automated_reading:0:baseline'])) \n",
    "                                        / stdev(data['bio:diastolic_blood_pressure,_automated_reading:0:baseline']))\n",
    "\n",
    "data['pack_years_norm'] = ((data['pack_years'] - mean(data['pack_years'])) / stdev(data['pack_years']))\n",
    "\n",
    "data['BMI_norm'] = ((data['bio:body_mass_index_(bmi):0:baseline'] - mean(data['bio:body_mass_index_(bmi):0:baseline'])) \n",
    "                          / stdev(data['bio:body_mass_index_(bmi):0:baseline']))\n",
    "\n",
    "data['WHR_norm'] = ((data['WHR'] - mean(data['WHR'])) / stdev(data['WHR']))"
   ]
  },
  {
   "cell_type": "markdown",
   "metadata": {},
   "source": [
    "In the following plot we can see the distribution of these variables after normalization:"
   ]
  },
  {
   "cell_type": "markdown",
   "metadata": {},
   "source": [
    "<center><img src=\"Figures/zscore normalization.png\"></center>"
   ]
  },
  {
   "cell_type": "markdown",
   "metadata": {},
   "source": [
    "As we can see, all these variables are centered at 0 and have a standard deviation of 1, handling this way all the outliers that were present in the data. Also, it is noticeable that blood pressure related variables (SBP and DBP) have a normal distribution."
   ]
  },
  {
   "cell_type": "markdown",
   "metadata": {},
   "source": [
    "# 4. Dimensionality reduction"
   ]
  },
  {
   "cell_type": "markdown",
   "metadata": {},
   "source": [
    "First of all we derived an aggregate measure of vascular risk to quantify overall load of VRFs for each patient. Secondly, we also derived a latent factor of general vascular risk (gVRF) to capture the tendency for VRFs to co-occur. "
   ]
  },
  {
   "cell_type": "markdown",
   "metadata": {},
   "source": [
    "## 4.1 Aggregate measure of vascular risk"
   ]
  },
  {
   "cell_type": "markdown",
   "metadata": {},
   "source": [
    "An aggregate measure of vascular risk for each individual was derived to quantify overall load of VRFs for each patient, counting instances of a self-reported diagnosis of hypertension, diabetes, or hypercholesterolaemia, having ever smoked, having a BMI > 25, and having a high WHR (>0.85 for females and >0.90 for males), following prior work in an older cohort [2]."
   ]
  },
  {
   "cell_type": "code",
   "execution_count": 20,
   "metadata": {},
   "outputs": [],
   "source": [
    "agg_score = data[\"cardio_cov_hypertens\"] + data[\"cardio_cov_diabetes\"] + data[\"cardio_cov_highchol\"] + data[\"cardio_cov_smoker\"]\n",
    "data[\"agg_score\"] = agg_score"
   ]
  },
  {
   "cell_type": "code",
   "execution_count": 21,
   "metadata": {},
   "outputs": [],
   "source": [
    "data['binary_bmi'] = data['bio:body_mass_index_(bmi):0:baseline'].apply(lambda x: 1 if x > 25 else 0)\n",
    "data[\"agg_score\"] = data[\"agg_score\"] + data['binary_bmi']"
   ]
  },
  {
   "cell_type": "code",
   "execution_count": 22,
   "metadata": {},
   "outputs": [],
   "source": [
    "data['WHR'] = (data['bio:waist_circumference:0:baseline'] / data['bio:hip_circumference:0:baseline'])\n",
    "\n",
    "binary_WHR = []\n",
    "\n",
    "for i in data[\"cardio_cov_sex\"].values:\n",
    "    if i == 0: #female\n",
    "        binary_WHR.append(data['WHR'].apply(lambda x: 1 if x > 0.85 else 0))\n",
    "    if i == 1: #male\n",
    "        binary_WHR.append(data['WHR'].apply(lambda x: 1 if x > 0.90 else 0))"
   ]
  },
  {
   "cell_type": "code",
   "execution_count": 23,
   "metadata": {},
   "outputs": [],
   "source": [
    "data['binary_WHR'] = binary_WHR[0]\n",
    "data[\"agg_score\"] = data[\"agg_score\"] + data['binary_WHR']"
   ]
  },
  {
   "cell_type": "code",
   "execution_count": 24,
   "metadata": {},
   "outputs": [
    {
     "data": {
      "text/plain": [
       "1    606\n",
       "2    555\n",
       "0    523\n",
       "3    273\n",
       "4     91\n",
       "5     17\n",
       "Name: agg_score, dtype: int64"
      ]
     },
     "execution_count": 24,
     "metadata": {},
     "output_type": "execute_result"
    }
   ],
   "source": [
    "data[\"agg_score\"].value_counts()"
   ]
  },
  {
   "cell_type": "code",
   "execution_count": 25,
   "metadata": {},
   "outputs": [
    {
     "data": {
      "text/plain": [
       "<matplotlib.axes._subplots.AxesSubplot at 0x200816363c8>"
      ]
     },
     "execution_count": 25,
     "metadata": {},
     "output_type": "execute_result"
    },
    {
     "data": {
      "image/png": "[encoded data removed]",
      "text/plain": [
       "<Figure size 432x288 with 1 Axes>"
      ]
     },
     "metadata": {
      "needs_background": "light"
     },
     "output_type": "display_data"
    }
   ],
   "source": [
    "bin_values = np.arange(start=0, stop=6, step=0.5)\n",
    "data[\"agg_score\"].plot(kind='hist', bins=bin_values)"
   ]
  },
  {
   "cell_type": "markdown",
   "metadata": {},
   "source": [
    "In this plot we can see the distribution of our derived aggregate measure of vascular risk. This measure quantifies the overall load of VRFs for each patient, and as we can see the distribution is very unbalanced, since for example there are only 17 patients with an overall load of VRFs of 5, while there are 606 patients with an overall load of VRFs of 1."
   ]
  },
  {
   "cell_type": "markdown",
   "metadata": {},
   "source": [
    "## 4.2 Latent factor of general vascular risk (gVRF)"
   ]
  },
  {
   "cell_type": "markdown",
   "metadata": {},
   "source": [
    "We also derived a latent factor of general vascular risk (gVRF) following prior work in an older cohort [3], using confirmatory factor analysis in structural equation modelling. This latent measure captures, and depends upon, the tendency for VRFs to co occur. Using the Factor Analyzer package for python, gVRF was derived from smoking pack years, DBP, SBP, BMI, WHR, self-reported hypertension, diabetes and hypercholesterolaemia."
   ]
  },
  {
   "cell_type": "code",
   "execution_count": 26,
   "metadata": {},
   "outputs": [],
   "source": [
    "gVRF_data = data.filter(['pack_years_norm', \n",
    "                         'SBP_norm',\n",
    "                         'DBP_norm',\n",
    "                         'BMI_norm','WHR_norm',\n",
    "                         'cardio_cov_hypertens', 'cardio_cov_diabetes', 'cardio_cov_highchol'], axis=1)"
   ]
  },
  {
   "cell_type": "code",
   "execution_count": 27,
   "metadata": {},
   "outputs": [
    {
     "data": {
      "text/html": [
       "<div>\n",
       "<style scoped>\n",
       "    .dataframe tbody tr th:only-of-type {\n",
       "        vertical-align: middle;\n",
       "    }\n",
       "\n",
       "    .dataframe tbody tr th {\n",
       "        vertical-align: top;\n",
       "    }\n",
       "\n",
       "    .dataframe thead th {\n",
       "        text-align: right;\n",
       "    }\n",
       "</style>\n",
       "<table border=\"1\" class=\"dataframe\">\n",
       "  <thead>\n",
       "    <tr style=\"text-align: right;\">\n",
       "      <th></th>\n",
       "      <th>pack_years_norm</th>\n",
       "      <th>SBP_norm</th>\n",
       "      <th>DBP_norm</th>\n",
       "      <th>BMI_norm</th>\n",
       "      <th>WHR_norm</th>\n",
       "      <th>cardio_cov_hypertens</th>\n",
       "      <th>cardio_cov_diabetes</th>\n",
       "      <th>cardio_cov_highchol</th>\n",
       "    </tr>\n",
       "  </thead>\n",
       "  <tbody>\n",
       "    <tr>\n",
       "      <th>0</th>\n",
       "      <td>-0.417983</td>\n",
       "      <td>-0.224747</td>\n",
       "      <td>-0.233023</td>\n",
       "      <td>-0.249758</td>\n",
       "      <td>0.356015</td>\n",
       "      <td>0</td>\n",
       "      <td>0</td>\n",
       "      <td>0</td>\n",
       "    </tr>\n",
       "    <tr>\n",
       "      <th>1</th>\n",
       "      <td>-0.417983</td>\n",
       "      <td>0.471542</td>\n",
       "      <td>-1.277238</td>\n",
       "      <td>-0.280856</td>\n",
       "      <td>0.494141</td>\n",
       "      <td>0</td>\n",
       "      <td>0</td>\n",
       "      <td>0</td>\n",
       "    </tr>\n",
       "    <tr>\n",
       "      <th>2</th>\n",
       "      <td>-0.417983</td>\n",
       "      <td>1.810559</td>\n",
       "      <td>1.855407</td>\n",
       "      <td>-0.614887</td>\n",
       "      <td>-0.696126</td>\n",
       "      <td>0</td>\n",
       "      <td>0</td>\n",
       "      <td>1</td>\n",
       "    </tr>\n",
       "    <tr>\n",
       "      <th>3</th>\n",
       "      <td>-0.417983</td>\n",
       "      <td>-1.081719</td>\n",
       "      <td>-1.656953</td>\n",
       "      <td>-0.286582</td>\n",
       "      <td>-0.060549</td>\n",
       "      <td>0</td>\n",
       "      <td>0</td>\n",
       "      <td>1</td>\n",
       "    </tr>\n",
       "    <tr>\n",
       "      <th>4</th>\n",
       "      <td>2.283348</td>\n",
       "      <td>-0.331869</td>\n",
       "      <td>-0.992453</td>\n",
       "      <td>-0.273563</td>\n",
       "      <td>0.549348</td>\n",
       "      <td>0</td>\n",
       "      <td>0</td>\n",
       "      <td>0</td>\n",
       "    </tr>\n",
       "  </tbody>\n",
       "</table>\n",
       "</div>"
      ],
      "text/plain": [
       "   pack_years_norm  SBP_norm  DBP_norm  BMI_norm  WHR_norm  \\\n",
       "0        -0.417983 -0.224747 -0.233023 -0.249758  0.356015   \n",
       "1        -0.417983  0.471542 -1.277238 -0.280856  0.494141   \n",
       "2        -0.417983  1.810559  1.855407 -0.614887 -0.696126   \n",
       "3        -0.417983 -1.081719 -1.656953 -0.286582 -0.060549   \n",
       "4         2.283348 -0.331869 -0.992453 -0.273563  0.549348   \n",
       "\n",
       "   cardio_cov_hypertens  cardio_cov_diabetes  cardio_cov_highchol  \n",
       "0                     0                    0                    0  \n",
       "1                     0                    0                    0  \n",
       "2                     0                    0                    1  \n",
       "3                     0                    0                    1  \n",
       "4                     0                    0                    0  "
      ]
     },
     "execution_count": 27,
     "metadata": {},
     "output_type": "execute_result"
    }
   ],
   "source": [
    "gVRF_data.head()"
   ]
  },
  {
   "cell_type": "markdown",
   "metadata": {},
   "source": [
    "In this plot we can see a correlation plot of all the variables being used to extract this gVRF, in which a strong correlation between SBP and DBP is noticeable, as well as for BMI and WHR. This result makes sense since these pairs of variables measure similar VRFs."
   ]
  },
  {
   "cell_type": "code",
   "execution_count": 28,
   "metadata": {},
   "outputs": [
    {
     "data": {
      "image/png": "[encoded data removed]",
      "text/plain": [
       "<Figure size 792x648 with 2 Axes>"
      ]
     },
     "metadata": {
      "needs_background": "light"
     },
     "output_type": "display_data"
    }
   ],
   "source": [
    "cardio_corr = gVRF_data.corr()\n",
    "plt.figure(figsize=(11,9))\n",
    "sns.heatmap(cardio_corr, cmap=plt.cm.RdBu_r)\n",
    "plt.show()"
   ]
  },
  {
   "cell_type": "code",
   "execution_count": 29,
   "metadata": {},
   "outputs": [
    {
     "data": {
      "text/html": [
       "<div>\n",
       "<style scoped>\n",
       "    .dataframe tbody tr th:only-of-type {\n",
       "        vertical-align: middle;\n",
       "    }\n",
       "\n",
       "    .dataframe tbody tr th {\n",
       "        vertical-align: top;\n",
       "    }\n",
       "\n",
       "    .dataframe thead th {\n",
       "        text-align: right;\n",
       "    }\n",
       "</style>\n",
       "<table border=\"1\" class=\"dataframe\">\n",
       "  <thead>\n",
       "    <tr style=\"text-align: right;\">\n",
       "      <th></th>\n",
       "      <th>pack_years_norm</th>\n",
       "      <th>SBP_norm</th>\n",
       "      <th>DBP_norm</th>\n",
       "      <th>BMI_norm</th>\n",
       "      <th>WHR_norm</th>\n",
       "      <th>cardio_cov_hypertens</th>\n",
       "      <th>cardio_cov_diabetes</th>\n",
       "      <th>cardio_cov_highchol</th>\n",
       "    </tr>\n",
       "  </thead>\n",
       "  <tbody>\n",
       "    <tr>\n",
       "      <th>pack_years_norm</th>\n",
       "      <td>1.000000</td>\n",
       "      <td>0.095554</td>\n",
       "      <td>0.051120</td>\n",
       "      <td>0.153932</td>\n",
       "      <td>0.164172</td>\n",
       "      <td>0.091503</td>\n",
       "      <td>0.051235</td>\n",
       "      <td>0.067252</td>\n",
       "    </tr>\n",
       "    <tr>\n",
       "      <th>SBP_norm</th>\n",
       "      <td>0.095554</td>\n",
       "      <td>1.000000</td>\n",
       "      <td>0.705272</td>\n",
       "      <td>0.175163</td>\n",
       "      <td>0.232288</td>\n",
       "      <td>0.236678</td>\n",
       "      <td>0.054996</td>\n",
       "      <td>0.151550</td>\n",
       "    </tr>\n",
       "    <tr>\n",
       "      <th>DBP_norm</th>\n",
       "      <td>0.051120</td>\n",
       "      <td>0.705272</td>\n",
       "      <td>1.000000</td>\n",
       "      <td>0.273815</td>\n",
       "      <td>0.276447</td>\n",
       "      <td>0.220325</td>\n",
       "      <td>0.037273</td>\n",
       "      <td>0.098563</td>\n",
       "    </tr>\n",
       "    <tr>\n",
       "      <th>BMI_norm</th>\n",
       "      <td>0.153932</td>\n",
       "      <td>0.175163</td>\n",
       "      <td>0.273815</td>\n",
       "      <td>1.000000</td>\n",
       "      <td>0.455522</td>\n",
       "      <td>0.165563</td>\n",
       "      <td>0.105392</td>\n",
       "      <td>0.159549</td>\n",
       "    </tr>\n",
       "    <tr>\n",
       "      <th>WHR_norm</th>\n",
       "      <td>0.164172</td>\n",
       "      <td>0.232288</td>\n",
       "      <td>0.276447</td>\n",
       "      <td>0.455522</td>\n",
       "      <td>1.000000</td>\n",
       "      <td>0.193767</td>\n",
       "      <td>0.089974</td>\n",
       "      <td>0.156897</td>\n",
       "    </tr>\n",
       "    <tr>\n",
       "      <th>cardio_cov_hypertens</th>\n",
       "      <td>0.091503</td>\n",
       "      <td>0.236678</td>\n",
       "      <td>0.220325</td>\n",
       "      <td>0.165563</td>\n",
       "      <td>0.193767</td>\n",
       "      <td>1.000000</td>\n",
       "      <td>0.118813</td>\n",
       "      <td>0.264241</td>\n",
       "    </tr>\n",
       "    <tr>\n",
       "      <th>cardio_cov_diabetes</th>\n",
       "      <td>0.051235</td>\n",
       "      <td>0.054996</td>\n",
       "      <td>0.037273</td>\n",
       "      <td>0.105392</td>\n",
       "      <td>0.089974</td>\n",
       "      <td>0.118813</td>\n",
       "      <td>1.000000</td>\n",
       "      <td>0.189009</td>\n",
       "    </tr>\n",
       "    <tr>\n",
       "      <th>cardio_cov_highchol</th>\n",
       "      <td>0.067252</td>\n",
       "      <td>0.151550</td>\n",
       "      <td>0.098563</td>\n",
       "      <td>0.159549</td>\n",
       "      <td>0.156897</td>\n",
       "      <td>0.264241</td>\n",
       "      <td>0.189009</td>\n",
       "      <td>1.000000</td>\n",
       "    </tr>\n",
       "  </tbody>\n",
       "</table>\n",
       "</div>"
      ],
      "text/plain": [
       "                      pack_years_norm  SBP_norm  DBP_norm  BMI_norm  WHR_norm  \\\n",
       "pack_years_norm              1.000000  0.095554  0.051120  0.153932  0.164172   \n",
       "SBP_norm                     0.095554  1.000000  0.705272  0.175163  0.232288   \n",
       "DBP_norm                     0.051120  0.705272  1.000000  0.273815  0.276447   \n",
       "BMI_norm                     0.153932  0.175163  0.273815  1.000000  0.455522   \n",
       "WHR_norm                     0.164172  0.232288  0.276447  0.455522  1.000000   \n",
       "cardio_cov_hypertens         0.091503  0.236678  0.220325  0.165563  0.193767   \n",
       "cardio_cov_diabetes          0.051235  0.054996  0.037273  0.105392  0.089974   \n",
       "cardio_cov_highchol          0.067252  0.151550  0.098563  0.159549  0.156897   \n",
       "\n",
       "                      cardio_cov_hypertens  cardio_cov_diabetes  \\\n",
       "pack_years_norm                   0.091503             0.051235   \n",
       "SBP_norm                          0.236678             0.054996   \n",
       "DBP_norm                          0.220325             0.037273   \n",
       "BMI_norm                          0.165563             0.105392   \n",
       "WHR_norm                          0.193767             0.089974   \n",
       "cardio_cov_hypertens              1.000000             0.118813   \n",
       "cardio_cov_diabetes               0.118813             1.000000   \n",
       "cardio_cov_highchol               0.264241             0.189009   \n",
       "\n",
       "                      cardio_cov_highchol  \n",
       "pack_years_norm                  0.067252  \n",
       "SBP_norm                         0.151550  \n",
       "DBP_norm                         0.098563  \n",
       "BMI_norm                         0.159549  \n",
       "WHR_norm                         0.156897  \n",
       "cardio_cov_hypertens             0.264241  \n",
       "cardio_cov_diabetes              0.189009  \n",
       "cardio_cov_highchol              1.000000  "
      ]
     },
     "execution_count": 29,
     "metadata": {},
     "output_type": "execute_result"
    }
   ],
   "source": [
    "cardio_corr"
   ]
  },
  {
   "cell_type": "markdown",
   "metadata": {},
   "source": [
    "### 4.2.1 Exploratory Factor Analysis (EFA)"
   ]
  },
  {
   "cell_type": "markdown",
   "metadata": {},
   "source": [
    "Factor analysis (FA) is a modeling technique that explains the covariance in data. In FA, the observed variables are linear combinations of the unobserved variables. In addition, underlying factors are labelable and interpretable. We conducted both Exploratory and Confirmatory Factor Analysis (EFA and CFA) using the Factor Analyzer package for python [4]."
   ]
  },
  {
   "cell_type": "markdown",
   "metadata": {},
   "source": [
    "To measure the suitability of FA, two different tests were run: KMO Test and Bartlett’s Test."
   ]
  },
  {
   "cell_type": "markdown",
   "metadata": {},
   "source": [
    "Kaiser-Meyer-Olkin (KMO) Test measures the suitability of data for factor analysis. It determines the adequacy for each observed variable and for the complete model. It estimates the proportion of variance among all the observed variables. Lower\n",
    "proportion is more suitable for factor analysis. KMO values range between 0 and 1, and if the value is less than 0.6 is considered inadequate."
   ]
  },
  {
   "cell_type": "code",
   "execution_count": 30,
   "metadata": {},
   "outputs": [
    {
     "data": {
      "text/plain": [
       "0.6418346201741154"
      ]
     },
     "execution_count": 30,
     "metadata": {},
     "output_type": "execute_result"
    }
   ],
   "source": [
    "from factor_analyzer.factor_analyzer import calculate_kmo\n",
    "kmo_all,kmo_model = calculate_kmo(gVRF_data)\n",
    "kmo_model"
   ]
  },
  {
   "cell_type": "markdown",
   "metadata": {},
   "source": [
    "Bartlett’s test of sphericity checks whether or not the observed variables intercorrelate at all using the observed correlation matrix against the identity matrix. If the test found statistically insignificant, FA should not be employed. On the contrary, if the p-value is close to 0 the test was statistically significant, indicating that the observed correlation matrix is not an identity matrix."
   ]
  },
  {
   "cell_type": "code",
   "execution_count": 31,
   "metadata": {},
   "outputs": [
    {
     "data": {
      "text/plain": [
       "(2719.7108599126655, 0.0)"
      ]
     },
     "execution_count": 31,
     "metadata": {},
     "output_type": "execute_result"
    }
   ],
   "source": [
    "from factor_analyzer.factor_analyzer import calculate_bartlett_sphericity\n",
    "chi_square_value, p_value = calculate_bartlett_sphericity(gVRF_data)\n",
    "chi_square_value, p_value"
   ]
  },
  {
   "cell_type": "markdown",
   "metadata": {},
   "source": [
    "KMO test result and the Bartlett’s testof sphericity are considered adecuate and statisticallysignificant.  Therefore, securing the suitability of the data being used to extract this latent factor for FA."
   ]
  },
  {
   "cell_type": "code",
   "execution_count": 32,
   "metadata": {},
   "outputs": [
    {
     "data": {
      "text/plain": [
       "FactorAnalyzer(n_factors=1, rotation=None, rotation_kwargs={})"
      ]
     },
     "execution_count": 32,
     "metadata": {},
     "output_type": "execute_result"
    }
   ],
   "source": [
    "#Create factor analysis object and perform factor analysis\n",
    "fa_cardio = FactorAnalyzer(1, rotation = None)\n",
    "fa_cardio.fit(gVRF_data)"
   ]
  },
  {
   "cell_type": "markdown",
   "metadata": {},
   "source": [
    "Eigenvalues represent variance explained each factor from the total variance. It is also known as characteristic roots."
   ]
  },
  {
   "cell_type": "code",
   "execution_count": 33,
   "metadata": {},
   "outputs": [
    {
     "data": {
      "text/plain": [
       "array([2.3900766 , 1.23075346, 1.08043631, 0.90243685, 0.85755959,\n",
       "       0.71350639, 0.54463786, 0.28059295])"
      ]
     },
     "execution_count": 33,
     "metadata": {},
     "output_type": "execute_result"
    }
   ],
   "source": [
    "# # Check Eigenvalues\n",
    "ev, v = fa_cardio.get_eigenvalues()\n",
    "ev"
   ]
  },
  {
   "cell_type": "markdown",
   "metadata": {},
   "source": [
    "Kaiser criterion is an analytical approach, which is based on the more significant proportion of variance explained by factor will be selected. The eigenvalue is a good criterion for determining the number of factors. Generally, an eigenvalue greater than 1 will be considered as selection criteria for the feature. The graphical approach is based on the visual representation of factors' eigenvalues also called scree plot. This scree plot helps us to determine the number of factors where the curve makes an elbow."
   ]
  },
  {
   "cell_type": "code",
   "execution_count": 34,
   "metadata": {},
   "outputs": [
    {
     "data": {
      "image/png": "[encoded data removed]",
      "text/plain": [
       "<Figure size 1080x288 with 2 Axes>"
      ]
     },
     "metadata": {
      "needs_background": "light"
     },
     "output_type": "display_data"
    }
   ],
   "source": [
    "fig = plt.figure(figsize=(15,4))\n",
    "fig.add_subplot(121)\n",
    "plt.scatter(range(1,gVRF_data.shape[1]+1),ev)\n",
    "plt.plot(range(1,gVRF_data.shape[1]+1),ev)\n",
    "plt.title('Scree Plot')\n",
    "plt.xlabel('Factors')\n",
    "plt.ylabel('Eigenvalue')\n",
    "plt.grid()\n",
    "fig.add_subplot(122)\n",
    "plt.scatter(range(1,gVRF_data.shape[1]+1),ev)\n",
    "plt.plot(range(1,gVRF_data.shape[1]+1),ev)\n",
    "plt.axhline(1,color='r')\n",
    "plt.title('Scree Plot (Zoom-in)')\n",
    "plt.xlabel('Factors')\n",
    "plt.ylabel('Eigenvalue')\n",
    "plt.grid()\n",
    "plt.show()"
   ]
  },
  {
   "cell_type": "markdown",
   "metadata": {},
   "source": [
    "The factor loading is a matrix which shows the relationship of each variable to the underlying factor. It also shows the correlation coefficient for the observed variables and the factor, and the variance explained by the observed variables."
   ]
  },
  {
   "cell_type": "code",
   "execution_count": 35,
   "metadata": {},
   "outputs": [
    {
     "data": {
      "text/html": [
       "<div>\n",
       "<style scoped>\n",
       "    .dataframe tbody tr th:only-of-type {\n",
       "        vertical-align: middle;\n",
       "    }\n",
       "\n",
       "    .dataframe tbody tr th {\n",
       "        vertical-align: top;\n",
       "    }\n",
       "\n",
       "    .dataframe thead th {\n",
       "        text-align: right;\n",
       "    }\n",
       "</style>\n",
       "<table border=\"1\" class=\"dataframe\">\n",
       "  <thead>\n",
       "    <tr style=\"text-align: right;\">\n",
       "      <th></th>\n",
       "      <th>Loadings</th>\n",
       "    </tr>\n",
       "  </thead>\n",
       "  <tbody>\n",
       "    <tr>\n",
       "      <th>cardio_cov_diabetes</th>\n",
       "      <td>0.155718</td>\n",
       "    </tr>\n",
       "    <tr>\n",
       "      <th>pack_years_norm</th>\n",
       "      <td>0.186169</td>\n",
       "    </tr>\n",
       "    <tr>\n",
       "      <th>cardio_cov_highchol</th>\n",
       "      <td>0.283791</td>\n",
       "    </tr>\n",
       "    <tr>\n",
       "      <th>cardio_cov_hypertens</th>\n",
       "      <td>0.380753</td>\n",
       "    </tr>\n",
       "    <tr>\n",
       "      <th>BMI_norm</th>\n",
       "      <td>0.457422</td>\n",
       "    </tr>\n",
       "    <tr>\n",
       "      <th>WHR_norm</th>\n",
       "      <td>0.490945</td>\n",
       "    </tr>\n",
       "    <tr>\n",
       "      <th>SBP_norm</th>\n",
       "      <td>0.686705</td>\n",
       "    </tr>\n",
       "    <tr>\n",
       "      <th>DBP_norm</th>\n",
       "      <td>0.723294</td>\n",
       "    </tr>\n",
       "  </tbody>\n",
       "</table>\n",
       "</div>"
      ],
      "text/plain": [
       "                      Loadings\n",
       "cardio_cov_diabetes   0.155718\n",
       "pack_years_norm       0.186169\n",
       "cardio_cov_highchol   0.283791\n",
       "cardio_cov_hypertens  0.380753\n",
       "BMI_norm              0.457422\n",
       "WHR_norm              0.490945\n",
       "SBP_norm              0.686705\n",
       "DBP_norm              0.723294"
      ]
     },
     "execution_count": 35,
     "metadata": {},
     "output_type": "execute_result"
    }
   ],
   "source": [
    "cardio_loadings = pd.DataFrame(fa_cardio.loadings_, columns= ['Loadings'], index=gVRF_data.columns)\n",
    "cardio_loadings.sort_values(by=['Loadings'], ascending=True )"
   ]
  },
  {
   "cell_type": "markdown",
   "metadata": {},
   "source": [
    "Commonalities are the sum of the squared loadings for each variable. It represents the common variance. It ranges from 0-1 and value close to 1 represents more variance."
   ]
  },
  {
   "cell_type": "code",
   "execution_count": 36,
   "metadata": {},
   "outputs": [
    {
     "data": {
      "text/html": [
       "<div>\n",
       "<style scoped>\n",
       "    .dataframe tbody tr th:only-of-type {\n",
       "        vertical-align: middle;\n",
       "    }\n",
       "\n",
       "    .dataframe tbody tr th {\n",
       "        vertical-align: top;\n",
       "    }\n",
       "\n",
       "    .dataframe thead th {\n",
       "        text-align: right;\n",
       "    }\n",
       "</style>\n",
       "<table border=\"1\" class=\"dataframe\">\n",
       "  <thead>\n",
       "    <tr style=\"text-align: right;\">\n",
       "      <th></th>\n",
       "      <th>Communality</th>\n",
       "    </tr>\n",
       "  </thead>\n",
       "  <tbody>\n",
       "    <tr>\n",
       "      <th>DBP_norm</th>\n",
       "      <td>0.523154</td>\n",
       "    </tr>\n",
       "    <tr>\n",
       "      <th>SBP_norm</th>\n",
       "      <td>0.471564</td>\n",
       "    </tr>\n",
       "    <tr>\n",
       "      <th>WHR_norm</th>\n",
       "      <td>0.241027</td>\n",
       "    </tr>\n",
       "    <tr>\n",
       "      <th>BMI_norm</th>\n",
       "      <td>0.209235</td>\n",
       "    </tr>\n",
       "    <tr>\n",
       "      <th>cardio_cov_hypertens</th>\n",
       "      <td>0.144973</td>\n",
       "    </tr>\n",
       "    <tr>\n",
       "      <th>cardio_cov_highchol</th>\n",
       "      <td>0.080537</td>\n",
       "    </tr>\n",
       "    <tr>\n",
       "      <th>pack_years_norm</th>\n",
       "      <td>0.034659</td>\n",
       "    </tr>\n",
       "    <tr>\n",
       "      <th>cardio_cov_diabetes</th>\n",
       "      <td>0.024248</td>\n",
       "    </tr>\n",
       "  </tbody>\n",
       "</table>\n",
       "</div>"
      ],
      "text/plain": [
       "                      Communality\n",
       "DBP_norm                 0.523154\n",
       "SBP_norm                 0.471564\n",
       "WHR_norm                 0.241027\n",
       "BMI_norm                 0.209235\n",
       "cardio_cov_hypertens     0.144973\n",
       "cardio_cov_highchol      0.080537\n",
       "pack_years_norm          0.034659\n",
       "cardio_cov_diabetes      0.024248"
      ]
     },
     "execution_count": 36,
     "metadata": {},
     "output_type": "execute_result"
    }
   ],
   "source": [
    "cardio_commu = pd.DataFrame(fa_cardio.get_communalities(), columns= ['Communality'], index= gVRF_data.columns)\n",
    "cardio_commu.sort_values(by=['Communality'], ascending=False )"
   ]
  },
  {
   "cell_type": "markdown",
   "metadata": {},
   "source": [
    "### 4.2.2 Confirmatory Factor Analysis (CFA)"
   ]
  },
  {
   "cell_type": "markdown",
   "metadata": {},
   "source": [
    "A ConfirmatoryFactorAnalyzer class, which fits a confirmatory factor analysis model using maximum likelihood."
   ]
  },
  {
   "cell_type": "code",
   "execution_count": 37,
   "metadata": {},
   "outputs": [],
   "source": [
    "from factor_analyzer import (ConfirmatoryFactorAnalyzer, ModelSpecification)"
   ]
  },
  {
   "cell_type": "code",
   "execution_count": 38,
   "metadata": {},
   "outputs": [],
   "source": [
    "model_specification = ModelSpecification(cardio_loadings.values, 1, 8, cardio_corr.values)"
   ]
  },
  {
   "cell_type": "code",
   "execution_count": 39,
   "metadata": {},
   "outputs": [
    {
     "name": "stderr",
     "output_type": "stream",
     "text": [
      "C:\\Users\\Alejandro\\Downloads\\ANACONDA\\lib\\site-packages\\factor_analyzer\\confirmatory_factor_analyzer.py:733: UserWarning: The optimization routine failed to converge: b'ABNORMAL_TERMINATION_IN_LNSRCH'\n",
      "  'to converge: {}'.format(str(res.message)))\n"
     ]
    },
    {
     "data": {
      "text/plain": [
       "ConfirmatoryFactorAnalyzer(disp=False, n_obs=2065,\n",
       "                           specification=<factor_analyzer.confirmatory_factor_analyzer.ModelSpecification object at 0x00000200818ECF60>)"
      ]
     },
     "execution_count": 39,
     "metadata": {},
     "output_type": "execute_result"
    }
   ],
   "source": [
    "fa_cardio2 = ConfirmatoryFactorAnalyzer(model_specification, disp = False)\n",
    "fa_cardio2.fit(gVRF_data)"
   ]
  },
  {
   "cell_type": "code",
   "execution_count": 40,
   "metadata": {},
   "outputs": [
    {
     "data": {
      "text/html": [
       "<div>\n",
       "<style scoped>\n",
       "    .dataframe tbody tr th:only-of-type {\n",
       "        vertical-align: middle;\n",
       "    }\n",
       "\n",
       "    .dataframe tbody tr th {\n",
       "        vertical-align: top;\n",
       "    }\n",
       "\n",
       "    .dataframe thead th {\n",
       "        text-align: right;\n",
       "    }\n",
       "</style>\n",
       "<table border=\"1\" class=\"dataframe\">\n",
       "  <thead>\n",
       "    <tr style=\"text-align: right;\">\n",
       "      <th></th>\n",
       "      <th>Loadings</th>\n",
       "    </tr>\n",
       "  </thead>\n",
       "  <tbody>\n",
       "    <tr>\n",
       "      <th>DBP_norm</th>\n",
       "      <td>0.723294</td>\n",
       "    </tr>\n",
       "    <tr>\n",
       "      <th>SBP_norm</th>\n",
       "      <td>0.686705</td>\n",
       "    </tr>\n",
       "    <tr>\n",
       "      <th>WHR_norm</th>\n",
       "      <td>0.490945</td>\n",
       "    </tr>\n",
       "    <tr>\n",
       "      <th>BMI_norm</th>\n",
       "      <td>0.457422</td>\n",
       "    </tr>\n",
       "    <tr>\n",
       "      <th>cardio_cov_hypertens</th>\n",
       "      <td>0.380753</td>\n",
       "    </tr>\n",
       "    <tr>\n",
       "      <th>cardio_cov_highchol</th>\n",
       "      <td>0.283791</td>\n",
       "    </tr>\n",
       "    <tr>\n",
       "      <th>pack_years_norm</th>\n",
       "      <td>0.186169</td>\n",
       "    </tr>\n",
       "    <tr>\n",
       "      <th>cardio_cov_diabetes</th>\n",
       "      <td>0.155718</td>\n",
       "    </tr>\n",
       "  </tbody>\n",
       "</table>\n",
       "</div>"
      ],
      "text/plain": [
       "                      Loadings\n",
       "DBP_norm              0.723294\n",
       "SBP_norm              0.686705\n",
       "WHR_norm              0.490945\n",
       "BMI_norm              0.457422\n",
       "cardio_cov_hypertens  0.380753\n",
       "cardio_cov_highchol   0.283791\n",
       "pack_years_norm       0.186169\n",
       "cardio_cov_diabetes   0.155718"
      ]
     },
     "execution_count": 40,
     "metadata": {},
     "output_type": "execute_result"
    }
   ],
   "source": [
    "cardio_loadings = pd.DataFrame(fa_cardio2.loadings_, columns= ['Loadings'], index= gVRF_data.columns)\n",
    "cardio_loadings.sort_values(by=['Loadings'], ascending=False )"
   ]
  },
  {
   "cell_type": "markdown",
   "metadata": {},
   "source": [
    "Loadings are inconsistent (range 0.1557–0.7232), with the factor more strongly loaded towards DBP and SBP."
   ]
  },
  {
   "cell_type": "code",
   "execution_count": 41,
   "metadata": {},
   "outputs": [
    {
     "data": {
      "text/plain": [
       "(2065, 1)"
      ]
     },
     "execution_count": 41,
     "metadata": {},
     "output_type": "execute_result"
    }
   ],
   "source": [
    "g_VRF = fa_cardio2.transform(gVRF_data)\n",
    "g_VRF.shape"
   ]
  },
  {
   "cell_type": "code",
   "execution_count": 42,
   "metadata": {},
   "outputs": [
    {
     "data": {
      "text/plain": [
       "(-2.845107575484941, 3.7170123628733265)"
      ]
     },
     "execution_count": 42,
     "metadata": {},
     "output_type": "execute_result"
    }
   ],
   "source": [
    "data['g_VRF'] = g_VRF\n",
    "min(data['g_VRF']), max(data['g_VRF'])"
   ]
  },
  {
   "cell_type": "code",
   "execution_count": 43,
   "metadata": {},
   "outputs": [
    {
     "data": {
      "text/plain": [
       "<matplotlib.axes._subplots.AxesSubplot at 0x20081a193c8>"
      ]
     },
     "execution_count": 43,
     "metadata": {},
     "output_type": "execute_result"
    },
    {
     "data": {
      "image/png": "[encoded data removed]",
      "text/plain": [
       "<Figure size 432x288 with 1 Axes>"
      ]
     },
     "metadata": {
      "needs_background": "light"
     },
     "output_type": "display_data"
    }
   ],
   "source": [
    "bin_values = np.arange(start=-3, stop=4, step=0.04)\n",
    "data['g_VRF'].plot(kind='hist', bins=bin_values)"
   ]
  },
  {
   "cell_type": "markdown",
   "metadata": {},
   "source": [
    "Here we can see the distribution of our derived gVRF, which is as well centered at 0 and has a normal distribution, similar to the variables to which this latent factor was derived with."
   ]
  },
  {
   "cell_type": "code",
   "execution_count": 44,
   "metadata": {},
   "outputs": [],
   "source": [
    "data.to_csv(r'casuality_data_final_factor_analyzer.csv', index = False)"
   ]
  },
  {
   "cell_type": "markdown",
   "metadata": {},
   "source": [
    "# 5. References"
   ]
  },
  {
   "cell_type": "markdown",
   "metadata": {},
   "source": [
    "[1]: [Martin-Isla, Carlos et al. (2020)](https://www.frontiersin.org/articles/10.3389/fcvm.2020.00001/full). Image-Based Cardiac Diagnosis With Machine Learning: A Review\n",
    "\n",
    "[2]: [Cox, Simon R et al. (Mar. 2019a)](https://academic.oup.com/eurheartj/article/40/28/2290/5371095). Associations between vascular risk factors and brain MRI indices in UK Biobank\n",
    "\n",
    "[3]: [Wardlaw, JM. et al. (2014)](https://www.ncbi.nlm.nih.gov/pmc/articles/PMC4001185/). Vascular risk factors, large-artery atheroma, and brain white matter hyperintensities\n",
    "\n",
    "[4]: [Navlani, A. (2019)](https://www.datacamp.com/community/tutorials/introduction-factor-analysis). Introduction to Factor Analysis in Python"
   ]
  }
 ],
 "metadata": {
  "kernelspec": {
   "display_name": "Python 3",
   "language": "python",
   "name": "python3"
  },
  "language_info": {
   "codemirror_mode": {
    "name": "ipython",
    "version": 3
   },
   "file_extension": ".py",
   "mimetype": "text/x-python",
   "name": "python",
   "nbconvert_exporter": "python",
   "pygments_lexer": "ipython3",
   "version": "3.7.3"
  }
 },
 "nbformat": 4,
 "nbformat_minor": 2
}
