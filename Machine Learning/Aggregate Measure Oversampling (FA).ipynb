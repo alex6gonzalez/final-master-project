{
 "cells": [
  {
   "cell_type": "code",
   "execution_count": 1,
   "metadata": {},
   "outputs": [],
   "source": [
    "import numpy as np\n",
    "import pandas as pd\n",
    "import matplotlib.pyplot as plt\n",
    "from sklearn.preprocessing import MinMaxScaler\n",
    "from sklearn.model_selection import train_test_split\n",
    "from sklearn.ensemble import RandomForestClassifier\n",
    "from sklearn.metrics import f1_score, accuracy_score, confusion_matrix, classification_report, roc_auc_score, roc_curve\n",
    "from sklearn.decomposition import FactorAnalysis\n",
    "import seaborn as sns\n",
    "from sklearn.utils import resample"
   ]
  },
  {
   "cell_type": "markdown",
   "metadata": {},
   "source": [
    "# 1. Predicting Aggregate Measure with FA"
   ]
  },
  {
   "cell_type": "markdown",
   "metadata": {},
   "source": [
    "Our aggregate measure of vascular risk is a discrete categorical variable. Therefore,\n",
    "we considered that the optimal algorithm to predict it is a supervised learning model\n",
    "for the classification of the aggregate measure, which values range from 0 to 5. In\n",
    "addition, due to the imbalanced nature of our target variable, we considered that\n",
    "the best algorithm to choose is Random Forest (RF) from the \"ensemble\" class in\n",
    "Scikit-learn [1]."
   ]
  },
  {
   "cell_type": "code",
   "execution_count": 2,
   "metadata": {},
   "outputs": [
    {
     "data": {
      "text/plain": [
       "(2065, 1428)"
      ]
     },
     "execution_count": 2,
     "metadata": {},
     "output_type": "execute_result"
    }
   ],
   "source": [
    "# Loading the data\n",
    "data = pd.read_csv('casuality_data_final_factor_analyzer.csv')\n",
    "data.shape"
   ]
  },
  {
   "cell_type": "code",
   "execution_count": 3,
   "metadata": {},
   "outputs": [
    {
     "data": {
      "text/plain": [
       "<matplotlib.axes._subplots.AxesSubplot at 0x233cabc8cf8>"
      ]
     },
     "execution_count": 3,
     "metadata": {},
     "output_type": "execute_result"
    },
    {
     "data": {
      "image/png": "[encoded data removed]",
      "text/plain": [
       "<Figure size 432x288 with 1 Axes>"
      ]
     },
     "metadata": {
      "needs_background": "light"
     },
     "output_type": "display_data"
    }
   ],
   "source": [
    "# Cardiovascular risk score\n",
    "Y0 = data[\"agg_score\"]\n",
    "bin_values = np.arange(start=0, stop=6, step=0.5)\n",
    "Y0.plot(kind='hist', bins=bin_values)"
   ]
  },
  {
   "cell_type": "code",
   "execution_count": 4,
   "metadata": {},
   "outputs": [
    {
     "data": {
      "text/plain": [
       "((523, 1428),\n",
       " (606, 1428),\n",
       " (555, 1428),\n",
       " (273, 1428),\n",
       " (91, 1428),\n",
       " (17, 1428),\n",
       " (381, 1428))"
      ]
     },
     "execution_count": 4,
     "metadata": {},
     "output_type": "execute_result"
    }
   ],
   "source": [
    "# Splitting each class from our target variable\n",
    "S0 = data.loc[data['agg_score'] == 0]\n",
    "S1 = data.loc[data['agg_score'] == 1]\n",
    "S2 = data.loc[data['agg_score'] == 2]\n",
    "S3 = data.loc[data['agg_score'] == 3]\n",
    "S4 = data.loc[data['agg_score'] == 4]\n",
    "S5 = data.loc[data['agg_score'] == 5]\n",
    "S345 = pd.concat((S3, S4, S5), axis=0)\n",
    "S0.shape, S1.shape, S2.shape, S3.shape, S4.shape, S5.shape, S345.shape"
   ]
  },
  {
   "cell_type": "markdown",
   "metadata": {},
   "source": [
    "Random oversampling involves randomly duplicating examples from the minority\n",
    "class and adding them to the training dataset. Examples from the training dataset are\n",
    "selected randomly with replacement. This means that examples from the minority\n",
    "class can be chosen and added to the new “more balanced” training dataset multiple\n",
    "times."
   ]
  },
  {
   "cell_type": "code",
   "execution_count": 5,
   "metadata": {},
   "outputs": [
    {
     "data": {
      "text/plain": [
       "((1212, 1428),\n",
       " (1110, 1428),\n",
       " (1046, 1428),\n",
       " (1046, 1428),\n",
       " (1046, 1428),\n",
       " (1046, 1428))"
      ]
     },
     "execution_count": 5,
     "metadata": {},
     "output_type": "execute_result"
    }
   ],
   "source": [
    "# Oversample minority class\n",
    "S0_over = resample(S0, replace=True, n_samples=606, random_state=123) \n",
    "S_0vs1 = pd.concat((S0_over, S1), axis=0)\n",
    "S0_over2 = resample(S0, replace=True, n_samples=555, random_state=123)\n",
    "S_0vs2 = pd.concat((S0_over2, S2), axis=0)\n",
    "S3_over = resample(S3, replace=True, n_samples=523, random_state=123)\n",
    "S_0vs3 = pd.concat((S0, S3_over), axis=0)\n",
    "S4_over = resample(S4, replace=True, n_samples=523, random_state=123)\n",
    "S_0vs4 = pd.concat((S0, S4_over), axis=0)\n",
    "S5_over = resample(S5, replace=True, n_samples=523, random_state=123)\n",
    "S_0vs5 = pd.concat((S0, S5_over), axis=0)\n",
    "S345_over = resample(S345, replace=True, n_samples=523, random_state=123)\n",
    "S_0vs345 = pd.concat((S0, S345_over), axis=0)\n",
    "S_0vs1.shape, S_0vs2.shape, S_0vs3.shape, S_0vs4.shape, S_0vs5.shape, S_0vs345.shape "
   ]
  },
  {
   "cell_type": "code",
   "execution_count": 6,
   "metadata": {},
   "outputs": [],
   "source": [
    "# Mapping values in binarized targets\n",
    "S_0vs1[\"agg_score\"] = S_0vs1[\"agg_score\"].map({0:0, 1:1})\n",
    "S_0vs2[\"agg_score\"] = S_0vs2[\"agg_score\"].map({0:0, 2:1})\n",
    "S_0vs3[\"agg_score\"] = S_0vs3[\"agg_score\"].map({0:0, 3:1})\n",
    "S_0vs4[\"agg_score\"] = S_0vs4[\"agg_score\"].map({0:0, 4:1})\n",
    "S_0vs5[\"agg_score\"] = S_0vs5[\"agg_score\"].map({0:0, 5:1})\n",
    "S_0vs345[\"agg_score\"] = S_0vs345[\"agg_score\"].map({0:0, 3:1, 4:1, 5:1})"
   ]
  },
  {
   "cell_type": "code",
   "execution_count": 7,
   "metadata": {},
   "outputs": [
    {
     "data": {
      "text/plain": [
       "<matplotlib.axes._subplots.AxesSubplot at 0x233cad0c2b0>"
      ]
     },
     "execution_count": 7,
     "metadata": {},
     "output_type": "execute_result"
    },
    {
     "data": {
      "image/png": "[encoded data removed]",
      "text/plain": [
       "<Figure size 432x288 with 1 Axes>"
      ]
     },
     "metadata": {
      "needs_background": "light"
     },
     "output_type": "display_data"
    }
   ],
   "source": [
    "# Visualizing binary target class\n",
    "Y0 = S_0vs5[\"agg_score\"]\n",
    "bin_values = np.arange(start=0, stop=1.6, step=0.5)\n",
    "Y0.plot(kind='hist', bins=bin_values)"
   ]
  },
  {
   "cell_type": "code",
   "execution_count": 8,
   "metadata": {},
   "outputs": [
    {
     "data": {
      "text/plain": [
       "((1046, 630), (1046, 744), (1046, 9))"
      ]
     },
     "execution_count": 8,
     "metadata": {},
     "output_type": "execute_result"
    }
   ],
   "source": [
    "# Filtering data groups\n",
    "heart_df = S_0vs5.filter(regex='heart')\n",
    "cardio_cmr_df = S_0vs5.filter(regex='cardio_cmr')\n",
    "brain_df = S_0vs5.filter(regex='brain')\n",
    "heart_df.shape, brain_df.shape, cardio_cmr_df.shape"
   ]
  },
  {
   "cell_type": "code",
   "execution_count": 9,
   "metadata": {},
   "outputs": [],
   "source": [
    "# our model\n",
    "RF = RandomForestClassifier()"
   ]
  },
  {
   "cell_type": "markdown",
   "metadata": {},
   "source": [
    "This popular technique consists of a combination of decision trees (DTs) trained on\n",
    "different random samples of the training set. Each DT is a set of rules based on the\n",
    "input features values optimized for accurately classifying all elements of the training\n",
    "set. DTs are nonlinear models and tend to have high variance"
   ]
  },
  {
   "cell_type": "markdown",
   "metadata": {},
   "source": [
    "## 1.1 Predicting aggregate measure of vascular risk with heart variables"
   ]
  },
  {
   "cell_type": "code",
   "execution_count": 10,
   "metadata": {},
   "outputs": [],
   "source": [
    "# Input variables\n",
    "Y0 = S_0vs5[\"agg_score\"]\n",
    "X1 = heart_df"
   ]
  },
  {
   "cell_type": "code",
   "execution_count": 11,
   "metadata": {},
   "outputs": [
    {
     "data": {
      "text/plain": [
       "(1046, 5)"
      ]
     },
     "execution_count": 11,
     "metadata": {},
     "output_type": "execute_result"
    }
   ],
   "source": [
    "# Dimensionality reduction\n",
    "factor_heart = FactorAnalysis(n_components=5)\n",
    "X_heart_cfa = factor_heart.fit_transform(X1, Y0)\n",
    "X_heart_cfa.shape"
   ]
  },
  {
   "cell_type": "code",
   "execution_count": 12,
   "metadata": {},
   "outputs": [
    {
     "data": {
      "text/plain": [
       "((732, 5), (314, 5), (732,), (314,))"
      ]
     },
     "execution_count": 12,
     "metadata": {},
     "output_type": "execute_result"
    }
   ],
   "source": [
    "# Splitting our input data into training set and testing set\n",
    "X_train, X_test, y_train, y_test = train_test_split(X_heart_cfa, Y0, test_size= 0.3, random_state=42)\n",
    "X_train.shape, X_test.shape, y_train.shape, y_test.shape"
   ]
  },
  {
   "cell_type": "code",
   "execution_count": 13,
   "metadata": {},
   "outputs": [],
   "source": [
    "# Data normalization\n",
    "scaler = MinMaxScaler()\n",
    "X_train = scaler.fit_transform(X_train)\n",
    "X_test = scaler.transform(X_test)"
   ]
  },
  {
   "cell_type": "code",
   "execution_count": 14,
   "metadata": {},
   "outputs": [
    {
     "data": {
      "text/plain": [
       "0.9904458598726115"
      ]
     },
     "execution_count": 14,
     "metadata": {},
     "output_type": "execute_result"
    }
   ],
   "source": [
    "# Fitting the model and doing the predictions\n",
    "RF.fit(X_train, y_train)\n",
    "y_pred=RF.predict(X_test)\n",
    "accuracy_score(y_test, y_pred)"
   ]
  },
  {
   "cell_type": "code",
   "execution_count": 15,
   "metadata": {},
   "outputs": [
    {
     "name": "stdout",
     "output_type": "stream",
     "text": [
      "              precision    recall  f1-score   support\n",
      "\n",
      "           0       1.00      0.98      0.99       165\n",
      "           1       0.98      1.00      0.99       149\n",
      "\n",
      "    accuracy                           0.99       314\n",
      "   macro avg       0.99      0.99      0.99       314\n",
      "weighted avg       0.99      0.99      0.99       314\n",
      "\n"
     ]
    }
   ],
   "source": [
    "print(classification_report(y_test, y_pred))"
   ]
  },
  {
   "cell_type": "code",
   "execution_count": 16,
   "metadata": {},
   "outputs": [
    {
     "data": {
      "image/png": "[encoded data removed]",
      "text/plain": [
       "<Figure size 576x288 with 2 Axes>"
      ]
     },
     "metadata": {
      "needs_background": "light"
     },
     "output_type": "display_data"
    }
   ],
   "source": [
    "cm = confusion_matrix(y_test, y_pred)\n",
    "cm_normalized = cm.astype('float') / cm.sum(axis=1)[:, np.newaxis]\n",
    "plt.figure(figsize=(8,4))\n",
    "plt.imshow(cm_normalized, interpolation='nearest', cmap=plt.cm.Blues)\n",
    "plt.title(\"Confusion Matrix Train/Val\")\n",
    "plt.colorbar()\n",
    "plt.tight_layout()\n",
    "tick_marks = np.arange(len(Y0.unique().tolist()))\n",
    "plt.xticks(tick_marks, Y0.unique().tolist(), rotation=45)\n",
    "plt.yticks(tick_marks, Y0.unique().tolist())\n",
    "plt.ylabel('True label')\n",
    "plt.xlabel('Predicted label')\n",
    "plt.show()"
   ]
  },
  {
   "cell_type": "code",
   "execution_count": 17,
   "metadata": {},
   "outputs": [],
   "source": [
    "def plot_roc_curve(fpr, tpr):\n",
    "    plt.plot(fpr, tpr, color='orange', label='ROC')\n",
    "    plt.plot([0, 1], [0, 1], color='darkblue', linestyle='--')\n",
    "    plt.xlabel('False Positive Rate')\n",
    "    plt.ylabel('True Positive Rate')\n",
    "    plt.title('Receiver Operating Characteristic (ROC) Curve')\n",
    "    plt.legend()\n",
    "    plt.show()"
   ]
  },
  {
   "cell_type": "code",
   "execution_count": 18,
   "metadata": {},
   "outputs": [],
   "source": [
    "probs = RF.predict_proba(X_test)\n",
    "probs = probs[:, 1]"
   ]
  },
  {
   "cell_type": "code",
   "execution_count": 19,
   "metadata": {},
   "outputs": [
    {
     "name": "stdout",
     "output_type": "stream",
     "text": [
      "AUC: 1.0000\n"
     ]
    }
   ],
   "source": [
    "# Compute the AUC Score.\n",
    "auc = roc_auc_score(y_test, probs)\n",
    "print('AUC: %.4f' % auc)"
   ]
  },
  {
   "cell_type": "code",
   "execution_count": 20,
   "metadata": {},
   "outputs": [],
   "source": [
    "# Get the ROC Curve\n",
    "fpr, tpr, thresholds = roc_curve(y_test, probs)"
   ]
  },
  {
   "cell_type": "code",
   "execution_count": 21,
   "metadata": {},
   "outputs": [
    {
     "data": {
      "image/png": "[encoded data removed]",
      "text/plain": [
       "<Figure size 432x288 with 1 Axes>"
      ]
     },
     "metadata": {
      "needs_background": "light"
     },
     "output_type": "display_data"
    }
   ],
   "source": [
    "plot_roc_curve(fpr, tpr)"
   ]
  },
  {
   "cell_type": "markdown",
   "metadata": {},
   "source": [
    "## 1.2 Predicting aggregate measure of vascular risk with CMR variables"
   ]
  },
  {
   "cell_type": "code",
   "execution_count": 22,
   "metadata": {},
   "outputs": [],
   "source": [
    "# Input variables\n",
    "Y0 = S_0vs5[\"agg_score\"]\n",
    "X1 = cardio_cmr_df"
   ]
  },
  {
   "cell_type": "code",
   "execution_count": 23,
   "metadata": {},
   "outputs": [
    {
     "data": {
      "text/plain": [
       "(1046, 5)"
      ]
     },
     "execution_count": 23,
     "metadata": {},
     "output_type": "execute_result"
    }
   ],
   "source": [
    "# Dimensionality reduction\n",
    "factor_cardio = FactorAnalysis(n_components=5)\n",
    "X_cmr_cfa = factor_cardio.fit_transform(X1, Y0)\n",
    "X_cmr_cfa.shape"
   ]
  },
  {
   "cell_type": "code",
   "execution_count": 24,
   "metadata": {},
   "outputs": [
    {
     "data": {
      "text/plain": [
       "((732, 5), (314, 5), (732,), (314,))"
      ]
     },
     "execution_count": 24,
     "metadata": {},
     "output_type": "execute_result"
    }
   ],
   "source": [
    "# Splitting our input data into training set and testing set\n",
    "X_train, X_test, y_train, y_test = train_test_split(X_cmr_cfa, Y0, test_size= 0.3, random_state=42)\n",
    "X_train.shape, X_test.shape, y_train.shape, y_test.shape"
   ]
  },
  {
   "cell_type": "code",
   "execution_count": 25,
   "metadata": {},
   "outputs": [],
   "source": [
    "# Data normalization\n",
    "scaler = MinMaxScaler()\n",
    "X_train = scaler.fit_transform(X_train)\n",
    "X_test = scaler.transform(X_test)"
   ]
  },
  {
   "cell_type": "code",
   "execution_count": 26,
   "metadata": {},
   "outputs": [
    {
     "data": {
      "text/plain": [
       "0.9808917197452229"
      ]
     },
     "execution_count": 26,
     "metadata": {},
     "output_type": "execute_result"
    }
   ],
   "source": [
    "# Fitting the model and doing the predictions\n",
    "RF.fit(X_train, y_train)\n",
    "y_pred=RF.predict(X_test)\n",
    "accuracy_score(y_test, y_pred)"
   ]
  },
  {
   "cell_type": "code",
   "execution_count": 27,
   "metadata": {},
   "outputs": [
    {
     "name": "stdout",
     "output_type": "stream",
     "text": [
      "              precision    recall  f1-score   support\n",
      "\n",
      "           0       1.00      0.96      0.98       165\n",
      "           1       0.96      1.00      0.98       149\n",
      "\n",
      "    accuracy                           0.98       314\n",
      "   macro avg       0.98      0.98      0.98       314\n",
      "weighted avg       0.98      0.98      0.98       314\n",
      "\n"
     ]
    }
   ],
   "source": [
    "print(classification_report(y_test, y_pred))"
   ]
  },
  {
   "cell_type": "code",
   "execution_count": 28,
   "metadata": {},
   "outputs": [
    {
     "data": {
      "image/png": "[encoded data removed]",
      "text/plain": [
       "<Figure size 576x288 with 2 Axes>"
      ]
     },
     "metadata": {
      "needs_background": "light"
     },
     "output_type": "display_data"
    }
   ],
   "source": [
    "cm = confusion_matrix(y_test, y_pred)\n",
    "cm_normalized = cm.astype('float') / cm.sum(axis=1)[:, np.newaxis]\n",
    "plt.figure(figsize=(8,4))\n",
    "plt.imshow(cm_normalized, interpolation='nearest', cmap=plt.cm.Blues)\n",
    "plt.title(\"Confusion Matrix Train/Val\")\n",
    "plt.colorbar()\n",
    "plt.tight_layout()\n",
    "tick_marks = np.arange(len(Y0.unique().tolist()))\n",
    "plt.xticks(tick_marks, Y0.unique().tolist(), rotation=45)\n",
    "plt.yticks(tick_marks, Y0.unique().tolist())\n",
    "plt.ylabel('True label')\n",
    "plt.xlabel('Predicted label')\n",
    "plt.show()"
   ]
  },
  {
   "cell_type": "code",
   "execution_count": 29,
   "metadata": {},
   "outputs": [],
   "source": [
    "def plot_roc_curve(fpr, tpr):\n",
    "    plt.plot(fpr, tpr, color='orange', label='ROC')\n",
    "    plt.plot([0, 1], [0, 1], color='darkblue', linestyle='--')\n",
    "    plt.xlabel('False Positive Rate')\n",
    "    plt.ylabel('True Positive Rate')\n",
    "    plt.title('Receiver Operating Characteristic (ROC) Curve')\n",
    "    plt.legend()\n",
    "    plt.show()"
   ]
  },
  {
   "cell_type": "code",
   "execution_count": 30,
   "metadata": {},
   "outputs": [],
   "source": [
    "probs = RF.predict_proba(X_test)\n",
    "probs = probs[:, 1]"
   ]
  },
  {
   "cell_type": "code",
   "execution_count": 31,
   "metadata": {},
   "outputs": [
    {
     "name": "stdout",
     "output_type": "stream",
     "text": [
      "AUC: 1.0000\n"
     ]
    }
   ],
   "source": [
    "# Compute the AUC Score.\n",
    "auc = roc_auc_score(y_test, probs)\n",
    "print('AUC: %.4f' % auc)"
   ]
  },
  {
   "cell_type": "code",
   "execution_count": 32,
   "metadata": {},
   "outputs": [],
   "source": [
    "# Get the ROC Curve\n",
    "fpr, tpr, thresholds = roc_curve(y_test, probs)"
   ]
  },
  {
   "cell_type": "code",
   "execution_count": 33,
   "metadata": {},
   "outputs": [
    {
     "data": {
      "image/png": "[encoded data removed]",
      "text/plain": [
       "<Figure size 432x288 with 1 Axes>"
      ]
     },
     "metadata": {
      "needs_background": "light"
     },
     "output_type": "display_data"
    }
   ],
   "source": [
    "plot_roc_curve(fpr, tpr)"
   ]
  },
  {
   "cell_type": "markdown",
   "metadata": {},
   "source": [
    "## 1.3 Predicting aggregate measure of vascular risk with brain variables"
   ]
  },
  {
   "cell_type": "code",
   "execution_count": 34,
   "metadata": {},
   "outputs": [],
   "source": [
    "# Input variables\n",
    "Y0 = S_0vs5[\"agg_score\"]\n",
    "X1 = brain_df"
   ]
  },
  {
   "cell_type": "code",
   "execution_count": 35,
   "metadata": {},
   "outputs": [
    {
     "data": {
      "text/plain": [
       "(1046, 5)"
      ]
     },
     "execution_count": 35,
     "metadata": {},
     "output_type": "execute_result"
    }
   ],
   "source": [
    "# Dimensionality reduction\n",
    "factor_brain = FactorAnalysis(n_components=5)\n",
    "X_brain_cfa = factor_brain.fit_transform(X1, Y0)\n",
    "X_brain_cfa.shape"
   ]
  },
  {
   "cell_type": "code",
   "execution_count": 36,
   "metadata": {},
   "outputs": [
    {
     "data": {
      "text/plain": [
       "((732, 5), (314, 5), (732,), (314,))"
      ]
     },
     "execution_count": 36,
     "metadata": {},
     "output_type": "execute_result"
    }
   ],
   "source": [
    "# Splitting our input data into training set and testing set\n",
    "X_train, X_test, y_train, y_test = train_test_split(X_brain_cfa, Y0, test_size= 0.3, random_state=42)\n",
    "X_train.shape, X_test.shape, y_train.shape, y_test.shape"
   ]
  },
  {
   "cell_type": "code",
   "execution_count": 37,
   "metadata": {},
   "outputs": [],
   "source": [
    "# Data normalization\n",
    "scaler = MinMaxScaler()\n",
    "X_train = scaler.fit_transform(X_train)\n",
    "X_test = scaler.transform(X_test)"
   ]
  },
  {
   "cell_type": "code",
   "execution_count": 38,
   "metadata": {},
   "outputs": [
    {
     "data": {
      "text/plain": [
       "0.9968152866242038"
      ]
     },
     "execution_count": 38,
     "metadata": {},
     "output_type": "execute_result"
    }
   ],
   "source": [
    "# Fitting the model and doing the predictions\n",
    "RF.fit(X_train, y_train)\n",
    "y_pred=RF.predict(X_test)\n",
    "accuracy_score(y_test, y_pred)"
   ]
  },
  {
   "cell_type": "code",
   "execution_count": 39,
   "metadata": {},
   "outputs": [
    {
     "name": "stdout",
     "output_type": "stream",
     "text": [
      "              precision    recall  f1-score   support\n",
      "\n",
      "           0       1.00      0.99      1.00       165\n",
      "           1       0.99      1.00      1.00       149\n",
      "\n",
      "    accuracy                           1.00       314\n",
      "   macro avg       1.00      1.00      1.00       314\n",
      "weighted avg       1.00      1.00      1.00       314\n",
      "\n"
     ]
    }
   ],
   "source": [
    "print(classification_report(y_test, y_pred))"
   ]
  },
  {
   "cell_type": "code",
   "execution_count": 40,
   "metadata": {},
   "outputs": [
    {
     "data": {
      "image/png": "[encoded data removed]",
      "text/plain": [
       "<Figure size 576x288 with 2 Axes>"
      ]
     },
     "metadata": {
      "needs_background": "light"
     },
     "output_type": "display_data"
    }
   ],
   "source": [
    "cm = confusion_matrix(y_test, y_pred)\n",
    "cm_normalized = cm.astype('float') / cm.sum(axis=1)[:, np.newaxis]\n",
    "plt.figure(figsize=(8,4))\n",
    "plt.imshow(cm_normalized, interpolation='nearest', cmap=plt.cm.Blues)\n",
    "plt.title(\"Confusion Matrix Train/Val\")\n",
    "plt.colorbar()\n",
    "plt.tight_layout()\n",
    "tick_marks = np.arange(len(Y0.unique().tolist()))\n",
    "plt.xticks(tick_marks, Y0.unique().tolist(), rotation=45)\n",
    "plt.yticks(tick_marks, Y0.unique().tolist())\n",
    "plt.ylabel('True label')\n",
    "plt.xlabel('Predicted label')\n",
    "plt.show()"
   ]
  },
  {
   "cell_type": "code",
   "execution_count": 41,
   "metadata": {},
   "outputs": [],
   "source": [
    "probs = RF.predict_proba(X_test)\n",
    "probs = probs[:, 1]"
   ]
  },
  {
   "cell_type": "code",
   "execution_count": 42,
   "metadata": {},
   "outputs": [
    {
     "name": "stdout",
     "output_type": "stream",
     "text": [
      "AUC: 1.0000\n"
     ]
    }
   ],
   "source": [
    "# Compute the AUC Score.\n",
    "auc = roc_auc_score(y_test, probs)\n",
    "print('AUC: %.4f' % auc)"
   ]
  },
  {
   "cell_type": "code",
   "execution_count": 43,
   "metadata": {},
   "outputs": [],
   "source": [
    "# Get the ROC Curve\n",
    "fpr, tpr, thresholds = roc_curve(y_test, probs)"
   ]
  },
  {
   "cell_type": "code",
   "execution_count": 44,
   "metadata": {},
   "outputs": [
    {
     "data": {
      "image/png": "[encoded data removed]",
      "text/plain": [
       "<Figure size 432x288 with 1 Axes>"
      ]
     },
     "metadata": {
      "needs_background": "light"
     },
     "output_type": "display_data"
    }
   ],
   "source": [
    "plot_roc_curve(fpr, tpr)"
   ]
  },
  {
   "cell_type": "markdown",
   "metadata": {},
   "source": [
    "## 1.4 Predicting aggregate measure of vascular risk with heart/brain combinations"
   ]
  },
  {
   "cell_type": "code",
   "execution_count": 45,
   "metadata": {},
   "outputs": [
    {
     "data": {
      "text/plain": [
       "((1046, 630), (1046, 744))"
      ]
     },
     "execution_count": 45,
     "metadata": {},
     "output_type": "execute_result"
    }
   ],
   "source": [
    "# Input variables\n",
    "Y0 = S_0vs5[\"agg_score\"]\n",
    "X1 = heart_df\n",
    "X2 = brain_df\n",
    "X1.shape, X2.shape"
   ]
  },
  {
   "cell_type": "code",
   "execution_count": 46,
   "metadata": {},
   "outputs": [
    {
     "data": {
      "text/plain": [
       "(1046, 1374)"
      ]
     },
     "execution_count": 46,
     "metadata": {},
     "output_type": "execute_result"
    }
   ],
   "source": [
    "# Combining datasets\n",
    "X_combination_cfa = pd.concat((X1, X2), axis=1)\n",
    "X_combination_cfa.shape"
   ]
  },
  {
   "cell_type": "code",
   "execution_count": 47,
   "metadata": {},
   "outputs": [
    {
     "data": {
      "text/plain": [
       "(1046, 5)"
      ]
     },
     "execution_count": 47,
     "metadata": {},
     "output_type": "execute_result"
    }
   ],
   "source": [
    "# Dimensionality reduction\n",
    "factor_1 = FactorAnalysis(n_components=5)\n",
    "X__cfa_1 = factor_1.fit_transform(X_combination_cfa, Y0)\n",
    "X__cfa_1.shape"
   ]
  },
  {
   "cell_type": "code",
   "execution_count": 48,
   "metadata": {},
   "outputs": [
    {
     "data": {
      "text/plain": [
       "((732, 5), (314, 5), (732,), (314,))"
      ]
     },
     "execution_count": 48,
     "metadata": {},
     "output_type": "execute_result"
    }
   ],
   "source": [
    "# Splitting our input data into training set and testing set\n",
    "X_train, X_test, y_train, y_test = train_test_split(X__cfa_1, Y0, test_size= 0.3, random_state=42)\n",
    "X_train.shape, X_test.shape, y_train.shape, y_test.shape"
   ]
  },
  {
   "cell_type": "code",
   "execution_count": 49,
   "metadata": {},
   "outputs": [],
   "source": [
    "# Data normalization\n",
    "scaler = MinMaxScaler()\n",
    "X_train = scaler.fit_transform(X_train)\n",
    "X_test = scaler.transform(X_test)"
   ]
  },
  {
   "cell_type": "code",
   "execution_count": 50,
   "metadata": {},
   "outputs": [
    {
     "data": {
      "text/plain": [
       "0.9968152866242038"
      ]
     },
     "execution_count": 50,
     "metadata": {},
     "output_type": "execute_result"
    }
   ],
   "source": [
    "# Fitting the model and doing the predictions\n",
    "RF.fit(X_train, y_train)\n",
    "y_pred=RF.predict(X_test)\n",
    "accuracy_score(y_test, y_pred)"
   ]
  },
  {
   "cell_type": "code",
   "execution_count": 51,
   "metadata": {},
   "outputs": [
    {
     "name": "stdout",
     "output_type": "stream",
     "text": [
      "              precision    recall  f1-score   support\n",
      "\n",
      "           0       1.00      0.99      1.00       165\n",
      "           1       0.99      1.00      1.00       149\n",
      "\n",
      "    accuracy                           1.00       314\n",
      "   macro avg       1.00      1.00      1.00       314\n",
      "weighted avg       1.00      1.00      1.00       314\n",
      "\n"
     ]
    }
   ],
   "source": [
    "print(classification_report(y_test, y_pred))"
   ]
  },
  {
   "cell_type": "code",
   "execution_count": 52,
   "metadata": {},
   "outputs": [
    {
     "data": {
      "image/png": "[encoded data removed]",
      "text/plain": [
       "<Figure size 576x288 with 2 Axes>"
      ]
     },
     "metadata": {
      "needs_background": "light"
     },
     "output_type": "display_data"
    }
   ],
   "source": [
    "cm = confusion_matrix(y_test, y_pred)\n",
    "cm_normalized = cm.astype('float') / cm.sum(axis=1)[:, np.newaxis]\n",
    "plt.figure(figsize=(8,4))\n",
    "plt.imshow(cm_normalized, interpolation='nearest', cmap=plt.cm.Blues)\n",
    "plt.title(\"Confusion Matrix Train/Val\")\n",
    "plt.colorbar()\n",
    "plt.tight_layout()\n",
    "tick_marks = np.arange(len(Y0.unique().tolist()))\n",
    "plt.xticks(tick_marks, Y0.unique().tolist(), rotation=45)\n",
    "plt.yticks(tick_marks, Y0.unique().tolist())\n",
    "plt.ylabel('True label')\n",
    "plt.xlabel('Predicted label')\n",
    "plt.show()"
   ]
  },
  {
   "cell_type": "code",
   "execution_count": 53,
   "metadata": {},
   "outputs": [],
   "source": [
    "probs = RF.predict_proba(X_test)\n",
    "probs = probs[:, 1]"
   ]
  },
  {
   "cell_type": "code",
   "execution_count": 54,
   "metadata": {},
   "outputs": [
    {
     "name": "stdout",
     "output_type": "stream",
     "text": [
      "AUC: 1.0000\n"
     ]
    }
   ],
   "source": [
    "# Compute the AUC Score.\n",
    "auc = roc_auc_score(y_test, probs)\n",
    "print('AUC: %.4f' % auc)"
   ]
  },
  {
   "cell_type": "code",
   "execution_count": 55,
   "metadata": {},
   "outputs": [],
   "source": [
    "# Get the ROC Curve\n",
    "fpr, tpr, thresholds = roc_curve(y_test, probs)"
   ]
  },
  {
   "cell_type": "code",
   "execution_count": 56,
   "metadata": {},
   "outputs": [
    {
     "data": {
      "image/png": "[encoded data removed]",
      "text/plain": [
       "<Figure size 432x288 with 1 Axes>"
      ]
     },
     "metadata": {
      "needs_background": "light"
     },
     "output_type": "display_data"
    }
   ],
   "source": [
    "plot_roc_curve(fpr, tpr)"
   ]
  },
  {
   "cell_type": "markdown",
   "metadata": {},
   "source": [
    "## 1.5 Predicting aggregate measure of vascular risk with CMR/brain combinations"
   ]
  },
  {
   "cell_type": "code",
   "execution_count": 57,
   "metadata": {},
   "outputs": [
    {
     "data": {
      "text/plain": [
       "((1046, 9), (1046, 744))"
      ]
     },
     "execution_count": 57,
     "metadata": {},
     "output_type": "execute_result"
    }
   ],
   "source": [
    "# Input variables\n",
    "Y0 = S_0vs5[\"agg_score\"]\n",
    "X1 = cardio_cmr_df\n",
    "X2 = brain_df\n",
    "X1.shape, X2.shape"
   ]
  },
  {
   "cell_type": "code",
   "execution_count": 58,
   "metadata": {},
   "outputs": [
    {
     "data": {
      "text/plain": [
       "(1046, 753)"
      ]
     },
     "execution_count": 58,
     "metadata": {},
     "output_type": "execute_result"
    }
   ],
   "source": [
    "# Combining datasets\n",
    "X_combination_cfa2 = pd.concat((X1, X2), axis=1)\n",
    "X_combination_cfa2.shape"
   ]
  },
  {
   "cell_type": "code",
   "execution_count": 59,
   "metadata": {},
   "outputs": [
    {
     "data": {
      "text/plain": [
       "(1046, 5)"
      ]
     },
     "execution_count": 59,
     "metadata": {},
     "output_type": "execute_result"
    }
   ],
   "source": [
    "# Dimensionality reduction\n",
    "factor_2 = FactorAnalysis(n_components=5)\n",
    "X_cfa_2 = factor_2.fit_transform(X_combination_cfa2, Y0)\n",
    "X_cfa_2.shape"
   ]
  },
  {
   "cell_type": "code",
   "execution_count": 60,
   "metadata": {},
   "outputs": [
    {
     "data": {
      "text/plain": [
       "((732, 5), (314, 5), (732,), (314,))"
      ]
     },
     "execution_count": 60,
     "metadata": {},
     "output_type": "execute_result"
    }
   ],
   "source": [
    "# Splitting our input data into training set and testing set\n",
    "X_train, X_test, y_train, y_test = train_test_split(X_cfa_2, Y0, test_size= 0.3, random_state=42)\n",
    "X_train.shape, X_test.shape, y_train.shape, y_test.shape"
   ]
  },
  {
   "cell_type": "code",
   "execution_count": 61,
   "metadata": {},
   "outputs": [],
   "source": [
    "# Data normalization\n",
    "scaler = MinMaxScaler()\n",
    "X_train = scaler.fit_transform(X_train)\n",
    "X_test = scaler.transform(X_test)"
   ]
  },
  {
   "cell_type": "code",
   "execution_count": 62,
   "metadata": {},
   "outputs": [
    {
     "data": {
      "text/plain": [
       "0.9968152866242038"
      ]
     },
     "execution_count": 62,
     "metadata": {},
     "output_type": "execute_result"
    }
   ],
   "source": [
    "# Fitting the model and doing the predictions\n",
    "RF.fit(X_train, y_train)\n",
    "y_pred=RF.predict(X_test)\n",
    "accuracy_score(y_test, y_pred)"
   ]
  },
  {
   "cell_type": "code",
   "execution_count": 63,
   "metadata": {},
   "outputs": [
    {
     "name": "stdout",
     "output_type": "stream",
     "text": [
      "              precision    recall  f1-score   support\n",
      "\n",
      "           0       1.00      0.99      1.00       165\n",
      "           1       0.99      1.00      1.00       149\n",
      "\n",
      "    accuracy                           1.00       314\n",
      "   macro avg       1.00      1.00      1.00       314\n",
      "weighted avg       1.00      1.00      1.00       314\n",
      "\n"
     ]
    }
   ],
   "source": [
    "print(classification_report(y_test, y_pred))"
   ]
  },
  {
   "cell_type": "code",
   "execution_count": 64,
   "metadata": {},
   "outputs": [
    {
     "data": {
      "image/png": "[encoded data removed]",
      "text/plain": [
       "<Figure size 576x288 with 2 Axes>"
      ]
     },
     "metadata": {
      "needs_background": "light"
     },
     "output_type": "display_data"
    }
   ],
   "source": [
    "cm = confusion_matrix(y_test, y_pred)\n",
    "cm_normalized = cm.astype('float') / cm.sum(axis=1)[:, np.newaxis]\n",
    "plt.figure(figsize=(8,4))\n",
    "plt.imshow(cm_normalized, interpolation='nearest', cmap=plt.cm.Blues)\n",
    "plt.title(\"Confusion Matrix Train/Val\")\n",
    "plt.colorbar()\n",
    "plt.tight_layout()\n",
    "tick_marks = np.arange(len(Y0.unique().tolist()))\n",
    "plt.xticks(tick_marks, Y0.unique().tolist(), rotation=45)\n",
    "plt.yticks(tick_marks, Y0.unique().tolist())\n",
    "plt.ylabel('True label')\n",
    "plt.xlabel('Predicted label')\n",
    "plt.show()"
   ]
  },
  {
   "cell_type": "code",
   "execution_count": 65,
   "metadata": {},
   "outputs": [],
   "source": [
    "probs = RF.predict_proba(X_test)\n",
    "probs = probs[:, 1]"
   ]
  },
  {
   "cell_type": "code",
   "execution_count": 66,
   "metadata": {},
   "outputs": [
    {
     "name": "stdout",
     "output_type": "stream",
     "text": [
      "AUC: 1.0000\n"
     ]
    }
   ],
   "source": [
    "# Compute the AUC Score.\n",
    "auc = roc_auc_score(y_test, probs)\n",
    "print('AUC: %.4f' % auc)"
   ]
  },
  {
   "cell_type": "code",
   "execution_count": 67,
   "metadata": {},
   "outputs": [],
   "source": [
    "# Get the ROC Curve\n",
    "fpr, tpr, thresholds = roc_curve(y_test, probs)"
   ]
  },
  {
   "cell_type": "code",
   "execution_count": 68,
   "metadata": {},
   "outputs": [
    {
     "data": {
      "image/png": "[encoded data removed]",
      "text/plain": [
       "<Figure size 432x288 with 1 Axes>"
      ]
     },
     "metadata": {
      "needs_background": "light"
     },
     "output_type": "display_data"
    }
   ],
   "source": [
    "plot_roc_curve(fpr, tpr)"
   ]
  },
  {
   "cell_type": "markdown",
   "metadata": {},
   "source": [
    "## 1.6 Correlation Plots"
   ]
  },
  {
   "cell_type": "code",
   "execution_count": 69,
   "metadata": {},
   "outputs": [
    {
     "data": {
      "text/plain": [
       "((5, 630), (5, 9), (5, 744))"
      ]
     },
     "execution_count": 69,
     "metadata": {},
     "output_type": "execute_result"
    }
   ],
   "source": [
    "factor_heart.components_.shape, factor_cardio.components_.shape, factor_brain.components_.shape"
   ]
  },
  {
   "cell_type": "code",
   "execution_count": 70,
   "metadata": {},
   "outputs": [
    {
     "data": {
      "text/plain": [
       "((5, 1374), (5, 753))"
      ]
     },
     "execution_count": 70,
     "metadata": {},
     "output_type": "execute_result"
    }
   ],
   "source": [
    "factor_1.components_.shape, factor_2.components_.shape"
   ]
  },
  {
   "cell_type": "code",
   "execution_count": 71,
   "metadata": {},
   "outputs": [],
   "source": [
    "factor_heart_transposed = factor_heart.components_.T\n",
    "factor_cardio_transposed = factor_cardio.components_.T\n",
    "factor_brain_transposed = factor_brain.components_.T\n",
    "factor_1_transposed = factor_1.components_.T\n",
    "factor_2_transposed = factor_2.components_.T"
   ]
  },
  {
   "cell_type": "code",
   "execution_count": 72,
   "metadata": {},
   "outputs": [
    {
     "data": {
      "text/plain": [
       "((630, 5), (9, 5), (744, 5))"
      ]
     },
     "execution_count": 72,
     "metadata": {},
     "output_type": "execute_result"
    }
   ],
   "source": [
    "factor_heart_transposed.shape, factor_cardio_transposed.shape, factor_brain_transposed.shape"
   ]
  },
  {
   "cell_type": "code",
   "execution_count": 73,
   "metadata": {},
   "outputs": [
    {
     "data": {
      "text/plain": [
       "((1374, 5), (753, 5))"
      ]
     },
     "execution_count": 73,
     "metadata": {},
     "output_type": "execute_result"
    }
   ],
   "source": [
    "factor_1_transposed.shape, factor_2_transposed.shape"
   ]
  },
  {
   "cell_type": "code",
   "execution_count": 74,
   "metadata": {},
   "outputs": [],
   "source": [
    "heart_components = pd.DataFrame(factor_heart_transposed, index=heart_df.columns)\n",
    "cardio_components = pd.DataFrame(factor_cardio_transposed, index=cardio_cmr_df.columns)\n",
    "brain_components = pd.DataFrame(factor_brain_transposed, index=brain_df.columns)\n",
    "factor_1_components = pd.DataFrame(factor_1_transposed, index=X_combination_cfa.columns)\n",
    "factor_2_components = pd.DataFrame(factor_2_transposed, index=X_combination_cfa2.columns)"
   ]
  },
  {
   "cell_type": "code",
   "execution_count": 75,
   "metadata": {},
   "outputs": [],
   "source": [
    "#plt.figure(figsize=(16,9))\n",
    "#sns.heatmap(heart_components,cmap=plt.cm.BrBG_r)\n",
    "#plt.show()"
   ]
  },
  {
   "cell_type": "code",
   "execution_count": 76,
   "metadata": {},
   "outputs": [
    {
     "data": {
      "image/png": "[encoded data removed]",
      "text/plain": [
       "<Figure size 792x648 with 2 Axes>"
      ]
     },
     "metadata": {
      "needs_background": "light"
     },
     "output_type": "display_data"
    }
   ],
   "source": [
    "heart_corr = heart_components.corr()\n",
    "plt.figure(figsize=(11,9))\n",
    "sns.heatmap(heart_corr, cmap=plt.cm.BrBG_r, vmin=-1, vmax=1)\n",
    "plt.show()"
   ]
  },
  {
   "cell_type": "markdown",
   "metadata": {},
   "source": [
    "# 2. References"
   ]
  },
  {
   "cell_type": "markdown",
   "metadata": {},
   "source": [
    "[1] [Pedregosa, F. et al. (2011)](https://www.jmlr.org/papers/volume12/pedregosa11a/pedregosa11a.pdf). Scikit-learn: Machine Learning in Python."
   ]
  }
 ],
 "metadata": {
  "kernelspec": {
   "display_name": "Python 3",
   "language": "python",
   "name": "python3"
  },
  "language_info": {
   "codemirror_mode": {
    "name": "ipython",
    "version": 3
   },
   "file_extension": ".py",
   "mimetype": "text/x-python",
   "name": "python",
   "nbconvert_exporter": "python",
   "pygments_lexer": "ipython3",
   "version": "3.7.3"
  }
 },
 "nbformat": 4,
 "nbformat_minor": 2
}
