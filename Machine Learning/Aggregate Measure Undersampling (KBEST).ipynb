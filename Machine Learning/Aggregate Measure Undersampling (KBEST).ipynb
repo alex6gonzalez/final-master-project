{
 "cells": [
  {
   "cell_type": "code",
   "execution_count": 1,
   "metadata": {},
   "outputs": [],
   "source": [
    "import numpy as np\n",
    "import pandas as pd\n",
    "import matplotlib.pyplot as plt\n",
    "from sklearn.preprocessing import MinMaxScaler\n",
    "from sklearn.model_selection import train_test_split\n",
    "from sklearn.ensemble import RandomForestClassifier\n",
    "from sklearn.metrics import f1_score, accuracy_score, confusion_matrix, classification_report, roc_auc_score, roc_curve\n",
    "from sklearn.feature_selection import SelectFromModel, SelectKBest, f_classif\n",
    "import seaborn as sns\n",
    "from sklearn.utils import resample"
   ]
  },
  {
   "cell_type": "markdown",
   "metadata": {},
   "source": [
    "# 1. Predicting Aggregate Measure with KBest"
   ]
  },
  {
   "cell_type": "markdown",
   "metadata": {},
   "source": [
    "Our aggregate measure of vascular risk is a discrete categorical variable. Therefore,\n",
    "we considered that the optimal algorithm to predict it is a supervised learning model\n",
    "for the classification of the aggregate measure, which values range from 0 to 5. In\n",
    "addition, due to the imbalanced nature of our target variable, we considered that\n",
    "the best algorithm to choose is Random Forest (RF) from the \"ensemble\" class in\n",
    "Scikit-learn [1]."
   ]
  },
  {
   "cell_type": "code",
   "execution_count": 2,
   "metadata": {},
   "outputs": [
    {
     "data": {
      "text/plain": [
       "(2065, 1428)"
      ]
     },
     "execution_count": 2,
     "metadata": {},
     "output_type": "execute_result"
    }
   ],
   "source": [
    "# Loading the data\n",
    "data = pd.read_csv('casuality_data_final_factor_analyzer.csv')\n",
    "data.shape"
   ]
  },
  {
   "cell_type": "code",
   "execution_count": 3,
   "metadata": {},
   "outputs": [
    {
     "data": {
      "text/plain": [
       "<matplotlib.axes._subplots.AxesSubplot at 0x174167919e8>"
      ]
     },
     "execution_count": 3,
     "metadata": {},
     "output_type": "execute_result"
    },
    {
     "data": {
      "image/png": "[encoded data removed]",
      "text/plain": [
       "<Figure size 432x288 with 1 Axes>"
      ]
     },
     "metadata": {
      "needs_background": "light"
     },
     "output_type": "display_data"
    }
   ],
   "source": [
    "# Cardiovascular risk score\n",
    "Y0 = data[\"agg_score\"]\n",
    "bin_values = np.arange(start=0, stop=6, step=0.5)\n",
    "Y0.plot(kind='hist', bins=bin_values)"
   ]
  },
  {
   "cell_type": "code",
   "execution_count": 4,
   "metadata": {},
   "outputs": [
    {
     "data": {
      "text/plain": [
       "((523, 1428),\n",
       " (606, 1428),\n",
       " (555, 1428),\n",
       " (273, 1428),\n",
       " (91, 1428),\n",
       " (17, 1428),\n",
       " (381, 1428))"
      ]
     },
     "execution_count": 4,
     "metadata": {},
     "output_type": "execute_result"
    }
   ],
   "source": [
    "# Splitting each class from our target variable\n",
    "S0 = data.loc[data['agg_score'] == 0]\n",
    "S1 = data.loc[data['agg_score'] == 1]\n",
    "S2 = data.loc[data['agg_score'] == 2]\n",
    "S3 = data.loc[data['agg_score'] == 3]\n",
    "S4 = data.loc[data['agg_score'] == 4]\n",
    "S5 = data.loc[data['agg_score'] == 5]\n",
    "S345 = pd.concat((S3, S4, S5), axis=0)\n",
    "S0.shape, S1.shape, S2.shape, S3.shape, S4.shape, S5.shape, S345.shape"
   ]
  },
  {
   "cell_type": "markdown",
   "metadata": {},
   "source": [
    "Random undersampling involves randomly selecting examples from the majority\n",
    "class to delete from the training dataset. This has the effect of reducing the number\n",
    "of examples in the majority class in the transformed version of the training dataset.\n",
    "This process can be repeated until the desired class distribution is achieved, such as\n",
    "an equal number of examples for each class. "
   ]
  },
  {
   "cell_type": "code",
   "execution_count": 5,
   "metadata": {},
   "outputs": [
    {
     "data": {
      "text/plain": [
       "((1046, 1428), (1046, 1428), (546, 1428), (182, 1428), (34, 1428), (762, 1428))"
      ]
     },
     "execution_count": 5,
     "metadata": {},
     "output_type": "execute_result"
    }
   ],
   "source": [
    "# Undersampling majority class\n",
    "S1_under = resample(S1, replace=False, n_samples=523, random_state=123) \n",
    "S_0vs1 = pd.concat((S0, S1_under), axis=0)\n",
    "S2_under = resample(S2, replace=False, n_samples=523, random_state=123)\n",
    "S_0vs2 = pd.concat((S0, S2_under), axis=0)\n",
    "S0_under1 = resample(S0, replace=False, n_samples=273, random_state=123)\n",
    "S_0vs3 = pd.concat((S0_under1, S3), axis=0)\n",
    "S0_under2 = resample(S0, replace=False, n_samples=91, random_state=123)\n",
    "S_0vs4 = pd.concat((S0_under2, S4), axis=0)\n",
    "S0_under3 = resample(S0, replace=False, n_samples=17, random_state=123)\n",
    "S_0vs5 = pd.concat((S0_under3, S5), axis=0)\n",
    "S0_under4 = resample(S0, replace=False, n_samples=381, random_state=123)\n",
    "S_0vs345 = pd.concat((S0_under4, S345), axis=0)\n",
    "S_0vs1.shape, S_0vs2.shape, S_0vs3.shape, S_0vs4.shape, S_0vs5.shape, S_0vs345.shape "
   ]
  },
  {
   "cell_type": "code",
   "execution_count": 6,
   "metadata": {},
   "outputs": [],
   "source": [
    "# Mapping values in binarized targets\n",
    "S_0vs1[\"agg_score\"] = S_0vs1[\"agg_score\"].map({0:0, 1:1})\n",
    "S_0vs2[\"agg_score\"] = S_0vs2[\"agg_score\"].map({0:0, 2:1})\n",
    "S_0vs3[\"agg_score\"] = S_0vs3[\"agg_score\"].map({0:0, 3:1})\n",
    "S_0vs4[\"agg_score\"] = S_0vs4[\"agg_score\"].map({0:0, 4:1})\n",
    "S_0vs5[\"agg_score\"] = S_0vs5[\"agg_score\"].map({0:0, 5:1})\n",
    "S_0vs345[\"agg_score\"] = S_0vs345[\"agg_score\"].map({0:0, 3:1, 4:1, 5:1})"
   ]
  },
  {
   "cell_type": "code",
   "execution_count": 7,
   "metadata": {},
   "outputs": [
    {
     "data": {
      "text/plain": [
       "<matplotlib.axes._subplots.AxesSubplot at 0x174167b5240>"
      ]
     },
     "execution_count": 7,
     "metadata": {},
     "output_type": "execute_result"
    },
    {
     "data": {
      "image/png": "[encoded data removed]",
      "text/plain": [
       "<Figure size 432x288 with 1 Axes>"
      ]
     },
     "metadata": {
      "needs_background": "light"
     },
     "output_type": "display_data"
    }
   ],
   "source": [
    "# Visualizing binary target class\n",
    "Y0 = S_0vs5[\"agg_score\"]\n",
    "bin_values = np.arange(start=0, stop=1.6, step=0.5)\n",
    "Y0.plot(kind='hist', bins=bin_values)"
   ]
  },
  {
   "cell_type": "code",
   "execution_count": 8,
   "metadata": {},
   "outputs": [
    {
     "data": {
      "text/plain": [
       "((34, 630), (34, 744), (34, 9))"
      ]
     },
     "execution_count": 8,
     "metadata": {},
     "output_type": "execute_result"
    }
   ],
   "source": [
    "# Filtering data groups\n",
    "heart_df = S_0vs5.filter(regex='heart')\n",
    "cardio_cmr_df = S_0vs5.filter(regex='cardio_cmr')\n",
    "brain_df = S_0vs5.filter(regex='brain')\n",
    "heart_df.shape, brain_df.shape, cardio_cmr_df.shape"
   ]
  },
  {
   "cell_type": "code",
   "execution_count": 9,
   "metadata": {},
   "outputs": [],
   "source": [
    "# our model\n",
    "RF = RandomForestClassifier()"
   ]
  },
  {
   "cell_type": "markdown",
   "metadata": {},
   "source": [
    "This popular technique consists of a combination of decision trees (DTs) trained on\n",
    "different random samples of the training set. Each DT is a set of rules based on the\n",
    "input features values optimized for accurately classifying all elements of the training\n",
    "set. DTs are nonlinear models and tend to have high variance"
   ]
  },
  {
   "cell_type": "markdown",
   "metadata": {},
   "source": [
    "## 1.1 Predicting aggregate measure of vascular risk with heart variables"
   ]
  },
  {
   "cell_type": "code",
   "execution_count": 10,
   "metadata": {},
   "outputs": [],
   "source": [
    "# Input variables\n",
    "Y0 = S_0vs5[\"agg_score\"]\n",
    "X1 = heart_df"
   ]
  },
  {
   "cell_type": "code",
   "execution_count": 11,
   "metadata": {},
   "outputs": [
    {
     "data": {
      "text/plain": [
       "((23, 630), (11, 630), (23,), (11,))"
      ]
     },
     "execution_count": 11,
     "metadata": {},
     "output_type": "execute_result"
    }
   ],
   "source": [
    "# Splitting our input data into training set and testing set\n",
    "X_train, X_test, y_train, y_test = train_test_split(X1, Y0, test_size= 0.3, random_state=42)\n",
    "X_train.shape, X_test.shape, y_train.shape, y_test.shape"
   ]
  },
  {
   "cell_type": "code",
   "execution_count": 12,
   "metadata": {},
   "outputs": [],
   "source": [
    "# Data normalization\n",
    "scaler = MinMaxScaler()\n",
    "X_train = scaler.fit_transform(X_train)\n",
    "X_test = scaler.transform(X_test)"
   ]
  },
  {
   "cell_type": "code",
   "execution_count": 13,
   "metadata": {},
   "outputs": [],
   "source": [
    "# Dimensionality reduction\n",
    "selector = SelectKBest(f_classif, k=5)\n",
    "X_kbest = selector.fit_transform(X_train, y_train)\n",
    "X_test = selector.transform(X_test)"
   ]
  },
  {
   "cell_type": "code",
   "execution_count": 14,
   "metadata": {},
   "outputs": [
    {
     "data": {
      "text/plain": [
       "0.7272727272727273"
      ]
     },
     "execution_count": 14,
     "metadata": {},
     "output_type": "execute_result"
    }
   ],
   "source": [
    "# Fitting the model and doing the predictions\n",
    "RF.fit(X_kbest, y_train)\n",
    "y_pred = RF.predict(X_test)\n",
    "accuracy_score(y_test, y_pred)"
   ]
  },
  {
   "cell_type": "code",
   "execution_count": 15,
   "metadata": {},
   "outputs": [
    {
     "name": "stdout",
     "output_type": "stream",
     "text": [
      "              precision    recall  f1-score   support\n",
      "\n",
      "           0       0.67      0.80      0.73         5\n",
      "           1       0.80      0.67      0.73         6\n",
      "\n",
      "    accuracy                           0.73        11\n",
      "   macro avg       0.73      0.73      0.73        11\n",
      "weighted avg       0.74      0.73      0.73        11\n",
      "\n"
     ]
    }
   ],
   "source": [
    "print(classification_report(y_test, y_pred))"
   ]
  },
  {
   "cell_type": "code",
   "execution_count": 16,
   "metadata": {},
   "outputs": [
    {
     "data": {
      "image/png": "[encoded data removed]",
      "text/plain": [
       "<Figure size 576x288 with 2 Axes>"
      ]
     },
     "metadata": {
      "needs_background": "light"
     },
     "output_type": "display_data"
    }
   ],
   "source": [
    "cm = confusion_matrix(y_test, y_pred)\n",
    "cm_normalized = cm.astype('float') / cm.sum(axis=1)[:, np.newaxis]\n",
    "plt.figure(figsize=(8,4))\n",
    "plt.imshow(cm_normalized, interpolation='nearest', cmap=plt.cm.Blues)\n",
    "plt.title(\"Confusion Matrix Train/Val\")\n",
    "plt.colorbar()\n",
    "plt.tight_layout()\n",
    "tick_marks = np.arange(len(Y0.unique().tolist()))\n",
    "plt.xticks(tick_marks, Y0.unique().tolist(), rotation=45)\n",
    "plt.yticks(tick_marks, Y0.unique().tolist())\n",
    "plt.ylabel('True label')\n",
    "plt.xlabel('Predicted label')\n",
    "plt.show()"
   ]
  },
  {
   "cell_type": "code",
   "execution_count": 17,
   "metadata": {},
   "outputs": [
    {
     "data": {
      "text/plain": [
       "['heart_Sphericity_LV_ED_shape',\n",
       " 'heart_Sphericity_LV_ES_shape',\n",
       " 'heart_Minimum_RV_ES_intensity',\n",
       " 'heart_InformalMeasureofCorrelation2_glcm_LV_ED_texture',\n",
       " 'heart_GrayLevelNonUniformity_glrlm_MYO_ES_texture']"
      ]
     },
     "execution_count": 17,
     "metadata": {},
     "output_type": "execute_result"
    }
   ],
   "source": [
    "cols = selector.get_support(indices=True)\n",
    "features = heart_df.iloc[:,cols]\n",
    "K_best_heart = list(features) \n",
    "K_best_heart"
   ]
  },
  {
   "cell_type": "code",
   "execution_count": 18,
   "metadata": {},
   "outputs": [],
   "source": [
    "def plot_roc_curve(fpr, tpr):\n",
    "    plt.plot(fpr, tpr, color='orange', label='ROC')\n",
    "    plt.plot([0, 1], [0, 1], color='darkblue', linestyle='--')\n",
    "    plt.xlabel('False Positive Rate')\n",
    "    plt.ylabel('True Positive Rate')\n",
    "    plt.title('Receiver Operating Characteristic (ROC) Curve')\n",
    "    plt.legend()\n",
    "    plt.show()"
   ]
  },
  {
   "cell_type": "code",
   "execution_count": 19,
   "metadata": {},
   "outputs": [],
   "source": [
    "probs = RF.predict_proba(X_test)\n",
    "probs = probs[:, 1]"
   ]
  },
  {
   "cell_type": "code",
   "execution_count": 20,
   "metadata": {},
   "outputs": [
    {
     "name": "stdout",
     "output_type": "stream",
     "text": [
      "AUC: 0.7333\n"
     ]
    }
   ],
   "source": [
    "# Compute the AUC Score.\n",
    "auc = roc_auc_score(y_test, probs)\n",
    "print('AUC: %.4f' % auc)"
   ]
  },
  {
   "cell_type": "code",
   "execution_count": 21,
   "metadata": {},
   "outputs": [],
   "source": [
    "# Get the ROC Curve\n",
    "fpr, tpr, thresholds = roc_curve(y_test, probs)"
   ]
  },
  {
   "cell_type": "code",
   "execution_count": 22,
   "metadata": {},
   "outputs": [
    {
     "data": {
      "image/png": "[encoded data removed]",
      "text/plain": [
       "<Figure size 432x288 with 1 Axes>"
      ]
     },
     "metadata": {
      "needs_background": "light"
     },
     "output_type": "display_data"
    }
   ],
   "source": [
    "plot_roc_curve(fpr, tpr)"
   ]
  },
  {
   "cell_type": "markdown",
   "metadata": {},
   "source": [
    "## 1.2 Predicting aggregate measure of vascular risk with CMR variables"
   ]
  },
  {
   "cell_type": "code",
   "execution_count": 23,
   "metadata": {},
   "outputs": [],
   "source": [
    "# Input variables\n",
    "Y0 = S_0vs5[\"agg_score\"]\n",
    "X1 = cardio_cmr_df"
   ]
  },
  {
   "cell_type": "code",
   "execution_count": 24,
   "metadata": {},
   "outputs": [
    {
     "data": {
      "text/plain": [
       "((23, 9), (11, 9), (23,), (11,))"
      ]
     },
     "execution_count": 24,
     "metadata": {},
     "output_type": "execute_result"
    }
   ],
   "source": [
    "# Splitting our input data into training set and testing set\n",
    "X_train, X_test, y_train, y_test = train_test_split(X1, Y0, test_size= 0.3, random_state=42)\n",
    "X_train.shape, X_test.shape, y_train.shape, y_test.shape"
   ]
  },
  {
   "cell_type": "code",
   "execution_count": 25,
   "metadata": {},
   "outputs": [],
   "source": [
    "# Data normalization\n",
    "scaler = MinMaxScaler()\n",
    "X_train = scaler.fit_transform(X_train)\n",
    "X_test = scaler.transform(X_test)"
   ]
  },
  {
   "cell_type": "code",
   "execution_count": 26,
   "metadata": {},
   "outputs": [],
   "source": [
    "# Dimensionality reduction\n",
    "selector = SelectKBest(f_classif, k=5)\n",
    "X_kbest = selector.fit_transform(X_train, y_train)\n",
    "X_test = selector.transform(X_test)"
   ]
  },
  {
   "cell_type": "code",
   "execution_count": 27,
   "metadata": {},
   "outputs": [
    {
     "data": {
      "text/plain": [
       "0.6363636363636364"
      ]
     },
     "execution_count": 27,
     "metadata": {},
     "output_type": "execute_result"
    }
   ],
   "source": [
    "# Fitting the model and doing the predictions\n",
    "RF.fit(X_kbest, y_train)\n",
    "y_pred = RF.predict(X_test)\n",
    "accuracy_score(y_test, y_pred)"
   ]
  },
  {
   "cell_type": "code",
   "execution_count": 28,
   "metadata": {},
   "outputs": [
    {
     "name": "stdout",
     "output_type": "stream",
     "text": [
      "              precision    recall  f1-score   support\n",
      "\n",
      "           0       0.57      0.80      0.67         5\n",
      "           1       0.75      0.50      0.60         6\n",
      "\n",
      "    accuracy                           0.64        11\n",
      "   macro avg       0.66      0.65      0.63        11\n",
      "weighted avg       0.67      0.64      0.63        11\n",
      "\n"
     ]
    }
   ],
   "source": [
    "print(classification_report(y_test, y_pred))"
   ]
  },
  {
   "cell_type": "code",
   "execution_count": 29,
   "metadata": {},
   "outputs": [
    {
     "data": {
      "image/png": "[encoded data removed]",
      "text/plain": [
       "<Figure size 576x288 with 2 Axes>"
      ]
     },
     "metadata": {
      "needs_background": "light"
     },
     "output_type": "display_data"
    }
   ],
   "source": [
    "cm = confusion_matrix(y_test, y_pred)\n",
    "cm_normalized = cm.astype('float') / cm.sum(axis=1)[:, np.newaxis]\n",
    "plt.figure(figsize=(8,4))\n",
    "plt.imshow(cm_normalized, interpolation='nearest', cmap=plt.cm.Blues)\n",
    "plt.title(\"Confusion Matrix Train/Val\")\n",
    "plt.colorbar()\n",
    "plt.tight_layout()\n",
    "tick_marks = np.arange(len(Y0.unique().tolist()))\n",
    "plt.xticks(tick_marks, Y0.unique().tolist(), rotation=45)\n",
    "plt.yticks(tick_marks, Y0.unique().tolist())\n",
    "plt.ylabel('True label')\n",
    "plt.xlabel('Predicted label')\n",
    "plt.show()"
   ]
  },
  {
   "cell_type": "code",
   "execution_count": 30,
   "metadata": {},
   "outputs": [
    {
     "data": {
      "text/plain": [
       "['cardio_cmr_LVEDV_i',\n",
       " 'cardio_cmr_LVSV_i',\n",
       " 'cardio_cmr_LVEF',\n",
       " 'cardio_cmr_RVEDV_i',\n",
       " 'cardio_cmr_RVSV_i']"
      ]
     },
     "execution_count": 30,
     "metadata": {},
     "output_type": "execute_result"
    }
   ],
   "source": [
    "cols = selector.get_support(indices=True)\n",
    "features = cardio_cmr_df.iloc[:,cols]\n",
    "K_best_cmr = list(features) \n",
    "K_best_cmr"
   ]
  },
  {
   "cell_type": "code",
   "execution_count": 31,
   "metadata": {},
   "outputs": [],
   "source": [
    "def plot_roc_curve(fpr, tpr):\n",
    "    plt.plot(fpr, tpr, color='orange', label='ROC')\n",
    "    plt.plot([0, 1], [0, 1], color='darkblue', linestyle='--')\n",
    "    plt.xlabel('False Positive Rate')\n",
    "    plt.ylabel('True Positive Rate')\n",
    "    plt.title('Receiver Operating Characteristic (ROC) Curve')\n",
    "    plt.legend()\n",
    "    plt.show()"
   ]
  },
  {
   "cell_type": "code",
   "execution_count": 32,
   "metadata": {},
   "outputs": [],
   "source": [
    "probs = RF.predict_proba(X_test)\n",
    "probs = probs[:, 1]"
   ]
  },
  {
   "cell_type": "code",
   "execution_count": 33,
   "metadata": {},
   "outputs": [
    {
     "name": "stdout",
     "output_type": "stream",
     "text": [
      "AUC: 0.7333\n"
     ]
    }
   ],
   "source": [
    "# Compute the AUC Score.\n",
    "auc = roc_auc_score(y_test, probs)\n",
    "print('AUC: %.4f' % auc)"
   ]
  },
  {
   "cell_type": "code",
   "execution_count": 34,
   "metadata": {},
   "outputs": [],
   "source": [
    "# Get the ROC Curve\n",
    "fpr, tpr, thresholds = roc_curve(y_test, probs)"
   ]
  },
  {
   "cell_type": "code",
   "execution_count": 35,
   "metadata": {},
   "outputs": [
    {
     "data": {
      "image/png": "[encoded data removed]",
      "text/plain": [
       "<Figure size 432x288 with 1 Axes>"
      ]
     },
     "metadata": {
      "needs_background": "light"
     },
     "output_type": "display_data"
    }
   ],
   "source": [
    "plot_roc_curve(fpr, tpr)"
   ]
  },
  {
   "cell_type": "markdown",
   "metadata": {},
   "source": [
    "## 1.3 Predicting aggregate measure of vascular risk with brain variables"
   ]
  },
  {
   "cell_type": "code",
   "execution_count": 36,
   "metadata": {},
   "outputs": [],
   "source": [
    "# Input variables\n",
    "Y0 = S_0vs5[\"agg_score\"]\n",
    "X1 = brain_df"
   ]
  },
  {
   "cell_type": "code",
   "execution_count": 37,
   "metadata": {},
   "outputs": [
    {
     "data": {
      "text/plain": [
       "((23, 744), (11, 744), (23,), (11,))"
      ]
     },
     "execution_count": 37,
     "metadata": {},
     "output_type": "execute_result"
    }
   ],
   "source": [
    "# Splitting our input data into training set and testing set\n",
    "X_train, X_test, y_train, y_test = train_test_split(X1, Y0, test_size= 0.3, random_state=42)\n",
    "X_train.shape, X_test.shape, y_train.shape, y_test.shape"
   ]
  },
  {
   "cell_type": "code",
   "execution_count": 38,
   "metadata": {},
   "outputs": [],
   "source": [
    "# Data normalization\n",
    "scaler = MinMaxScaler()\n",
    "X_train = scaler.fit_transform(X_train)\n",
    "X_test = scaler.transform(X_test)"
   ]
  },
  {
   "cell_type": "code",
   "execution_count": 39,
   "metadata": {},
   "outputs": [],
   "source": [
    "# Dimensionality reduction\n",
    "selector = SelectKBest(f_classif, k=5)\n",
    "X_kbest = selector.fit_transform(X_train, y_train)\n",
    "X_test = selector.transform(X_test)"
   ]
  },
  {
   "cell_type": "code",
   "execution_count": 40,
   "metadata": {},
   "outputs": [
    {
     "data": {
      "text/plain": [
       "0.8181818181818182"
      ]
     },
     "execution_count": 40,
     "metadata": {},
     "output_type": "execute_result"
    }
   ],
   "source": [
    "# Fitting the model and doing the predictions\n",
    "RF.fit(X_kbest, y_train)\n",
    "y_pred = RF.predict(X_test)\n",
    "accuracy_score(y_test, y_pred)"
   ]
  },
  {
   "cell_type": "code",
   "execution_count": 41,
   "metadata": {},
   "outputs": [
    {
     "name": "stdout",
     "output_type": "stream",
     "text": [
      "              precision    recall  f1-score   support\n",
      "\n",
      "           0       0.71      1.00      0.83         5\n",
      "           1       1.00      0.67      0.80         6\n",
      "\n",
      "    accuracy                           0.82        11\n",
      "   macro avg       0.86      0.83      0.82        11\n",
      "weighted avg       0.87      0.82      0.82        11\n",
      "\n"
     ]
    }
   ],
   "source": [
    "print(classification_report(y_test, y_pred))"
   ]
  },
  {
   "cell_type": "code",
   "execution_count": 42,
   "metadata": {},
   "outputs": [
    {
     "data": {
      "image/png": "[encoded data removed]",
      "text/plain": [
       "<Figure size 576x288 with 2 Axes>"
      ]
     },
     "metadata": {
      "needs_background": "light"
     },
     "output_type": "display_data"
    }
   ],
   "source": [
    "cm = confusion_matrix(y_test, y_pred)\n",
    "cm_normalized = cm.astype('float') / cm.sum(axis=1)[:, np.newaxis]\n",
    "plt.figure(figsize=(8,4))\n",
    "plt.imshow(cm_normalized, interpolation='nearest', cmap=plt.cm.Blues)\n",
    "plt.title(\"Confusion Matrix Train/Val\")\n",
    "plt.colorbar()\n",
    "plt.tight_layout()\n",
    "tick_marks = np.arange(len(Y0.unique().tolist()))\n",
    "plt.xticks(tick_marks, Y0.unique().tolist(), rotation=45)\n",
    "plt.yticks(tick_marks, Y0.unique().tolist())\n",
    "plt.ylabel('True label')\n",
    "plt.xlabel('Predicted label')\n",
    "plt.show()"
   ]
  },
  {
   "cell_type": "code",
   "execution_count": 43,
   "metadata": {},
   "outputs": [
    {
     "data": {
      "text/plain": [
       "['brain_bio_volume_of_peripheral_cortical_grey_matter__normalised_for_head_size__0_imaging',\n",
       " 'brain_bio_volume_of_grey_matter__normalised_for_head_size__0_imaging',\n",
       " 'brain_bio_median_t2star_in_amygdala__right__0_imaging',\n",
       " 'brain_bio_mean_l2_in_fornix_cres_stria_terminalis_on_fa_skeleton__left__0_imaging',\n",
       " 'brain_bio_mean_rfmri_head_motion__averaged_across_space_and_time_points_0_imaging']"
      ]
     },
     "execution_count": 43,
     "metadata": {},
     "output_type": "execute_result"
    }
   ],
   "source": [
    "cols = selector.get_support(indices=True)\n",
    "features = brain_df.iloc[:,cols]\n",
    "K_best_brain = list(features) \n",
    "K_best_brain"
   ]
  },
  {
   "cell_type": "code",
   "execution_count": 44,
   "metadata": {},
   "outputs": [],
   "source": [
    "probs = RF.predict_proba(X_test)\n",
    "probs = probs[:, 1]"
   ]
  },
  {
   "cell_type": "code",
   "execution_count": 45,
   "metadata": {},
   "outputs": [
    {
     "name": "stdout",
     "output_type": "stream",
     "text": [
      "AUC: 0.8667\n"
     ]
    }
   ],
   "source": [
    "# Compute the AUC Score.\n",
    "auc = roc_auc_score(y_test, probs)\n",
    "print('AUC: %.4f' % auc)"
   ]
  },
  {
   "cell_type": "code",
   "execution_count": 46,
   "metadata": {},
   "outputs": [],
   "source": [
    "# Get the ROC Curve\n",
    "fpr, tpr, thresholds = roc_curve(y_test, probs)"
   ]
  },
  {
   "cell_type": "code",
   "execution_count": 47,
   "metadata": {},
   "outputs": [
    {
     "data": {
      "image/png": "[encoded data removed]",
      "text/plain": [
       "<Figure size 432x288 with 1 Axes>"
      ]
     },
     "metadata": {
      "needs_background": "light"
     },
     "output_type": "display_data"
    }
   ],
   "source": [
    "plot_roc_curve(fpr, tpr)"
   ]
  },
  {
   "cell_type": "markdown",
   "metadata": {},
   "source": [
    "## 1.4 Predicting aggregate measure of vascular risk with heart/brain combinations"
   ]
  },
  {
   "cell_type": "code",
   "execution_count": 48,
   "metadata": {},
   "outputs": [
    {
     "data": {
      "text/plain": [
       "((34, 630), (34, 744))"
      ]
     },
     "execution_count": 48,
     "metadata": {},
     "output_type": "execute_result"
    }
   ],
   "source": [
    "# Input variables\n",
    "Y0 = S_0vs5[\"agg_score\"]\n",
    "X1 = heart_df\n",
    "X2 = brain_df\n",
    "X1.shape, X2.shape"
   ]
  },
  {
   "cell_type": "code",
   "execution_count": 49,
   "metadata": {},
   "outputs": [
    {
     "data": {
      "text/plain": [
       "(34, 1374)"
      ]
     },
     "execution_count": 49,
     "metadata": {},
     "output_type": "execute_result"
    }
   ],
   "source": [
    "# Combining datasets\n",
    "X_combination_cfa = pd.concat((X1, X2), axis=1)\n",
    "X_combination_cfa.shape"
   ]
  },
  {
   "cell_type": "code",
   "execution_count": 50,
   "metadata": {},
   "outputs": [
    {
     "data": {
      "text/plain": [
       "((23, 1374), (11, 1374), (23,), (11,))"
      ]
     },
     "execution_count": 50,
     "metadata": {},
     "output_type": "execute_result"
    }
   ],
   "source": [
    "# Splitting our input data into training set and testing set\n",
    "X_train, X_test, y_train, y_test = train_test_split(X_combination_cfa, Y0, test_size= 0.3, random_state=42)\n",
    "X_train.shape, X_test.shape, y_train.shape, y_test.shape"
   ]
  },
  {
   "cell_type": "code",
   "execution_count": 51,
   "metadata": {},
   "outputs": [],
   "source": [
    "# Data normalization\n",
    "scaler = MinMaxScaler()\n",
    "X_train = scaler.fit_transform(X_train)\n",
    "X_test = scaler.transform(X_test)"
   ]
  },
  {
   "cell_type": "code",
   "execution_count": 52,
   "metadata": {},
   "outputs": [],
   "source": [
    "# Dimensionality reduction\n",
    "selector = SelectKBest(f_classif, k=5)\n",
    "X_kbest = selector.fit_transform(X_train, y_train)\n",
    "X_test = selector.transform(X_test)"
   ]
  },
  {
   "cell_type": "code",
   "execution_count": 53,
   "metadata": {},
   "outputs": [
    {
     "data": {
      "text/plain": [
       "0.6363636363636364"
      ]
     },
     "execution_count": 53,
     "metadata": {},
     "output_type": "execute_result"
    }
   ],
   "source": [
    "# Fitting the model and doing the predictions\n",
    "RF.fit(X_kbest, y_train)\n",
    "y_pred = RF.predict(X_test)\n",
    "accuracy_score(y_test, y_pred)"
   ]
  },
  {
   "cell_type": "code",
   "execution_count": 54,
   "metadata": {},
   "outputs": [
    {
     "name": "stdout",
     "output_type": "stream",
     "text": [
      "              precision    recall  f1-score   support\n",
      "\n",
      "           0       0.60      0.60      0.60         5\n",
      "           1       0.67      0.67      0.67         6\n",
      "\n",
      "    accuracy                           0.64        11\n",
      "   macro avg       0.63      0.63      0.63        11\n",
      "weighted avg       0.64      0.64      0.64        11\n",
      "\n"
     ]
    }
   ],
   "source": [
    "print(classification_report(y_test, y_pred))"
   ]
  },
  {
   "cell_type": "code",
   "execution_count": 55,
   "metadata": {},
   "outputs": [
    {
     "data": {
      "image/png": "[encoded data removed]",
      "text/plain": [
       "<Figure size 576x288 with 2 Axes>"
      ]
     },
     "metadata": {
      "needs_background": "light"
     },
     "output_type": "display_data"
    }
   ],
   "source": [
    "cm = confusion_matrix(y_test, y_pred)\n",
    "cm_normalized = cm.astype('float') / cm.sum(axis=1)[:, np.newaxis]\n",
    "plt.figure(figsize=(8,4))\n",
    "plt.imshow(cm_normalized, interpolation='nearest', cmap=plt.cm.Blues)\n",
    "plt.title(\"Confusion Matrix Train/Val\")\n",
    "plt.colorbar()\n",
    "plt.tight_layout()\n",
    "tick_marks = np.arange(len(Y0.unique().tolist()))\n",
    "plt.xticks(tick_marks, Y0.unique().tolist(), rotation=45)\n",
    "plt.yticks(tick_marks, Y0.unique().tolist())\n",
    "plt.ylabel('True label')\n",
    "plt.xlabel('Predicted label')\n",
    "plt.show()"
   ]
  },
  {
   "cell_type": "code",
   "execution_count": 56,
   "metadata": {},
   "outputs": [
    {
     "data": {
      "text/plain": [
       "['heart_Sphericity_LV_ES_shape',\n",
       " 'brain_bio_volume_of_grey_matter__normalised_for_head_size__0_imaging',\n",
       " 'brain_bio_median_t2star_in_amygdala__right__0_imaging',\n",
       " 'brain_bio_mean_l2_in_fornix_cres_stria_terminalis_on_fa_skeleton__left__0_imaging',\n",
       " 'brain_bio_mean_rfmri_head_motion__averaged_across_space_and_time_points_0_imaging']"
      ]
     },
     "execution_count": 56,
     "metadata": {},
     "output_type": "execute_result"
    }
   ],
   "source": [
    "cols = selector.get_support(indices=True)\n",
    "features = X_combination_cfa.iloc[:,cols]\n",
    "K_best_heart_brain = list(features) \n",
    "K_best_heart_brain"
   ]
  },
  {
   "cell_type": "code",
   "execution_count": 57,
   "metadata": {},
   "outputs": [],
   "source": [
    "probs = RF.predict_proba(X_test)\n",
    "probs = probs[:, 1]"
   ]
  },
  {
   "cell_type": "code",
   "execution_count": 58,
   "metadata": {},
   "outputs": [
    {
     "name": "stdout",
     "output_type": "stream",
     "text": [
      "AUC: 0.8667\n"
     ]
    }
   ],
   "source": [
    "# Compute the AUC Score.\n",
    "auc = roc_auc_score(y_test, probs)\n",
    "print('AUC: %.4f' % auc)"
   ]
  },
  {
   "cell_type": "code",
   "execution_count": 59,
   "metadata": {},
   "outputs": [],
   "source": [
    "# Get the ROC Curve\n",
    "fpr, tpr, thresholds = roc_curve(y_test, probs)"
   ]
  },
  {
   "cell_type": "code",
   "execution_count": 60,
   "metadata": {},
   "outputs": [
    {
     "data": {
      "image/png": "[encoded data removed]",
      "text/plain": [
       "<Figure size 432x288 with 1 Axes>"
      ]
     },
     "metadata": {
      "needs_background": "light"
     },
     "output_type": "display_data"
    }
   ],
   "source": [
    "plot_roc_curve(fpr, tpr)"
   ]
  },
  {
   "cell_type": "markdown",
   "metadata": {},
   "source": [
    "## 1.5 Predicting aggregate measure of vascular risk with CMR/brain combinations"
   ]
  },
  {
   "cell_type": "code",
   "execution_count": 61,
   "metadata": {},
   "outputs": [
    {
     "data": {
      "text/plain": [
       "((34, 9), (34, 744))"
      ]
     },
     "execution_count": 61,
     "metadata": {},
     "output_type": "execute_result"
    }
   ],
   "source": [
    "# Input variables\n",
    "Y0 = S_0vs5[\"agg_score\"]\n",
    "X1 = cardio_cmr_df\n",
    "X2 = brain_df\n",
    "X1.shape, X2.shape"
   ]
  },
  {
   "cell_type": "code",
   "execution_count": 62,
   "metadata": {},
   "outputs": [
    {
     "data": {
      "text/plain": [
       "(34, 753)"
      ]
     },
     "execution_count": 62,
     "metadata": {},
     "output_type": "execute_result"
    }
   ],
   "source": [
    "# Combining datasets\n",
    "X_combination_cfa2 = pd.concat((X1, X2), axis=1)\n",
    "X_combination_cfa2.shape"
   ]
  },
  {
   "cell_type": "code",
   "execution_count": 63,
   "metadata": {},
   "outputs": [
    {
     "data": {
      "text/plain": [
       "((23, 753), (11, 753), (23,), (11,))"
      ]
     },
     "execution_count": 63,
     "metadata": {},
     "output_type": "execute_result"
    }
   ],
   "source": [
    "# Splitting our input data into training set and testing set\n",
    "X_train, X_test, y_train, y_test = train_test_split(X_combination_cfa2, Y0, test_size= 0.3, random_state=42)\n",
    "X_train.shape, X_test.shape, y_train.shape, y_test.shape"
   ]
  },
  {
   "cell_type": "code",
   "execution_count": 64,
   "metadata": {},
   "outputs": [],
   "source": [
    "# Data normalization\n",
    "scaler = MinMaxScaler()\n",
    "X_train = scaler.fit_transform(X_train)\n",
    "X_test = scaler.transform(X_test)"
   ]
  },
  {
   "cell_type": "code",
   "execution_count": 65,
   "metadata": {},
   "outputs": [],
   "source": [
    "# Dimensionality reduction\n",
    "selector = SelectKBest(f_classif, k=5)\n",
    "X_kbest = selector.fit_transform(X_train, y_train)\n",
    "X_test = selector.transform(X_test)"
   ]
  },
  {
   "cell_type": "code",
   "execution_count": 66,
   "metadata": {},
   "outputs": [
    {
     "data": {
      "text/plain": [
       "0.6363636363636364"
      ]
     },
     "execution_count": 66,
     "metadata": {},
     "output_type": "execute_result"
    }
   ],
   "source": [
    "# Fitting the model and doing the predictions\n",
    "RF.fit(X_kbest, y_train)\n",
    "y_pred = RF.predict(X_test)\n",
    "accuracy_score(y_test, y_pred)"
   ]
  },
  {
   "cell_type": "code",
   "execution_count": 67,
   "metadata": {},
   "outputs": [
    {
     "name": "stdout",
     "output_type": "stream",
     "text": [
      "              precision    recall  f1-score   support\n",
      "\n",
      "           0       0.60      0.60      0.60         5\n",
      "           1       0.67      0.67      0.67         6\n",
      "\n",
      "    accuracy                           0.64        11\n",
      "   macro avg       0.63      0.63      0.63        11\n",
      "weighted avg       0.64      0.64      0.64        11\n",
      "\n"
     ]
    }
   ],
   "source": [
    "print(classification_report(y_test, y_pred))"
   ]
  },
  {
   "cell_type": "code",
   "execution_count": 68,
   "metadata": {},
   "outputs": [
    {
     "data": {
      "image/png": "[encoded data removed]",
      "text/plain": [
       "<Figure size 576x288 with 2 Axes>"
      ]
     },
     "metadata": {
      "needs_background": "light"
     },
     "output_type": "display_data"
    }
   ],
   "source": [
    "cm = confusion_matrix(y_test, y_pred)\n",
    "cm_normalized = cm.astype('float') / cm.sum(axis=1)[:, np.newaxis]\n",
    "plt.figure(figsize=(8,4))\n",
    "plt.imshow(cm_normalized, interpolation='nearest', cmap=plt.cm.Blues)\n",
    "plt.title(\"Confusion Matrix Train/Val\")\n",
    "plt.colorbar()\n",
    "plt.tight_layout()\n",
    "tick_marks = np.arange(len(Y0.unique().tolist()))\n",
    "plt.xticks(tick_marks, Y0.unique().tolist(), rotation=45)\n",
    "plt.yticks(tick_marks, Y0.unique().tolist())\n",
    "plt.ylabel('True label')\n",
    "plt.xlabel('Predicted label')\n",
    "plt.show()"
   ]
  },
  {
   "cell_type": "code",
   "execution_count": 69,
   "metadata": {},
   "outputs": [
    {
     "data": {
      "text/plain": [
       "['brain_bio_volume_of_peripheral_cortical_grey_matter__normalised_for_head_size__0_imaging',\n",
       " 'brain_bio_volume_of_grey_matter__normalised_for_head_size__0_imaging',\n",
       " 'brain_bio_median_t2star_in_amygdala__right__0_imaging',\n",
       " 'brain_bio_mean_l2_in_fornix_cres_stria_terminalis_on_fa_skeleton__left__0_imaging',\n",
       " 'brain_bio_mean_rfmri_head_motion__averaged_across_space_and_time_points_0_imaging']"
      ]
     },
     "execution_count": 69,
     "metadata": {},
     "output_type": "execute_result"
    }
   ],
   "source": [
    "cols = selector.get_support(indices=True)\n",
    "features = X_combination_cfa2.iloc[:,cols]\n",
    "K_best_cmr_brain = list(features) \n",
    "K_best_cmr_brain"
   ]
  },
  {
   "cell_type": "code",
   "execution_count": 70,
   "metadata": {},
   "outputs": [],
   "source": [
    "probs = RF.predict_proba(X_test)\n",
    "probs = probs[:, 1]"
   ]
  },
  {
   "cell_type": "code",
   "execution_count": 71,
   "metadata": {},
   "outputs": [
    {
     "name": "stdout",
     "output_type": "stream",
     "text": [
      "AUC: 0.8333\n"
     ]
    }
   ],
   "source": [
    "# Compute the AUC Score.\n",
    "auc = roc_auc_score(y_test, probs)\n",
    "print('AUC: %.4f' % auc)"
   ]
  },
  {
   "cell_type": "code",
   "execution_count": 72,
   "metadata": {},
   "outputs": [],
   "source": [
    "# Get the ROC Curve\n",
    "fpr, tpr, thresholds = roc_curve(y_test, probs)"
   ]
  },
  {
   "cell_type": "code",
   "execution_count": 73,
   "metadata": {},
   "outputs": [
    {
     "data": {
      "image/png": "[encoded data removed]",
      "text/plain": [
       "<Figure size 432x288 with 1 Axes>"
      ]
     },
     "metadata": {
      "needs_background": "light"
     },
     "output_type": "display_data"
    }
   ],
   "source": [
    "plot_roc_curve(fpr, tpr)"
   ]
  },
  {
   "cell_type": "markdown",
   "metadata": {},
   "source": [
    "## 1.6 Correlation Plots"
   ]
  },
  {
   "cell_type": "code",
   "execution_count": 74,
   "metadata": {},
   "outputs": [
    {
     "data": {
      "text/plain": [
       "(['heart_Sphericity_LV_ED_shape',\n",
       "  'heart_Sphericity_LV_ES_shape',\n",
       "  'heart_Minimum_RV_ES_intensity',\n",
       "  'heart_InformalMeasureofCorrelation2_glcm_LV_ED_texture',\n",
       "  'heart_GrayLevelNonUniformity_glrlm_MYO_ES_texture'],\n",
       " ['cardio_cmr_LVEDV_i',\n",
       "  'cardio_cmr_LVSV_i',\n",
       "  'cardio_cmr_LVEF',\n",
       "  'cardio_cmr_RVEDV_i',\n",
       "  'cardio_cmr_RVSV_i'],\n",
       " ['brain_bio_volume_of_peripheral_cortical_grey_matter__normalised_for_head_size__0_imaging',\n",
       "  'brain_bio_volume_of_grey_matter__normalised_for_head_size__0_imaging',\n",
       "  'brain_bio_median_t2star_in_amygdala__right__0_imaging',\n",
       "  'brain_bio_mean_l2_in_fornix_cres_stria_terminalis_on_fa_skeleton__left__0_imaging',\n",
       "  'brain_bio_mean_rfmri_head_motion__averaged_across_space_and_time_points_0_imaging'],\n",
       " ['heart_Sphericity_LV_ES_shape',\n",
       "  'brain_bio_volume_of_grey_matter__normalised_for_head_size__0_imaging',\n",
       "  'brain_bio_median_t2star_in_amygdala__right__0_imaging',\n",
       "  'brain_bio_mean_l2_in_fornix_cres_stria_terminalis_on_fa_skeleton__left__0_imaging',\n",
       "  'brain_bio_mean_rfmri_head_motion__averaged_across_space_and_time_points_0_imaging'],\n",
       " ['brain_bio_volume_of_peripheral_cortical_grey_matter__normalised_for_head_size__0_imaging',\n",
       "  'brain_bio_volume_of_grey_matter__normalised_for_head_size__0_imaging',\n",
       "  'brain_bio_median_t2star_in_amygdala__right__0_imaging',\n",
       "  'brain_bio_mean_l2_in_fornix_cres_stria_terminalis_on_fa_skeleton__left__0_imaging',\n",
       "  'brain_bio_mean_rfmri_head_motion__averaged_across_space_and_time_points_0_imaging'])"
      ]
     },
     "execution_count": 74,
     "metadata": {},
     "output_type": "execute_result"
    }
   ],
   "source": [
    "K_best_heart, K_best_cmr, K_best_brain, K_best_heart_brain, K_best_cmr_brain"
   ]
  },
  {
   "cell_type": "code",
   "execution_count": 80,
   "metadata": {},
   "outputs": [],
   "source": [
    "# Create dataframes\n",
    "corr_heart_brain = data.filter(['heart_Sphericity_LV_ED_shape', \n",
    "                         'heart_Sphericity_LV_ES_shape',\n",
    "                         'heart_Minimum_RV_ES_intensity',\n",
    "                         'heart_InformalMeasureofCorrelation2_glcm_LV_ED_texture',\n",
    "                         'heart_GrayLevelNonUniformity_glrlm_MYO_ES_texture',\n",
    "                         'brain_bio_volume_of_peripheral_cortical_grey_matter__normalised_for_head_size__0_imaging',\n",
    "                         'brain_bio_volume_of_grey_matter__normalised_for_head_size__0_imaging',\n",
    "                         'brain_bio_median_t2star_in_amygdala__right__0_imaging',\n",
    "                         'brain_bio_mean_l2_in_fornix_cres_stria_terminalis_on_fa_skeleton__left__0_imaging',\n",
    "                         'brain_bio_mean_rfmri_head_motion__averaged_across_space_and_time_points_0_imaging'], axis=1)\n",
    "\n",
    "corr_cmr_brain = data.filter(['cardio_cmr_LVEDV_i', \n",
    "                         'cardio_cmr_LVESV_i',\n",
    "                         'cardio_cmr_LVEF',\n",
    "                         'cardio_cmr_RVEDV_i',\n",
    "                         'cardio_cmr_RVSV_i',\n",
    "                         'brain_bio_volume_of_peripheral_cortical_grey_matter__normalised_for_head_size__0_imaging',\n",
    "                         'brain_bio_volume_of_grey_matter__normalised_for_head_size__0_imaging',\n",
    "                         'brain_bio_median_t2star_in_amygdala__right__0_imaging',\n",
    "                         'brain_bio_mean_l2_in_fornix_cres_stria_terminalis_on_fa_skeleton__left__0_imaging',\n",
    "                         'brain_bio_mean_rfmri_head_motion__averaged_across_space_and_time_points_0_imaging'], axis=1)"
   ]
  },
  {
   "cell_type": "code",
   "execution_count": 81,
   "metadata": {},
   "outputs": [
    {
     "data": {
      "image/png": "[encoded data removed]",
      "text/plain": [
       "<Figure size 792x648 with 2 Axes>"
      ]
     },
     "metadata": {
      "needs_background": "light"
     },
     "output_type": "display_data"
    }
   ],
   "source": [
    "heart_brain_corr = corr_heart_brain.corr()\n",
    "plt.figure(figsize=(11,9))\n",
    "sns.heatmap(heart_brain_corr, cmap=plt.cm.RdBu_r, vmin=-1, vmax=1)\n",
    "plt.show()"
   ]
  },
  {
   "cell_type": "code",
   "execution_count": 82,
   "metadata": {},
   "outputs": [
    {
     "data": {
      "text/html": [
       "<div>\n",
       "<style scoped>\n",
       "    .dataframe tbody tr th:only-of-type {\n",
       "        vertical-align: middle;\n",
       "    }\n",
       "\n",
       "    .dataframe tbody tr th {\n",
       "        vertical-align: top;\n",
       "    }\n",
       "\n",
       "    .dataframe thead th {\n",
       "        text-align: right;\n",
       "    }\n",
       "</style>\n",
       "<table border=\"1\" class=\"dataframe\">\n",
       "  <thead>\n",
       "    <tr style=\"text-align: right;\">\n",
       "      <th></th>\n",
       "      <th>heart_Sphericity_LV_ED_shape</th>\n",
       "      <th>heart_Sphericity_LV_ES_shape</th>\n",
       "      <th>heart_Minimum_RV_ES_intensity</th>\n",
       "      <th>heart_InformalMeasureofCorrelation2_glcm_LV_ED_texture</th>\n",
       "      <th>heart_GrayLevelNonUniformity_glrlm_MYO_ES_texture</th>\n",
       "      <th>brain_bio_volume_of_peripheral_cortical_grey_matter__normalised_for_head_size__0_imaging</th>\n",
       "      <th>brain_bio_volume_of_grey_matter__normalised_for_head_size__0_imaging</th>\n",
       "      <th>brain_bio_median_t2star_in_amygdala__right__0_imaging</th>\n",
       "      <th>brain_bio_mean_l2_in_fornix_cres_stria_terminalis_on_fa_skeleton__left__0_imaging</th>\n",
       "      <th>brain_bio_mean_rfmri_head_motion__averaged_across_space_and_time_points_0_imaging</th>\n",
       "    </tr>\n",
       "  </thead>\n",
       "  <tbody>\n",
       "    <tr>\n",
       "      <th>heart_Sphericity_LV_ED_shape</th>\n",
       "      <td>1.000000</td>\n",
       "      <td>0.800405</td>\n",
       "      <td>0.190264</td>\n",
       "      <td>0.539882</td>\n",
       "      <td>-0.418375</td>\n",
       "      <td>0.148992</td>\n",
       "      <td>0.175091</td>\n",
       "      <td>0.116124</td>\n",
       "      <td>-0.152249</td>\n",
       "      <td>-0.240923</td>\n",
       "    </tr>\n",
       "    <tr>\n",
       "      <th>heart_Sphericity_LV_ES_shape</th>\n",
       "      <td>0.800405</td>\n",
       "      <td>1.000000</td>\n",
       "      <td>0.174024</td>\n",
       "      <td>0.463140</td>\n",
       "      <td>-0.400449</td>\n",
       "      <td>0.155706</td>\n",
       "      <td>0.184946</td>\n",
       "      <td>0.121133</td>\n",
       "      <td>-0.139151</td>\n",
       "      <td>-0.264148</td>\n",
       "    </tr>\n",
       "    <tr>\n",
       "      <th>heart_Minimum_RV_ES_intensity</th>\n",
       "      <td>0.190264</td>\n",
       "      <td>0.174024</td>\n",
       "      <td>1.000000</td>\n",
       "      <td>0.157702</td>\n",
       "      <td>-0.216347</td>\n",
       "      <td>0.129145</td>\n",
       "      <td>0.144175</td>\n",
       "      <td>0.106808</td>\n",
       "      <td>-0.087781</td>\n",
       "      <td>-0.241629</td>\n",
       "    </tr>\n",
       "    <tr>\n",
       "      <th>heart_InformalMeasureofCorrelation2_glcm_LV_ED_texture</th>\n",
       "      <td>0.539882</td>\n",
       "      <td>0.463140</td>\n",
       "      <td>0.157702</td>\n",
       "      <td>1.000000</td>\n",
       "      <td>-0.038227</td>\n",
       "      <td>0.007503</td>\n",
       "      <td>0.017726</td>\n",
       "      <td>0.060931</td>\n",
       "      <td>-0.067808</td>\n",
       "      <td>-0.107064</td>\n",
       "    </tr>\n",
       "    <tr>\n",
       "      <th>heart_GrayLevelNonUniformity_glrlm_MYO_ES_texture</th>\n",
       "      <td>-0.418375</td>\n",
       "      <td>-0.400449</td>\n",
       "      <td>-0.216347</td>\n",
       "      <td>-0.038227</td>\n",
       "      <td>1.000000</td>\n",
       "      <td>-0.210423</td>\n",
       "      <td>-0.246324</td>\n",
       "      <td>-0.150616</td>\n",
       "      <td>0.082190</td>\n",
       "      <td>0.243170</td>\n",
       "    </tr>\n",
       "    <tr>\n",
       "      <th>brain_bio_volume_of_peripheral_cortical_grey_matter__normalised_for_head_size__0_imaging</th>\n",
       "      <td>0.148992</td>\n",
       "      <td>0.155706</td>\n",
       "      <td>0.129145</td>\n",
       "      <td>0.007503</td>\n",
       "      <td>-0.210423</td>\n",
       "      <td>1.000000</td>\n",
       "      <td>0.950033</td>\n",
       "      <td>0.119352</td>\n",
       "      <td>-0.411674</td>\n",
       "      <td>-0.161927</td>\n",
       "    </tr>\n",
       "    <tr>\n",
       "      <th>brain_bio_volume_of_grey_matter__normalised_for_head_size__0_imaging</th>\n",
       "      <td>0.175091</td>\n",
       "      <td>0.184946</td>\n",
       "      <td>0.144175</td>\n",
       "      <td>0.017726</td>\n",
       "      <td>-0.246324</td>\n",
       "      <td>0.950033</td>\n",
       "      <td>1.000000</td>\n",
       "      <td>0.134032</td>\n",
       "      <td>-0.406093</td>\n",
       "      <td>-0.214465</td>\n",
       "    </tr>\n",
       "    <tr>\n",
       "      <th>brain_bio_median_t2star_in_amygdala__right__0_imaging</th>\n",
       "      <td>0.116124</td>\n",
       "      <td>0.121133</td>\n",
       "      <td>0.106808</td>\n",
       "      <td>0.060931</td>\n",
       "      <td>-0.150616</td>\n",
       "      <td>0.119352</td>\n",
       "      <td>0.134032</td>\n",
       "      <td>1.000000</td>\n",
       "      <td>-0.044940</td>\n",
       "      <td>-0.320882</td>\n",
       "    </tr>\n",
       "    <tr>\n",
       "      <th>brain_bio_mean_l2_in_fornix_cres_stria_terminalis_on_fa_skeleton__left__0_imaging</th>\n",
       "      <td>-0.152249</td>\n",
       "      <td>-0.139151</td>\n",
       "      <td>-0.087781</td>\n",
       "      <td>-0.067808</td>\n",
       "      <td>0.082190</td>\n",
       "      <td>-0.411674</td>\n",
       "      <td>-0.406093</td>\n",
       "      <td>-0.044940</td>\n",
       "      <td>1.000000</td>\n",
       "      <td>0.154118</td>\n",
       "    </tr>\n",
       "    <tr>\n",
       "      <th>brain_bio_mean_rfmri_head_motion__averaged_across_space_and_time_points_0_imaging</th>\n",
       "      <td>-0.240923</td>\n",
       "      <td>-0.264148</td>\n",
       "      <td>-0.241629</td>\n",
       "      <td>-0.107064</td>\n",
       "      <td>0.243170</td>\n",
       "      <td>-0.161927</td>\n",
       "      <td>-0.214465</td>\n",
       "      <td>-0.320882</td>\n",
       "      <td>0.154118</td>\n",
       "      <td>1.000000</td>\n",
       "    </tr>\n",
       "  </tbody>\n",
       "</table>\n",
       "</div>"
      ],
      "text/plain": [
       "                                                    heart_Sphericity_LV_ED_shape  \\\n",
       "heart_Sphericity_LV_ED_shape                                            1.000000   \n",
       "heart_Sphericity_LV_ES_shape                                            0.800405   \n",
       "heart_Minimum_RV_ES_intensity                                           0.190264   \n",
       "heart_InformalMeasureofCorrelation2_glcm_LV_ED_...                      0.539882   \n",
       "heart_GrayLevelNonUniformity_glrlm_MYO_ES_texture                      -0.418375   \n",
       "brain_bio_volume_of_peripheral_cortical_grey_ma...                      0.148992   \n",
       "brain_bio_volume_of_grey_matter__normalised_for...                      0.175091   \n",
       "brain_bio_median_t2star_in_amygdala__right__0_i...                      0.116124   \n",
       "brain_bio_mean_l2_in_fornix_cres_stria_terminal...                     -0.152249   \n",
       "brain_bio_mean_rfmri_head_motion__averaged_acro...                     -0.240923   \n",
       "\n",
       "                                                    heart_Sphericity_LV_ES_shape  \\\n",
       "heart_Sphericity_LV_ED_shape                                            0.800405   \n",
       "heart_Sphericity_LV_ES_shape                                            1.000000   \n",
       "heart_Minimum_RV_ES_intensity                                           0.174024   \n",
       "heart_InformalMeasureofCorrelation2_glcm_LV_ED_...                      0.463140   \n",
       "heart_GrayLevelNonUniformity_glrlm_MYO_ES_texture                      -0.400449   \n",
       "brain_bio_volume_of_peripheral_cortical_grey_ma...                      0.155706   \n",
       "brain_bio_volume_of_grey_matter__normalised_for...                      0.184946   \n",
       "brain_bio_median_t2star_in_amygdala__right__0_i...                      0.121133   \n",
       "brain_bio_mean_l2_in_fornix_cres_stria_terminal...                     -0.139151   \n",
       "brain_bio_mean_rfmri_head_motion__averaged_acro...                     -0.264148   \n",
       "\n",
       "                                                    heart_Minimum_RV_ES_intensity  \\\n",
       "heart_Sphericity_LV_ED_shape                                             0.190264   \n",
       "heart_Sphericity_LV_ES_shape                                             0.174024   \n",
       "heart_Minimum_RV_ES_intensity                                            1.000000   \n",
       "heart_InformalMeasureofCorrelation2_glcm_LV_ED_...                       0.157702   \n",
       "heart_GrayLevelNonUniformity_glrlm_MYO_ES_texture                       -0.216347   \n",
       "brain_bio_volume_of_peripheral_cortical_grey_ma...                       0.129145   \n",
       "brain_bio_volume_of_grey_matter__normalised_for...                       0.144175   \n",
       "brain_bio_median_t2star_in_amygdala__right__0_i...                       0.106808   \n",
       "brain_bio_mean_l2_in_fornix_cres_stria_terminal...                      -0.087781   \n",
       "brain_bio_mean_rfmri_head_motion__averaged_acro...                      -0.241629   \n",
       "\n",
       "                                                    heart_InformalMeasureofCorrelation2_glcm_LV_ED_texture  \\\n",
       "heart_Sphericity_LV_ED_shape                                                                 0.539882        \n",
       "heart_Sphericity_LV_ES_shape                                                                 0.463140        \n",
       "heart_Minimum_RV_ES_intensity                                                                0.157702        \n",
       "heart_InformalMeasureofCorrelation2_glcm_LV_ED_...                                           1.000000        \n",
       "heart_GrayLevelNonUniformity_glrlm_MYO_ES_texture                                           -0.038227        \n",
       "brain_bio_volume_of_peripheral_cortical_grey_ma...                                           0.007503        \n",
       "brain_bio_volume_of_grey_matter__normalised_for...                                           0.017726        \n",
       "brain_bio_median_t2star_in_amygdala__right__0_i...                                           0.060931        \n",
       "brain_bio_mean_l2_in_fornix_cres_stria_terminal...                                          -0.067808        \n",
       "brain_bio_mean_rfmri_head_motion__averaged_acro...                                          -0.107064        \n",
       "\n",
       "                                                    heart_GrayLevelNonUniformity_glrlm_MYO_ES_texture  \\\n",
       "heart_Sphericity_LV_ED_shape                                                                -0.418375   \n",
       "heart_Sphericity_LV_ES_shape                                                                -0.400449   \n",
       "heart_Minimum_RV_ES_intensity                                                               -0.216347   \n",
       "heart_InformalMeasureofCorrelation2_glcm_LV_ED_...                                          -0.038227   \n",
       "heart_GrayLevelNonUniformity_glrlm_MYO_ES_texture                                            1.000000   \n",
       "brain_bio_volume_of_peripheral_cortical_grey_ma...                                          -0.210423   \n",
       "brain_bio_volume_of_grey_matter__normalised_for...                                          -0.246324   \n",
       "brain_bio_median_t2star_in_amygdala__right__0_i...                                          -0.150616   \n",
       "brain_bio_mean_l2_in_fornix_cres_stria_terminal...                                           0.082190   \n",
       "brain_bio_mean_rfmri_head_motion__averaged_acro...                                           0.243170   \n",
       "\n",
       "                                                    brain_bio_volume_of_peripheral_cortical_grey_matter__normalised_for_head_size__0_imaging  \\\n",
       "heart_Sphericity_LV_ED_shape                                                                 0.148992                                          \n",
       "heart_Sphericity_LV_ES_shape                                                                 0.155706                                          \n",
       "heart_Minimum_RV_ES_intensity                                                                0.129145                                          \n",
       "heart_InformalMeasureofCorrelation2_glcm_LV_ED_...                                           0.007503                                          \n",
       "heart_GrayLevelNonUniformity_glrlm_MYO_ES_texture                                           -0.210423                                          \n",
       "brain_bio_volume_of_peripheral_cortical_grey_ma...                                           1.000000                                          \n",
       "brain_bio_volume_of_grey_matter__normalised_for...                                           0.950033                                          \n",
       "brain_bio_median_t2star_in_amygdala__right__0_i...                                           0.119352                                          \n",
       "brain_bio_mean_l2_in_fornix_cres_stria_terminal...                                          -0.411674                                          \n",
       "brain_bio_mean_rfmri_head_motion__averaged_acro...                                          -0.161927                                          \n",
       "\n",
       "                                                    brain_bio_volume_of_grey_matter__normalised_for_head_size__0_imaging  \\\n",
       "heart_Sphericity_LV_ED_shape                                                                 0.175091                      \n",
       "heart_Sphericity_LV_ES_shape                                                                 0.184946                      \n",
       "heart_Minimum_RV_ES_intensity                                                                0.144175                      \n",
       "heart_InformalMeasureofCorrelation2_glcm_LV_ED_...                                           0.017726                      \n",
       "heart_GrayLevelNonUniformity_glrlm_MYO_ES_texture                                           -0.246324                      \n",
       "brain_bio_volume_of_peripheral_cortical_grey_ma...                                           0.950033                      \n",
       "brain_bio_volume_of_grey_matter__normalised_for...                                           1.000000                      \n",
       "brain_bio_median_t2star_in_amygdala__right__0_i...                                           0.134032                      \n",
       "brain_bio_mean_l2_in_fornix_cres_stria_terminal...                                          -0.406093                      \n",
       "brain_bio_mean_rfmri_head_motion__averaged_acro...                                          -0.214465                      \n",
       "\n",
       "                                                    brain_bio_median_t2star_in_amygdala__right__0_imaging  \\\n",
       "heart_Sphericity_LV_ED_shape                                                                 0.116124       \n",
       "heart_Sphericity_LV_ES_shape                                                                 0.121133       \n",
       "heart_Minimum_RV_ES_intensity                                                                0.106808       \n",
       "heart_InformalMeasureofCorrelation2_glcm_LV_ED_...                                           0.060931       \n",
       "heart_GrayLevelNonUniformity_glrlm_MYO_ES_texture                                           -0.150616       \n",
       "brain_bio_volume_of_peripheral_cortical_grey_ma...                                           0.119352       \n",
       "brain_bio_volume_of_grey_matter__normalised_for...                                           0.134032       \n",
       "brain_bio_median_t2star_in_amygdala__right__0_i...                                           1.000000       \n",
       "brain_bio_mean_l2_in_fornix_cres_stria_terminal...                                          -0.044940       \n",
       "brain_bio_mean_rfmri_head_motion__averaged_acro...                                          -0.320882       \n",
       "\n",
       "                                                    brain_bio_mean_l2_in_fornix_cres_stria_terminalis_on_fa_skeleton__left__0_imaging  \\\n",
       "heart_Sphericity_LV_ED_shape                                                                -0.152249                                   \n",
       "heart_Sphericity_LV_ES_shape                                                                -0.139151                                   \n",
       "heart_Minimum_RV_ES_intensity                                                               -0.087781                                   \n",
       "heart_InformalMeasureofCorrelation2_glcm_LV_ED_...                                          -0.067808                                   \n",
       "heart_GrayLevelNonUniformity_glrlm_MYO_ES_texture                                            0.082190                                   \n",
       "brain_bio_volume_of_peripheral_cortical_grey_ma...                                          -0.411674                                   \n",
       "brain_bio_volume_of_grey_matter__normalised_for...                                          -0.406093                                   \n",
       "brain_bio_median_t2star_in_amygdala__right__0_i...                                          -0.044940                                   \n",
       "brain_bio_mean_l2_in_fornix_cres_stria_terminal...                                           1.000000                                   \n",
       "brain_bio_mean_rfmri_head_motion__averaged_acro...                                           0.154118                                   \n",
       "\n",
       "                                                    brain_bio_mean_rfmri_head_motion__averaged_across_space_and_time_points_0_imaging  \n",
       "heart_Sphericity_LV_ED_shape                                                                -0.240923                                  \n",
       "heart_Sphericity_LV_ES_shape                                                                -0.264148                                  \n",
       "heart_Minimum_RV_ES_intensity                                                               -0.241629                                  \n",
       "heart_InformalMeasureofCorrelation2_glcm_LV_ED_...                                          -0.107064                                  \n",
       "heart_GrayLevelNonUniformity_glrlm_MYO_ES_texture                                            0.243170                                  \n",
       "brain_bio_volume_of_peripheral_cortical_grey_ma...                                          -0.161927                                  \n",
       "brain_bio_volume_of_grey_matter__normalised_for...                                          -0.214465                                  \n",
       "brain_bio_median_t2star_in_amygdala__right__0_i...                                          -0.320882                                  \n",
       "brain_bio_mean_l2_in_fornix_cres_stria_terminal...                                           0.154118                                  \n",
       "brain_bio_mean_rfmri_head_motion__averaged_acro...                                           1.000000                                  "
      ]
     },
     "execution_count": 82,
     "metadata": {},
     "output_type": "execute_result"
    }
   ],
   "source": [
    "heart_brain_corr"
   ]
  },
  {
   "cell_type": "code",
   "execution_count": 83,
   "metadata": {},
   "outputs": [
    {
     "data": {
      "image/png": "[encoded data removed]",
      "text/plain": [
       "<Figure size 792x648 with 2 Axes>"
      ]
     },
     "metadata": {
      "needs_background": "light"
     },
     "output_type": "display_data"
    }
   ],
   "source": [
    "cmr_brain_corr = corr_cmr_brain.corr()\n",
    "plt.figure(figsize=(11,9))\n",
    "sns.heatmap(cmr_brain_corr, cmap=plt.cm.RdBu_r, vmin=-1, vmax=1)\n",
    "plt.show()"
   ]
  },
  {
   "cell_type": "code",
   "execution_count": 84,
   "metadata": {},
   "outputs": [
    {
     "data": {
      "text/html": [
       "<div>\n",
       "<style scoped>\n",
       "    .dataframe tbody tr th:only-of-type {\n",
       "        vertical-align: middle;\n",
       "    }\n",
       "\n",
       "    .dataframe tbody tr th {\n",
       "        vertical-align: top;\n",
       "    }\n",
       "\n",
       "    .dataframe thead th {\n",
       "        text-align: right;\n",
       "    }\n",
       "</style>\n",
       "<table border=\"1\" class=\"dataframe\">\n",
       "  <thead>\n",
       "    <tr style=\"text-align: right;\">\n",
       "      <th></th>\n",
       "      <th>cardio_cmr_LVEDV_i</th>\n",
       "      <th>cardio_cmr_LVESV_i</th>\n",
       "      <th>cardio_cmr_LVEF</th>\n",
       "      <th>cardio_cmr_RVEDV_i</th>\n",
       "      <th>cardio_cmr_RVSV_i</th>\n",
       "      <th>brain_bio_volume_of_peripheral_cortical_grey_matter__normalised_for_head_size__0_imaging</th>\n",
       "      <th>brain_bio_volume_of_grey_matter__normalised_for_head_size__0_imaging</th>\n",
       "      <th>brain_bio_median_t2star_in_amygdala__right__0_imaging</th>\n",
       "      <th>brain_bio_mean_l2_in_fornix_cres_stria_terminalis_on_fa_skeleton__left__0_imaging</th>\n",
       "      <th>brain_bio_mean_rfmri_head_motion__averaged_across_space_and_time_points_0_imaging</th>\n",
       "    </tr>\n",
       "  </thead>\n",
       "  <tbody>\n",
       "    <tr>\n",
       "      <th>cardio_cmr_LVEDV_i</th>\n",
       "      <td>1.000000</td>\n",
       "      <td>0.832724</td>\n",
       "      <td>-0.257471</td>\n",
       "      <td>0.806088</td>\n",
       "      <td>0.774736</td>\n",
       "      <td>-0.013272</td>\n",
       "      <td>-0.012954</td>\n",
       "      <td>0.047714</td>\n",
       "      <td>-0.088035</td>\n",
       "      <td>-0.119604</td>\n",
       "    </tr>\n",
       "    <tr>\n",
       "      <th>cardio_cmr_LVESV_i</th>\n",
       "      <td>0.832724</td>\n",
       "      <td>1.000000</td>\n",
       "      <td>-0.739175</td>\n",
       "      <td>0.636581</td>\n",
       "      <td>0.377506</td>\n",
       "      <td>-0.031297</td>\n",
       "      <td>-0.031579</td>\n",
       "      <td>0.011248</td>\n",
       "      <td>-0.063240</td>\n",
       "      <td>-0.083726</td>\n",
       "    </tr>\n",
       "    <tr>\n",
       "      <th>cardio_cmr_LVEF</th>\n",
       "      <td>-0.257471</td>\n",
       "      <td>-0.739175</td>\n",
       "      <td>1.000000</td>\n",
       "      <td>-0.153762</td>\n",
       "      <td>0.255656</td>\n",
       "      <td>0.035896</td>\n",
       "      <td>0.039049</td>\n",
       "      <td>0.030187</td>\n",
       "      <td>0.008146</td>\n",
       "      <td>0.010295</td>\n",
       "    </tr>\n",
       "    <tr>\n",
       "      <th>cardio_cmr_RVEDV_i</th>\n",
       "      <td>0.806088</td>\n",
       "      <td>0.636581</td>\n",
       "      <td>-0.153762</td>\n",
       "      <td>1.000000</td>\n",
       "      <td>0.796017</td>\n",
       "      <td>-0.016818</td>\n",
       "      <td>-0.024425</td>\n",
       "      <td>0.059393</td>\n",
       "      <td>-0.095826</td>\n",
       "      <td>-0.095598</td>\n",
       "    </tr>\n",
       "    <tr>\n",
       "      <th>cardio_cmr_RVSV_i</th>\n",
       "      <td>0.774736</td>\n",
       "      <td>0.377506</td>\n",
       "      <td>0.255656</td>\n",
       "      <td>0.796017</td>\n",
       "      <td>1.000000</td>\n",
       "      <td>0.007807</td>\n",
       "      <td>0.005348</td>\n",
       "      <td>0.070559</td>\n",
       "      <td>-0.084985</td>\n",
       "      <td>-0.116529</td>\n",
       "    </tr>\n",
       "    <tr>\n",
       "      <th>brain_bio_volume_of_peripheral_cortical_grey_matter__normalised_for_head_size__0_imaging</th>\n",
       "      <td>-0.013272</td>\n",
       "      <td>-0.031297</td>\n",
       "      <td>0.035896</td>\n",
       "      <td>-0.016818</td>\n",
       "      <td>0.007807</td>\n",
       "      <td>1.000000</td>\n",
       "      <td>0.950033</td>\n",
       "      <td>0.119352</td>\n",
       "      <td>-0.411674</td>\n",
       "      <td>-0.161927</td>\n",
       "    </tr>\n",
       "    <tr>\n",
       "      <th>brain_bio_volume_of_grey_matter__normalised_for_head_size__0_imaging</th>\n",
       "      <td>-0.012954</td>\n",
       "      <td>-0.031579</td>\n",
       "      <td>0.039049</td>\n",
       "      <td>-0.024425</td>\n",
       "      <td>0.005348</td>\n",
       "      <td>0.950033</td>\n",
       "      <td>1.000000</td>\n",
       "      <td>0.134032</td>\n",
       "      <td>-0.406093</td>\n",
       "      <td>-0.214465</td>\n",
       "    </tr>\n",
       "    <tr>\n",
       "      <th>brain_bio_median_t2star_in_amygdala__right__0_imaging</th>\n",
       "      <td>0.047714</td>\n",
       "      <td>0.011248</td>\n",
       "      <td>0.030187</td>\n",
       "      <td>0.059393</td>\n",
       "      <td>0.070559</td>\n",
       "      <td>0.119352</td>\n",
       "      <td>0.134032</td>\n",
       "      <td>1.000000</td>\n",
       "      <td>-0.044940</td>\n",
       "      <td>-0.320882</td>\n",
       "    </tr>\n",
       "    <tr>\n",
       "      <th>brain_bio_mean_l2_in_fornix_cres_stria_terminalis_on_fa_skeleton__left__0_imaging</th>\n",
       "      <td>-0.088035</td>\n",
       "      <td>-0.063240</td>\n",
       "      <td>0.008146</td>\n",
       "      <td>-0.095826</td>\n",
       "      <td>-0.084985</td>\n",
       "      <td>-0.411674</td>\n",
       "      <td>-0.406093</td>\n",
       "      <td>-0.044940</td>\n",
       "      <td>1.000000</td>\n",
       "      <td>0.154118</td>\n",
       "    </tr>\n",
       "    <tr>\n",
       "      <th>brain_bio_mean_rfmri_head_motion__averaged_across_space_and_time_points_0_imaging</th>\n",
       "      <td>-0.119604</td>\n",
       "      <td>-0.083726</td>\n",
       "      <td>0.010295</td>\n",
       "      <td>-0.095598</td>\n",
       "      <td>-0.116529</td>\n",
       "      <td>-0.161927</td>\n",
       "      <td>-0.214465</td>\n",
       "      <td>-0.320882</td>\n",
       "      <td>0.154118</td>\n",
       "      <td>1.000000</td>\n",
       "    </tr>\n",
       "  </tbody>\n",
       "</table>\n",
       "</div>"
      ],
      "text/plain": [
       "                                                    cardio_cmr_LVEDV_i  \\\n",
       "cardio_cmr_LVEDV_i                                            1.000000   \n",
       "cardio_cmr_LVESV_i                                            0.832724   \n",
       "cardio_cmr_LVEF                                              -0.257471   \n",
       "cardio_cmr_RVEDV_i                                            0.806088   \n",
       "cardio_cmr_RVSV_i                                             0.774736   \n",
       "brain_bio_volume_of_peripheral_cortical_grey_ma...           -0.013272   \n",
       "brain_bio_volume_of_grey_matter__normalised_for...           -0.012954   \n",
       "brain_bio_median_t2star_in_amygdala__right__0_i...            0.047714   \n",
       "brain_bio_mean_l2_in_fornix_cres_stria_terminal...           -0.088035   \n",
       "brain_bio_mean_rfmri_head_motion__averaged_acro...           -0.119604   \n",
       "\n",
       "                                                    cardio_cmr_LVESV_i  \\\n",
       "cardio_cmr_LVEDV_i                                            0.832724   \n",
       "cardio_cmr_LVESV_i                                            1.000000   \n",
       "cardio_cmr_LVEF                                              -0.739175   \n",
       "cardio_cmr_RVEDV_i                                            0.636581   \n",
       "cardio_cmr_RVSV_i                                             0.377506   \n",
       "brain_bio_volume_of_peripheral_cortical_grey_ma...           -0.031297   \n",
       "brain_bio_volume_of_grey_matter__normalised_for...           -0.031579   \n",
       "brain_bio_median_t2star_in_amygdala__right__0_i...            0.011248   \n",
       "brain_bio_mean_l2_in_fornix_cres_stria_terminal...           -0.063240   \n",
       "brain_bio_mean_rfmri_head_motion__averaged_acro...           -0.083726   \n",
       "\n",
       "                                                    cardio_cmr_LVEF  \\\n",
       "cardio_cmr_LVEDV_i                                        -0.257471   \n",
       "cardio_cmr_LVESV_i                                        -0.739175   \n",
       "cardio_cmr_LVEF                                            1.000000   \n",
       "cardio_cmr_RVEDV_i                                        -0.153762   \n",
       "cardio_cmr_RVSV_i                                          0.255656   \n",
       "brain_bio_volume_of_peripheral_cortical_grey_ma...         0.035896   \n",
       "brain_bio_volume_of_grey_matter__normalised_for...         0.039049   \n",
       "brain_bio_median_t2star_in_amygdala__right__0_i...         0.030187   \n",
       "brain_bio_mean_l2_in_fornix_cres_stria_terminal...         0.008146   \n",
       "brain_bio_mean_rfmri_head_motion__averaged_acro...         0.010295   \n",
       "\n",
       "                                                    cardio_cmr_RVEDV_i  \\\n",
       "cardio_cmr_LVEDV_i                                            0.806088   \n",
       "cardio_cmr_LVESV_i                                            0.636581   \n",
       "cardio_cmr_LVEF                                              -0.153762   \n",
       "cardio_cmr_RVEDV_i                                            1.000000   \n",
       "cardio_cmr_RVSV_i                                             0.796017   \n",
       "brain_bio_volume_of_peripheral_cortical_grey_ma...           -0.016818   \n",
       "brain_bio_volume_of_grey_matter__normalised_for...           -0.024425   \n",
       "brain_bio_median_t2star_in_amygdala__right__0_i...            0.059393   \n",
       "brain_bio_mean_l2_in_fornix_cres_stria_terminal...           -0.095826   \n",
       "brain_bio_mean_rfmri_head_motion__averaged_acro...           -0.095598   \n",
       "\n",
       "                                                    cardio_cmr_RVSV_i  \\\n",
       "cardio_cmr_LVEDV_i                                           0.774736   \n",
       "cardio_cmr_LVESV_i                                           0.377506   \n",
       "cardio_cmr_LVEF                                              0.255656   \n",
       "cardio_cmr_RVEDV_i                                           0.796017   \n",
       "cardio_cmr_RVSV_i                                            1.000000   \n",
       "brain_bio_volume_of_peripheral_cortical_grey_ma...           0.007807   \n",
       "brain_bio_volume_of_grey_matter__normalised_for...           0.005348   \n",
       "brain_bio_median_t2star_in_amygdala__right__0_i...           0.070559   \n",
       "brain_bio_mean_l2_in_fornix_cres_stria_terminal...          -0.084985   \n",
       "brain_bio_mean_rfmri_head_motion__averaged_acro...          -0.116529   \n",
       "\n",
       "                                                    brain_bio_volume_of_peripheral_cortical_grey_matter__normalised_for_head_size__0_imaging  \\\n",
       "cardio_cmr_LVEDV_i                                                                          -0.013272                                          \n",
       "cardio_cmr_LVESV_i                                                                          -0.031297                                          \n",
       "cardio_cmr_LVEF                                                                              0.035896                                          \n",
       "cardio_cmr_RVEDV_i                                                                          -0.016818                                          \n",
       "cardio_cmr_RVSV_i                                                                            0.007807                                          \n",
       "brain_bio_volume_of_peripheral_cortical_grey_ma...                                           1.000000                                          \n",
       "brain_bio_volume_of_grey_matter__normalised_for...                                           0.950033                                          \n",
       "brain_bio_median_t2star_in_amygdala__right__0_i...                                           0.119352                                          \n",
       "brain_bio_mean_l2_in_fornix_cres_stria_terminal...                                          -0.411674                                          \n",
       "brain_bio_mean_rfmri_head_motion__averaged_acro...                                          -0.161927                                          \n",
       "\n",
       "                                                    brain_bio_volume_of_grey_matter__normalised_for_head_size__0_imaging  \\\n",
       "cardio_cmr_LVEDV_i                                                                          -0.012954                      \n",
       "cardio_cmr_LVESV_i                                                                          -0.031579                      \n",
       "cardio_cmr_LVEF                                                                              0.039049                      \n",
       "cardio_cmr_RVEDV_i                                                                          -0.024425                      \n",
       "cardio_cmr_RVSV_i                                                                            0.005348                      \n",
       "brain_bio_volume_of_peripheral_cortical_grey_ma...                                           0.950033                      \n",
       "brain_bio_volume_of_grey_matter__normalised_for...                                           1.000000                      \n",
       "brain_bio_median_t2star_in_amygdala__right__0_i...                                           0.134032                      \n",
       "brain_bio_mean_l2_in_fornix_cres_stria_terminal...                                          -0.406093                      \n",
       "brain_bio_mean_rfmri_head_motion__averaged_acro...                                          -0.214465                      \n",
       "\n",
       "                                                    brain_bio_median_t2star_in_amygdala__right__0_imaging  \\\n",
       "cardio_cmr_LVEDV_i                                                                           0.047714       \n",
       "cardio_cmr_LVESV_i                                                                           0.011248       \n",
       "cardio_cmr_LVEF                                                                              0.030187       \n",
       "cardio_cmr_RVEDV_i                                                                           0.059393       \n",
       "cardio_cmr_RVSV_i                                                                            0.070559       \n",
       "brain_bio_volume_of_peripheral_cortical_grey_ma...                                           0.119352       \n",
       "brain_bio_volume_of_grey_matter__normalised_for...                                           0.134032       \n",
       "brain_bio_median_t2star_in_amygdala__right__0_i...                                           1.000000       \n",
       "brain_bio_mean_l2_in_fornix_cres_stria_terminal...                                          -0.044940       \n",
       "brain_bio_mean_rfmri_head_motion__averaged_acro...                                          -0.320882       \n",
       "\n",
       "                                                    brain_bio_mean_l2_in_fornix_cres_stria_terminalis_on_fa_skeleton__left__0_imaging  \\\n",
       "cardio_cmr_LVEDV_i                                                                          -0.088035                                   \n",
       "cardio_cmr_LVESV_i                                                                          -0.063240                                   \n",
       "cardio_cmr_LVEF                                                                              0.008146                                   \n",
       "cardio_cmr_RVEDV_i                                                                          -0.095826                                   \n",
       "cardio_cmr_RVSV_i                                                                           -0.084985                                   \n",
       "brain_bio_volume_of_peripheral_cortical_grey_ma...                                          -0.411674                                   \n",
       "brain_bio_volume_of_grey_matter__normalised_for...                                          -0.406093                                   \n",
       "brain_bio_median_t2star_in_amygdala__right__0_i...                                          -0.044940                                   \n",
       "brain_bio_mean_l2_in_fornix_cres_stria_terminal...                                           1.000000                                   \n",
       "brain_bio_mean_rfmri_head_motion__averaged_acro...                                           0.154118                                   \n",
       "\n",
       "                                                    brain_bio_mean_rfmri_head_motion__averaged_across_space_and_time_points_0_imaging  \n",
       "cardio_cmr_LVEDV_i                                                                          -0.119604                                  \n",
       "cardio_cmr_LVESV_i                                                                          -0.083726                                  \n",
       "cardio_cmr_LVEF                                                                              0.010295                                  \n",
       "cardio_cmr_RVEDV_i                                                                          -0.095598                                  \n",
       "cardio_cmr_RVSV_i                                                                           -0.116529                                  \n",
       "brain_bio_volume_of_peripheral_cortical_grey_ma...                                          -0.161927                                  \n",
       "brain_bio_volume_of_grey_matter__normalised_for...                                          -0.214465                                  \n",
       "brain_bio_median_t2star_in_amygdala__right__0_i...                                          -0.320882                                  \n",
       "brain_bio_mean_l2_in_fornix_cres_stria_terminal...                                           0.154118                                  \n",
       "brain_bio_mean_rfmri_head_motion__averaged_acro...                                           1.000000                                  "
      ]
     },
     "execution_count": 84,
     "metadata": {},
     "output_type": "execute_result"
    }
   ],
   "source": [
    "cmr_brain_corr"
   ]
  },
  {
   "cell_type": "markdown",
   "metadata": {},
   "source": [
    "# 2. References"
   ]
  },
  {
   "cell_type": "markdown",
   "metadata": {},
   "source": [
    "[1] [Pedregosa, F. et al. (2011)](https://www.jmlr.org/papers/volume12/pedregosa11a/pedregosa11a.pdf). Scikit-learn: Machine Learning in Python."
   ]
  }
 ],
 "metadata": {
  "kernelspec": {
   "display_name": "Python 3",
   "language": "python",
   "name": "python3"
  },
  "language_info": {
   "codemirror_mode": {
    "name": "ipython",
    "version": 3
   },
   "file_extension": ".py",
   "mimetype": "text/x-python",
   "name": "python",
   "nbconvert_exporter": "python",
   "pygments_lexer": "ipython3",
   "version": "3.7.3"
  }
 },
 "nbformat": 4,
 "nbformat_minor": 2
}
