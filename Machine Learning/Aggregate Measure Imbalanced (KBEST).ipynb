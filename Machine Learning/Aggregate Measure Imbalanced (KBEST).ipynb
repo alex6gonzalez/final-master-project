{
 "cells": [
  {
   "cell_type": "code",
   "execution_count": 1,
   "metadata": {},
   "outputs": [],
   "source": [
    "import numpy as np\n",
    "import pandas as pd\n",
    "import matplotlib.pyplot as plt\n",
    "from sklearn.preprocessing import MinMaxScaler\n",
    "from sklearn.model_selection import train_test_split\n",
    "from sklearn.ensemble import RandomForestClassifier\n",
    "from sklearn.metrics import f1_score, accuracy_score, confusion_matrix, classification_report, roc_auc_score, roc_curve\n",
    "from sklearn.feature_selection import SelectFromModel, SelectKBest, f_classif\n",
    "import seaborn as sns"
   ]
  },
  {
   "cell_type": "markdown",
   "metadata": {},
   "source": [
    "# 1. Predicting Aggregate Measure with KBest"
   ]
  },
  {
   "cell_type": "markdown",
   "metadata": {},
   "source": [
    "Our aggregate measure of vascular risk is a discrete categorical variable. Therefore,\n",
    "we considered that the optimal algorithm to predict it is a supervised learning model\n",
    "for the classification of the aggregate measure, which values range from 0 to 5. In\n",
    "addition, due to the imbalanced nature of our target variable, we considered that\n",
    "the best algorithm to choose is Random Forest (RF) from the \"ensemble\" class in\n",
    "Scikit-learn [1]."
   ]
  },
  {
   "cell_type": "code",
   "execution_count": 2,
   "metadata": {},
   "outputs": [
    {
     "data": {
      "text/plain": [
       "(2065, 1428)"
      ]
     },
     "execution_count": 2,
     "metadata": {},
     "output_type": "execute_result"
    }
   ],
   "source": [
    "# Loading the data\n",
    "data = pd.read_csv('casuality_data_final_factor_analyzer.csv')\n",
    "data.shape"
   ]
  },
  {
   "cell_type": "code",
   "execution_count": 3,
   "metadata": {},
   "outputs": [
    {
     "data": {
      "text/plain": [
       "<matplotlib.axes._subplots.AxesSubplot at 0x1e289502940>"
      ]
     },
     "execution_count": 3,
     "metadata": {},
     "output_type": "execute_result"
    },
    {
     "data": {
      "image/png": "[encoded data removed]",
      "text/plain": [
       "<Figure size 432x288 with 1 Axes>"
      ]
     },
     "metadata": {
      "needs_background": "light"
     },
     "output_type": "display_data"
    }
   ],
   "source": [
    "# Cardiovascular risk score\n",
    "Y0 = data[\"agg_score\"]\n",
    "bin_values = np.arange(start=0, stop=6, step=0.5)\n",
    "Y0.plot(kind='hist', bins=bin_values)"
   ]
  },
  {
   "cell_type": "code",
   "execution_count": 4,
   "metadata": {},
   "outputs": [
    {
     "data": {
      "text/plain": [
       "((523, 1428), (606, 1428), (555, 1428), (273, 1428), (91, 1428), (17, 1428))"
      ]
     },
     "execution_count": 4,
     "metadata": {},
     "output_type": "execute_result"
    }
   ],
   "source": [
    "# Splitting each class from our target variable\n",
    "S0 = data.loc[data['agg_score'] == 0]\n",
    "S1 = data.loc[data['agg_score'] == 1]\n",
    "S2 = data.loc[data['agg_score'] == 2]\n",
    "S3 = data.loc[data['agg_score'] == 3]\n",
    "S4 = data.loc[data['agg_score'] == 4]\n",
    "S5 = data.loc[data['agg_score'] == 5]\n",
    "S0.shape, S1.shape, S2.shape, S3.shape, S4.shape, S5.shape"
   ]
  },
  {
   "cell_type": "code",
   "execution_count": 5,
   "metadata": {},
   "outputs": [
    {
     "data": {
      "text/plain": [
       "((1129, 1428),\n",
       " (1078, 1428),\n",
       " (796, 1428),\n",
       " (614, 1428),\n",
       " (540, 1428),\n",
       " (904, 1428))"
      ]
     },
     "execution_count": 5,
     "metadata": {},
     "output_type": "execute_result"
    }
   ],
   "source": [
    "# Binarizing and concatenating our classes\n",
    "S_0vs1 = pd.concat((S0, S1), axis=0)\n",
    "S_0vs2 = pd.concat((S0, S2), axis=0)\n",
    "S_0vs3 = pd.concat((S0, S3), axis=0)\n",
    "S_0vs4 = pd.concat((S0, S4), axis=0)\n",
    "S_0vs5 = pd.concat((S0, S5), axis=0)\n",
    "S_0vs345 = pd.concat((S0, S3, S4, S5), axis=0)\n",
    "S_0vs1.shape, S_0vs2.shape, S_0vs3.shape, S_0vs4.shape, S_0vs5.shape, S_0vs345.shape"
   ]
  },
  {
   "cell_type": "code",
   "execution_count": 6,
   "metadata": {},
   "outputs": [],
   "source": [
    "# Mapping values in binarized targets\n",
    "S_0vs1[\"agg_score\"] = S_0vs1[\"agg_score\"].map({0:0, 1:1})\n",
    "S_0vs2[\"agg_score\"] = S_0vs2[\"agg_score\"].map({0:0, 2:1})\n",
    "S_0vs3[\"agg_score\"] = S_0vs3[\"agg_score\"].map({0:0, 3:1})\n",
    "S_0vs4[\"agg_score\"] = S_0vs4[\"agg_score\"].map({0:0, 4:1})\n",
    "S_0vs5[\"agg_score\"] = S_0vs5[\"agg_score\"].map({0:0, 5:1})\n",
    "S_0vs345[\"agg_score\"] = S_0vs345[\"agg_score\"].map({0:0, 3:1, 4:1, 5:1})"
   ]
  },
  {
   "cell_type": "code",
   "execution_count": 7,
   "metadata": {},
   "outputs": [
    {
     "data": {
      "text/plain": [
       "<matplotlib.axes._subplots.AxesSubplot at 0x1e2894a4ac8>"
      ]
     },
     "execution_count": 7,
     "metadata": {},
     "output_type": "execute_result"
    },
    {
     "data": {
      "image/png": "[encoded data removed]",
      "text/plain": [
       "<Figure size 432x288 with 1 Axes>"
      ]
     },
     "metadata": {
      "needs_background": "light"
     },
     "output_type": "display_data"
    }
   ],
   "source": [
    "# Visualizing binary target class\n",
    "Y0 = S_0vs5[\"agg_score\"]\n",
    "bin_values = np.arange(start=0, stop=1.6, step=0.5)\n",
    "Y0.plot(kind='hist', bins=bin_values)"
   ]
  },
  {
   "cell_type": "code",
   "execution_count": 8,
   "metadata": {},
   "outputs": [
    {
     "data": {
      "text/plain": [
       "((540, 630), (540, 744), (540, 9))"
      ]
     },
     "execution_count": 8,
     "metadata": {},
     "output_type": "execute_result"
    }
   ],
   "source": [
    "# Filtering data groups\n",
    "heart_df = S_0vs5.filter(regex='heart')\n",
    "cardio_cmr_df = S_0vs5.filter(regex='cardio_cmr')\n",
    "brain_df = S_0vs5.filter(regex='brain')\n",
    "heart_df.shape, brain_df.shape, cardio_cmr_df.shape"
   ]
  },
  {
   "cell_type": "code",
   "execution_count": 9,
   "metadata": {},
   "outputs": [],
   "source": [
    "# our model\n",
    "RF = RandomForestClassifier()"
   ]
  },
  {
   "cell_type": "markdown",
   "metadata": {},
   "source": [
    "This popular technique consists of a combination of decision trees (DTs) trained on\n",
    "different random samples of the training set. Each DT is a set of rules based on the\n",
    "input features values optimized for accurately classifying all elements of the training\n",
    "set. DTs are nonlinear models and tend to have high variance"
   ]
  },
  {
   "cell_type": "markdown",
   "metadata": {},
   "source": [
    "## 1.1 Predicting aggregate measure of vascular risk with heart variables"
   ]
  },
  {
   "cell_type": "code",
   "execution_count": 10,
   "metadata": {},
   "outputs": [],
   "source": [
    "# Input variables\n",
    "Y0 = S_0vs5[\"agg_score\"]\n",
    "X1 = heart_df"
   ]
  },
  {
   "cell_type": "code",
   "execution_count": 11,
   "metadata": {},
   "outputs": [
    {
     "data": {
      "text/plain": [
       "((378, 630), (162, 630), (378,), (162,))"
      ]
     },
     "execution_count": 11,
     "metadata": {},
     "output_type": "execute_result"
    }
   ],
   "source": [
    "# Splitting our input data into training set and testing set\n",
    "X_train, X_test, y_train, y_test = train_test_split(X1, Y0, test_size= 0.3, random_state=42)\n",
    "X_train.shape, X_test.shape, y_train.shape, y_test.shape"
   ]
  },
  {
   "cell_type": "code",
   "execution_count": 12,
   "metadata": {},
   "outputs": [],
   "source": [
    "# Data normalization\n",
    "scaler = MinMaxScaler()\n",
    "X_train = scaler.fit_transform(X_train)\n",
    "X_test = scaler.transform(X_test)"
   ]
  },
  {
   "cell_type": "code",
   "execution_count": 13,
   "metadata": {},
   "outputs": [],
   "source": [
    "# Dimensionality reduction\n",
    "selector = SelectKBest(f_classif, k=5)\n",
    "X_kbest = selector.fit_transform(X_train, y_train)\n",
    "X_test = selector.transform(X_test)"
   ]
  },
  {
   "cell_type": "code",
   "execution_count": 14,
   "metadata": {},
   "outputs": [
    {
     "data": {
      "text/plain": [
       "0.9567901234567902"
      ]
     },
     "execution_count": 14,
     "metadata": {},
     "output_type": "execute_result"
    }
   ],
   "source": [
    "# Fitting the model and doing the predictions\n",
    "RF.fit(X_kbest, y_train)\n",
    "y_pred = RF.predict(X_test)\n",
    "accuracy_score(y_test, y_pred)"
   ]
  },
  {
   "cell_type": "code",
   "execution_count": 15,
   "metadata": {},
   "outputs": [
    {
     "name": "stdout",
     "output_type": "stream",
     "text": [
      "              precision    recall  f1-score   support\n",
      "\n",
      "           0       0.96      0.99      0.98       154\n",
      "           1       0.67      0.25      0.36         8\n",
      "\n",
      "    accuracy                           0.96       162\n",
      "   macro avg       0.81      0.62      0.67       162\n",
      "weighted avg       0.95      0.96      0.95       162\n",
      "\n"
     ]
    }
   ],
   "source": [
    "print(classification_report(y_test, y_pred))"
   ]
  },
  {
   "cell_type": "code",
   "execution_count": 16,
   "metadata": {},
   "outputs": [
    {
     "data": {
      "image/png": "[encoded data removed]",
      "text/plain": [
       "<Figure size 576x288 with 2 Axes>"
      ]
     },
     "metadata": {
      "needs_background": "light"
     },
     "output_type": "display_data"
    }
   ],
   "source": [
    "cm = confusion_matrix(y_test, y_pred)\n",
    "cm_normalized = cm.astype('float') / cm.sum(axis=1)[:, np.newaxis]\n",
    "plt.figure(figsize=(8,4))\n",
    "plt.imshow(cm_normalized, interpolation='nearest', cmap=plt.cm.Blues)\n",
    "plt.title(\"Confusion Matrix Train/Val\")\n",
    "plt.colorbar()\n",
    "plt.tight_layout()\n",
    "tick_marks = np.arange(len(Y0.unique().tolist()))\n",
    "plt.xticks(tick_marks, Y0.unique().tolist(), rotation=45)\n",
    "plt.yticks(tick_marks, Y0.unique().tolist())\n",
    "plt.ylabel('True label')\n",
    "plt.xlabel('Predicted label')\n",
    "plt.show()"
   ]
  },
  {
   "cell_type": "code",
   "execution_count": 17,
   "metadata": {},
   "outputs": [
    {
     "data": {
      "text/plain": [
       "['heart_Kurtosis_LV_ED_intensity',\n",
       " 'heart_Minimum_LV_ES_intensity',\n",
       " 'heart_Percentile10_LV_ES_intensity',\n",
       " 'heart_Median_LV_ES_intensity',\n",
       " 'heart_InformalMeasureofCorrelation2_glcm_LV_ES_texture']"
      ]
     },
     "execution_count": 17,
     "metadata": {},
     "output_type": "execute_result"
    }
   ],
   "source": [
    "cols = selector.get_support(indices=True)\n",
    "features = heart_df.iloc[:,cols]\n",
    "K_best_heart = list(features) \n",
    "K_best_heart"
   ]
  },
  {
   "cell_type": "code",
   "execution_count": 18,
   "metadata": {},
   "outputs": [],
   "source": [
    "def plot_roc_curve(fpr, tpr):\n",
    "    plt.plot(fpr, tpr, color='orange', label='ROC')\n",
    "    plt.plot([0, 1], [0, 1], color='darkblue', linestyle='--')\n",
    "    plt.xlabel('False Positive Rate')\n",
    "    plt.ylabel('True Positive Rate')\n",
    "    plt.title('Receiver Operating Characteristic (ROC) Curve')\n",
    "    plt.legend()\n",
    "    plt.show()"
   ]
  },
  {
   "cell_type": "code",
   "execution_count": 19,
   "metadata": {},
   "outputs": [],
   "source": [
    "probs = RF.predict_proba(X_test)\n",
    "probs = probs[:, 1]"
   ]
  },
  {
   "cell_type": "code",
   "execution_count": 20,
   "metadata": {},
   "outputs": [
    {
     "name": "stdout",
     "output_type": "stream",
     "text": [
      "AUC: 0.9127\n"
     ]
    }
   ],
   "source": [
    "# Compute the AUC Score.\n",
    "auc = roc_auc_score(y_test, probs)\n",
    "print('AUC: %.4f' % auc)"
   ]
  },
  {
   "cell_type": "code",
   "execution_count": 21,
   "metadata": {},
   "outputs": [],
   "source": [
    "# Get the ROC Curve\n",
    "fpr, tpr, thresholds = roc_curve(y_test, probs)"
   ]
  },
  {
   "cell_type": "code",
   "execution_count": 22,
   "metadata": {},
   "outputs": [
    {
     "data": {
      "image/png": "[encoded data removed]",
      "text/plain": [
       "<Figure size 432x288 with 1 Axes>"
      ]
     },
     "metadata": {
      "needs_background": "light"
     },
     "output_type": "display_data"
    }
   ],
   "source": [
    "plot_roc_curve(fpr, tpr)"
   ]
  },
  {
   "cell_type": "markdown",
   "metadata": {},
   "source": [
    "## 1.2 Predicting aggregate measure of vascular risk with CMR variables"
   ]
  },
  {
   "cell_type": "code",
   "execution_count": 23,
   "metadata": {},
   "outputs": [],
   "source": [
    "# Input variables\n",
    "Y0 = S_0vs5[\"agg_score\"]\n",
    "X1 = cardio_cmr_df"
   ]
  },
  {
   "cell_type": "code",
   "execution_count": 24,
   "metadata": {},
   "outputs": [
    {
     "data": {
      "text/plain": [
       "((378, 9), (162, 9), (378,), (162,))"
      ]
     },
     "execution_count": 24,
     "metadata": {},
     "output_type": "execute_result"
    }
   ],
   "source": [
    "# Splitting our input data into training set and testing set\n",
    "X_train, X_test, y_train, y_test = train_test_split(X1, Y0, test_size= 0.3, random_state=42)\n",
    "X_train.shape, X_test.shape, y_train.shape, y_test.shape"
   ]
  },
  {
   "cell_type": "code",
   "execution_count": 25,
   "metadata": {},
   "outputs": [],
   "source": [
    "# Data normalization\n",
    "scaler = MinMaxScaler()\n",
    "X_train = scaler.fit_transform(X_train)\n",
    "X_test = scaler.transform(X_test)"
   ]
  },
  {
   "cell_type": "code",
   "execution_count": 26,
   "metadata": {},
   "outputs": [],
   "source": [
    "# Dimensionality reduction\n",
    "selector = SelectKBest(f_classif, k=5)\n",
    "X_kbest = selector.fit_transform(X_train, y_train)\n",
    "X_test = selector.transform(X_test)"
   ]
  },
  {
   "cell_type": "code",
   "execution_count": 27,
   "metadata": {},
   "outputs": [
    {
     "data": {
      "text/plain": [
       "0.9506172839506173"
      ]
     },
     "execution_count": 27,
     "metadata": {},
     "output_type": "execute_result"
    }
   ],
   "source": [
    "# Fitting the model and doing the predictions\n",
    "RF.fit(X_kbest, y_train)\n",
    "y_pred = RF.predict(X_test)\n",
    "accuracy_score(y_test, y_pred)"
   ]
  },
  {
   "cell_type": "code",
   "execution_count": 28,
   "metadata": {},
   "outputs": [
    {
     "name": "stdout",
     "output_type": "stream",
     "text": [
      "              precision    recall  f1-score   support\n",
      "\n",
      "           0       0.95      1.00      0.97       154\n",
      "           1       0.00      0.00      0.00         8\n",
      "\n",
      "    accuracy                           0.95       162\n",
      "   macro avg       0.48      0.50      0.49       162\n",
      "weighted avg       0.90      0.95      0.93       162\n",
      "\n"
     ]
    },
    {
     "name": "stderr",
     "output_type": "stream",
     "text": [
      "C:\\Users\\Alejandro\\Downloads\\ANACONDA\\lib\\site-packages\\sklearn\\metrics\\_classification.py:1221: UndefinedMetricWarning: Precision and F-score are ill-defined and being set to 0.0 in labels with no predicted samples. Use `zero_division` parameter to control this behavior.\n",
      "  _warn_prf(average, modifier, msg_start, len(result))\n"
     ]
    }
   ],
   "source": [
    "print(classification_report(y_test, y_pred))"
   ]
  },
  {
   "cell_type": "code",
   "execution_count": 29,
   "metadata": {},
   "outputs": [
    {
     "data": {
      "image/png": "[encoded data removed]",
      "text/plain": [
       "<Figure size 576x288 with 2 Axes>"
      ]
     },
     "metadata": {
      "needs_background": "light"
     },
     "output_type": "display_data"
    }
   ],
   "source": [
    "cm = confusion_matrix(y_test, y_pred)\n",
    "cm_normalized = cm.astype('float') / cm.sum(axis=1)[:, np.newaxis]\n",
    "plt.figure(figsize=(8,4))\n",
    "plt.imshow(cm_normalized, interpolation='nearest', cmap=plt.cm.Blues)\n",
    "plt.title(\"Confusion Matrix Train/Val\")\n",
    "plt.colorbar()\n",
    "plt.tight_layout()\n",
    "tick_marks = np.arange(len(Y0.unique().tolist()))\n",
    "plt.xticks(tick_marks, Y0.unique().tolist(), rotation=45)\n",
    "plt.yticks(tick_marks, Y0.unique().tolist())\n",
    "plt.ylabel('True label')\n",
    "plt.xlabel('Predicted label')\n",
    "plt.show()"
   ]
  },
  {
   "cell_type": "code",
   "execution_count": 30,
   "metadata": {},
   "outputs": [
    {
     "data": {
      "text/plain": [
       "['cardio_cmr_LVEDV_i',\n",
       " 'cardio_cmr_LVESV_i',\n",
       " 'cardio_cmr_LVSV_i',\n",
       " 'cardio_cmr_RVEDV_i',\n",
       " 'cardio_cmr_RVSV_i']"
      ]
     },
     "execution_count": 30,
     "metadata": {},
     "output_type": "execute_result"
    }
   ],
   "source": [
    "cols = selector.get_support(indices=True)\n",
    "features = cardio_cmr_df.iloc[:,cols]\n",
    "K_best_cmr = list(features) \n",
    "K_best_cmr"
   ]
  },
  {
   "cell_type": "code",
   "execution_count": 31,
   "metadata": {},
   "outputs": [],
   "source": [
    "def plot_roc_curve(fpr, tpr):\n",
    "    plt.plot(fpr, tpr, color='orange', label='ROC')\n",
    "    plt.plot([0, 1], [0, 1], color='darkblue', linestyle='--')\n",
    "    plt.xlabel('False Positive Rate')\n",
    "    plt.ylabel('True Positive Rate')\n",
    "    plt.title('Receiver Operating Characteristic (ROC) Curve')\n",
    "    plt.legend()\n",
    "    plt.show()"
   ]
  },
  {
   "cell_type": "code",
   "execution_count": 32,
   "metadata": {},
   "outputs": [],
   "source": [
    "probs = RF.predict_proba(X_test)\n",
    "probs = probs[:, 1]"
   ]
  },
  {
   "cell_type": "code",
   "execution_count": 33,
   "metadata": {},
   "outputs": [
    {
     "name": "stdout",
     "output_type": "stream",
     "text": [
      "AUC: 0.6088\n"
     ]
    }
   ],
   "source": [
    "# Compute the AUC Score.\n",
    "auc = roc_auc_score(y_test, probs)\n",
    "print('AUC: %.4f' % auc)"
   ]
  },
  {
   "cell_type": "code",
   "execution_count": 34,
   "metadata": {},
   "outputs": [],
   "source": [
    "# Get the ROC Curve\n",
    "fpr, tpr, thresholds = roc_curve(y_test, probs)"
   ]
  },
  {
   "cell_type": "code",
   "execution_count": 35,
   "metadata": {},
   "outputs": [
    {
     "data": {
      "image/png": "[encoded data removed]",
      "text/plain": [
       "<Figure size 432x288 with 1 Axes>"
      ]
     },
     "metadata": {
      "needs_background": "light"
     },
     "output_type": "display_data"
    }
   ],
   "source": [
    "plot_roc_curve(fpr, tpr)"
   ]
  },
  {
   "cell_type": "markdown",
   "metadata": {},
   "source": [
    "## 1.3 Predicting aggregate measure of vascular risk with brain variables"
   ]
  },
  {
   "cell_type": "code",
   "execution_count": 36,
   "metadata": {},
   "outputs": [],
   "source": [
    "# Input variables\n",
    "Y0 = S_0vs5[\"agg_score\"]\n",
    "X1 = brain_df"
   ]
  },
  {
   "cell_type": "code",
   "execution_count": 37,
   "metadata": {},
   "outputs": [
    {
     "data": {
      "text/plain": [
       "((378, 744), (162, 744), (378,), (162,))"
      ]
     },
     "execution_count": 37,
     "metadata": {},
     "output_type": "execute_result"
    }
   ],
   "source": [
    "# Splitting our input data into training set and testing set\n",
    "X_train, X_test, y_train, y_test = train_test_split(X1, Y0, test_size= 0.3, random_state=42)\n",
    "X_train.shape, X_test.shape, y_train.shape, y_test.shape"
   ]
  },
  {
   "cell_type": "code",
   "execution_count": 38,
   "metadata": {},
   "outputs": [],
   "source": [
    "# Data normalization\n",
    "scaler = MinMaxScaler()\n",
    "X_train = scaler.fit_transform(X_train)\n",
    "X_test = scaler.transform(X_test)"
   ]
  },
  {
   "cell_type": "code",
   "execution_count": 39,
   "metadata": {},
   "outputs": [],
   "source": [
    "# Dimensionality reduction\n",
    "selector = SelectKBest(f_classif, k=5)\n",
    "X_kbest = selector.fit_transform(X_train, y_train)\n",
    "X_test = selector.transform(X_test)"
   ]
  },
  {
   "cell_type": "code",
   "execution_count": 40,
   "metadata": {},
   "outputs": [
    {
     "data": {
      "text/plain": [
       "0.9506172839506173"
      ]
     },
     "execution_count": 40,
     "metadata": {},
     "output_type": "execute_result"
    }
   ],
   "source": [
    "# Fitting the model and doing the predictions\n",
    "RF.fit(X_kbest, y_train)\n",
    "y_pred = RF.predict(X_test)\n",
    "accuracy_score(y_test, y_pred)"
   ]
  },
  {
   "cell_type": "code",
   "execution_count": 41,
   "metadata": {},
   "outputs": [
    {
     "name": "stdout",
     "output_type": "stream",
     "text": [
      "              precision    recall  f1-score   support\n",
      "\n",
      "           0       0.95      1.00      0.97       154\n",
      "           1       0.00      0.00      0.00         8\n",
      "\n",
      "    accuracy                           0.95       162\n",
      "   macro avg       0.48      0.50      0.49       162\n",
      "weighted avg       0.90      0.95      0.93       162\n",
      "\n"
     ]
    },
    {
     "name": "stderr",
     "output_type": "stream",
     "text": [
      "C:\\Users\\Alejandro\\Downloads\\ANACONDA\\lib\\site-packages\\sklearn\\metrics\\_classification.py:1221: UndefinedMetricWarning: Precision and F-score are ill-defined and being set to 0.0 in labels with no predicted samples. Use `zero_division` parameter to control this behavior.\n",
      "  _warn_prf(average, modifier, msg_start, len(result))\n"
     ]
    }
   ],
   "source": [
    "print(classification_report(y_test, y_pred))"
   ]
  },
  {
   "cell_type": "code",
   "execution_count": 42,
   "metadata": {},
   "outputs": [
    {
     "data": {
      "image/png": "[encoded data removed]",
      "text/plain": [
       "<Figure size 576x288 with 2 Axes>"
      ]
     },
     "metadata": {
      "needs_background": "light"
     },
     "output_type": "display_data"
    }
   ],
   "source": [
    "cm = confusion_matrix(y_test, y_pred)\n",
    "cm_normalized = cm.astype('float') / cm.sum(axis=1)[:, np.newaxis]\n",
    "plt.figure(figsize=(8,4))\n",
    "plt.imshow(cm_normalized, interpolation='nearest', cmap=plt.cm.Blues)\n",
    "plt.title(\"Confusion Matrix Train/Val\")\n",
    "plt.colorbar()\n",
    "plt.tight_layout()\n",
    "tick_marks = np.arange(len(Y0.unique().tolist()))\n",
    "plt.xticks(tick_marks, Y0.unique().tolist(), rotation=45)\n",
    "plt.yticks(tick_marks, Y0.unique().tolist())\n",
    "plt.ylabel('True label')\n",
    "plt.xlabel('Predicted label')\n",
    "plt.show()"
   ]
  },
  {
   "cell_type": "code",
   "execution_count": 43,
   "metadata": {},
   "outputs": [
    {
     "data": {
      "text/plain": [
       "['brain_bio_median_t2star_in_hippocampus__right__0_imaging',\n",
       " 'brain_bio_inverted_signal_to_noise_ratio_in_t1_0_imaging',\n",
       " 'brain_bio_mean_rfmri_head_motion__averaged_across_space_and_time_points_0_imaging',\n",
       " 'brain_bio_mean_tfmri_head_motion__averaged_across_space_and_time_points_0_imaging',\n",
       " 'brain_bio_inverted_temporal_signal_to_noise_ratio_in_pre_processed_rfmri_0_imaging']"
      ]
     },
     "execution_count": 43,
     "metadata": {},
     "output_type": "execute_result"
    }
   ],
   "source": [
    "cols = selector.get_support(indices=True)\n",
    "features = brain_df.iloc[:,cols]\n",
    "K_best_brain = list(features) \n",
    "K_best_brain"
   ]
  },
  {
   "cell_type": "code",
   "execution_count": 44,
   "metadata": {},
   "outputs": [],
   "source": [
    "probs = RF.predict_proba(X_test)\n",
    "probs = probs[:, 1]"
   ]
  },
  {
   "cell_type": "code",
   "execution_count": 45,
   "metadata": {},
   "outputs": [
    {
     "name": "stdout",
     "output_type": "stream",
     "text": [
      "AUC: 0.9168\n"
     ]
    }
   ],
   "source": [
    "# Compute the AUC Score.\n",
    "auc = roc_auc_score(y_test, probs)\n",
    "print('AUC: %.4f' % auc)"
   ]
  },
  {
   "cell_type": "code",
   "execution_count": 46,
   "metadata": {},
   "outputs": [],
   "source": [
    "# Get the ROC Curve\n",
    "fpr, tpr, thresholds = roc_curve(y_test, probs)"
   ]
  },
  {
   "cell_type": "code",
   "execution_count": 47,
   "metadata": {},
   "outputs": [
    {
     "data": {
      "image/png": "[encoded data removed]",
      "text/plain": [
       "<Figure size 432x288 with 1 Axes>"
      ]
     },
     "metadata": {
      "needs_background": "light"
     },
     "output_type": "display_data"
    }
   ],
   "source": [
    "plot_roc_curve(fpr, tpr)"
   ]
  },
  {
   "cell_type": "markdown",
   "metadata": {},
   "source": [
    "## 1.4 Predicting aggregate measure of vascular risk with heart/brain combinations"
   ]
  },
  {
   "cell_type": "code",
   "execution_count": 48,
   "metadata": {},
   "outputs": [
    {
     "data": {
      "text/plain": [
       "((540, 630), (540, 744))"
      ]
     },
     "execution_count": 48,
     "metadata": {},
     "output_type": "execute_result"
    }
   ],
   "source": [
    "# Input variables\n",
    "Y0 = S_0vs5[\"agg_score\"]\n",
    "X1 = heart_df\n",
    "X2 = brain_df\n",
    "X1.shape, X2.shape"
   ]
  },
  {
   "cell_type": "code",
   "execution_count": 49,
   "metadata": {},
   "outputs": [
    {
     "data": {
      "text/plain": [
       "(540, 1374)"
      ]
     },
     "execution_count": 49,
     "metadata": {},
     "output_type": "execute_result"
    }
   ],
   "source": [
    "# Combining datasets\n",
    "X_combination_cfa = pd.concat((X1, X2), axis=1)\n",
    "X_combination_cfa.shape"
   ]
  },
  {
   "cell_type": "code",
   "execution_count": 50,
   "metadata": {},
   "outputs": [
    {
     "data": {
      "text/plain": [
       "((378, 1374), (162, 1374), (378,), (162,))"
      ]
     },
     "execution_count": 50,
     "metadata": {},
     "output_type": "execute_result"
    }
   ],
   "source": [
    "# Splitting our input data into training set and testing set\n",
    "X_train, X_test, y_train, y_test = train_test_split(X_combination_cfa, Y0, test_size= 0.3, random_state=42)\n",
    "X_train.shape, X_test.shape, y_train.shape, y_test.shape"
   ]
  },
  {
   "cell_type": "code",
   "execution_count": 51,
   "metadata": {},
   "outputs": [],
   "source": [
    "# Data normalization\n",
    "scaler = MinMaxScaler()\n",
    "X_train = scaler.fit_transform(X_train)\n",
    "X_test = scaler.transform(X_test)"
   ]
  },
  {
   "cell_type": "code",
   "execution_count": 52,
   "metadata": {},
   "outputs": [],
   "source": [
    "# Dimensionality reduction\n",
    "selector = SelectKBest(f_classif, k=5)\n",
    "X_kbest = selector.fit_transform(X_train, y_train)\n",
    "X_test = selector.transform(X_test)"
   ]
  },
  {
   "cell_type": "code",
   "execution_count": 53,
   "metadata": {},
   "outputs": [
    {
     "data": {
      "text/plain": [
       "0.9567901234567902"
      ]
     },
     "execution_count": 53,
     "metadata": {},
     "output_type": "execute_result"
    }
   ],
   "source": [
    "# Fitting the model and doing the predictions\n",
    "RF.fit(X_kbest, y_train)\n",
    "y_pred = RF.predict(X_test)\n",
    "accuracy_score(y_test, y_pred)"
   ]
  },
  {
   "cell_type": "code",
   "execution_count": 54,
   "metadata": {},
   "outputs": [
    {
     "name": "stdout",
     "output_type": "stream",
     "text": [
      "              precision    recall  f1-score   support\n",
      "\n",
      "           0       0.96      0.99      0.98       154\n",
      "           1       0.67      0.25      0.36         8\n",
      "\n",
      "    accuracy                           0.96       162\n",
      "   macro avg       0.81      0.62      0.67       162\n",
      "weighted avg       0.95      0.96      0.95       162\n",
      "\n"
     ]
    }
   ],
   "source": [
    "print(classification_report(y_test, y_pred))"
   ]
  },
  {
   "cell_type": "code",
   "execution_count": 55,
   "metadata": {},
   "outputs": [
    {
     "data": {
      "image/png": "[encoded data removed]",
      "text/plain": [
       "<Figure size 576x288 with 2 Axes>"
      ]
     },
     "metadata": {
      "needs_background": "light"
     },
     "output_type": "display_data"
    }
   ],
   "source": [
    "cm = confusion_matrix(y_test, y_pred)\n",
    "cm_normalized = cm.astype('float') / cm.sum(axis=1)[:, np.newaxis]\n",
    "plt.figure(figsize=(8,4))\n",
    "plt.imshow(cm_normalized, interpolation='nearest', cmap=plt.cm.Blues)\n",
    "plt.title(\"Confusion Matrix Train/Val\")\n",
    "plt.colorbar()\n",
    "plt.tight_layout()\n",
    "tick_marks = np.arange(len(Y0.unique().tolist()))\n",
    "plt.xticks(tick_marks, Y0.unique().tolist(), rotation=45)\n",
    "plt.yticks(tick_marks, Y0.unique().tolist())\n",
    "plt.ylabel('True label')\n",
    "plt.xlabel('Predicted label')\n",
    "plt.show()"
   ]
  },
  {
   "cell_type": "code",
   "execution_count": 56,
   "metadata": {},
   "outputs": [
    {
     "data": {
      "text/plain": [
       "['brain_bio_median_t2star_in_hippocampus__right__0_imaging',\n",
       " 'brain_bio_inverted_signal_to_noise_ratio_in_t1_0_imaging',\n",
       " 'brain_bio_mean_rfmri_head_motion__averaged_across_space_and_time_points_0_imaging',\n",
       " 'brain_bio_mean_tfmri_head_motion__averaged_across_space_and_time_points_0_imaging',\n",
       " 'brain_bio_inverted_temporal_signal_to_noise_ratio_in_pre_processed_rfmri_0_imaging']"
      ]
     },
     "execution_count": 56,
     "metadata": {},
     "output_type": "execute_result"
    }
   ],
   "source": [
    "cols = selector.get_support(indices=True)\n",
    "features = X_combination_cfa.iloc[:,cols]\n",
    "K_best_heart_brain = list(features) \n",
    "K_best_heart_brain"
   ]
  },
  {
   "cell_type": "code",
   "execution_count": 57,
   "metadata": {},
   "outputs": [],
   "source": [
    "probs = RF.predict_proba(X_test)\n",
    "probs = probs[:, 1]"
   ]
  },
  {
   "cell_type": "code",
   "execution_count": 58,
   "metadata": {},
   "outputs": [
    {
     "name": "stdout",
     "output_type": "stream",
     "text": [
      "AUC: 0.9152\n"
     ]
    }
   ],
   "source": [
    "# Compute the AUC Score.\n",
    "auc = roc_auc_score(y_test, probs)\n",
    "print('AUC: %.4f' % auc)"
   ]
  },
  {
   "cell_type": "code",
   "execution_count": 59,
   "metadata": {},
   "outputs": [],
   "source": [
    "# Get the ROC Curve\n",
    "fpr, tpr, thresholds = roc_curve(y_test, probs)"
   ]
  },
  {
   "cell_type": "code",
   "execution_count": 60,
   "metadata": {},
   "outputs": [
    {
     "data": {
      "image/png": "[encoded data removed]",
      "text/plain": [
       "<Figure size 432x288 with 1 Axes>"
      ]
     },
     "metadata": {
      "needs_background": "light"
     },
     "output_type": "display_data"
    }
   ],
   "source": [
    "plot_roc_curve(fpr, tpr)"
   ]
  },
  {
   "cell_type": "markdown",
   "metadata": {},
   "source": [
    "## 1.5 Predicting aggregate measure of vascular risk with CMR/brain combinations"
   ]
  },
  {
   "cell_type": "code",
   "execution_count": 61,
   "metadata": {},
   "outputs": [
    {
     "data": {
      "text/plain": [
       "((540, 9), (540, 744))"
      ]
     },
     "execution_count": 61,
     "metadata": {},
     "output_type": "execute_result"
    }
   ],
   "source": [
    "# Input variables\n",
    "Y0 = S_0vs5[\"agg_score\"]\n",
    "X1 = cardio_cmr_df\n",
    "X2 = brain_df\n",
    "X1.shape, X2.shape"
   ]
  },
  {
   "cell_type": "code",
   "execution_count": 62,
   "metadata": {},
   "outputs": [
    {
     "data": {
      "text/plain": [
       "(540, 753)"
      ]
     },
     "execution_count": 62,
     "metadata": {},
     "output_type": "execute_result"
    }
   ],
   "source": [
    "# Combining datasets\n",
    "X_combination_cfa2 = pd.concat((X1, X2), axis=1)\n",
    "X_combination_cfa2.shape"
   ]
  },
  {
   "cell_type": "code",
   "execution_count": 63,
   "metadata": {},
   "outputs": [
    {
     "data": {
      "text/plain": [
       "((378, 753), (162, 753), (378,), (162,))"
      ]
     },
     "execution_count": 63,
     "metadata": {},
     "output_type": "execute_result"
    }
   ],
   "source": [
    "# Splitting our input data into training set and testing set\n",
    "X_train, X_test, y_train, y_test = train_test_split(X_combination_cfa2, Y0, test_size= 0.3, random_state=42)\n",
    "X_train.shape, X_test.shape, y_train.shape, y_test.shape"
   ]
  },
  {
   "cell_type": "code",
   "execution_count": 64,
   "metadata": {},
   "outputs": [],
   "source": [
    "# Data normalization\n",
    "scaler = MinMaxScaler()\n",
    "X_train = scaler.fit_transform(X_train)\n",
    "X_test = scaler.transform(X_test)"
   ]
  },
  {
   "cell_type": "code",
   "execution_count": 65,
   "metadata": {},
   "outputs": [],
   "source": [
    "# Dimensionality reduction\n",
    "selector = SelectKBest(f_classif, k=5)\n",
    "X_kbest = selector.fit_transform(X_train, y_train)\n",
    "X_test = selector.transform(X_test)"
   ]
  },
  {
   "cell_type": "code",
   "execution_count": 66,
   "metadata": {},
   "outputs": [
    {
     "data": {
      "text/plain": [
       "0.9444444444444444"
      ]
     },
     "execution_count": 66,
     "metadata": {},
     "output_type": "execute_result"
    }
   ],
   "source": [
    "# Fitting the model and doing the predictions\n",
    "RF.fit(X_kbest, y_train)\n",
    "y_pred = RF.predict(X_test)\n",
    "accuracy_score(y_test, y_pred)"
   ]
  },
  {
   "cell_type": "code",
   "execution_count": 67,
   "metadata": {},
   "outputs": [
    {
     "name": "stdout",
     "output_type": "stream",
     "text": [
      "              precision    recall  f1-score   support\n",
      "\n",
      "           0       0.95      0.99      0.97       154\n",
      "           1       0.00      0.00      0.00         8\n",
      "\n",
      "    accuracy                           0.94       162\n",
      "   macro avg       0.48      0.50      0.49       162\n",
      "weighted avg       0.90      0.94      0.92       162\n",
      "\n"
     ]
    }
   ],
   "source": [
    "print(classification_report(y_test, y_pred))"
   ]
  },
  {
   "cell_type": "code",
   "execution_count": 68,
   "metadata": {},
   "outputs": [
    {
     "data": {
      "image/png": "[encoded data removed]",
      "text/plain": [
       "<Figure size 576x288 with 2 Axes>"
      ]
     },
     "metadata": {
      "needs_background": "light"
     },
     "output_type": "display_data"
    }
   ],
   "source": [
    "cm = confusion_matrix(y_test, y_pred)\n",
    "cm_normalized = cm.astype('float') / cm.sum(axis=1)[:, np.newaxis]\n",
    "plt.figure(figsize=(8,4))\n",
    "plt.imshow(cm_normalized, interpolation='nearest', cmap=plt.cm.Blues)\n",
    "plt.title(\"Confusion Matrix Train/Val\")\n",
    "plt.colorbar()\n",
    "plt.tight_layout()\n",
    "tick_marks = np.arange(len(Y0.unique().tolist()))\n",
    "plt.xticks(tick_marks, Y0.unique().tolist(), rotation=45)\n",
    "plt.yticks(tick_marks, Y0.unique().tolist())\n",
    "plt.ylabel('True label')\n",
    "plt.xlabel('Predicted label')\n",
    "plt.show()"
   ]
  },
  {
   "cell_type": "code",
   "execution_count": 69,
   "metadata": {},
   "outputs": [
    {
     "data": {
      "text/plain": [
       "['brain_bio_median_t2star_in_hippocampus__right__0_imaging',\n",
       " 'brain_bio_inverted_signal_to_noise_ratio_in_t1_0_imaging',\n",
       " 'brain_bio_mean_rfmri_head_motion__averaged_across_space_and_time_points_0_imaging',\n",
       " 'brain_bio_mean_tfmri_head_motion__averaged_across_space_and_time_points_0_imaging',\n",
       " 'brain_bio_inverted_temporal_signal_to_noise_ratio_in_pre_processed_rfmri_0_imaging']"
      ]
     },
     "execution_count": 69,
     "metadata": {},
     "output_type": "execute_result"
    }
   ],
   "source": [
    "cols = selector.get_support(indices=True)\n",
    "features = X_combination_cfa2.iloc[:,cols]\n",
    "K_best_cmr_brain = list(features) \n",
    "K_best_cmr_brain"
   ]
  },
  {
   "cell_type": "code",
   "execution_count": 70,
   "metadata": {},
   "outputs": [],
   "source": [
    "probs = RF.predict_proba(X_test)\n",
    "probs = probs[:, 1]"
   ]
  },
  {
   "cell_type": "code",
   "execution_count": 71,
   "metadata": {},
   "outputs": [
    {
     "name": "stdout",
     "output_type": "stream",
     "text": [
      "AUC: 0.9184\n"
     ]
    }
   ],
   "source": [
    "# Compute the AUC Score.\n",
    "auc = roc_auc_score(y_test, probs)\n",
    "print('AUC: %.4f' % auc)"
   ]
  },
  {
   "cell_type": "code",
   "execution_count": 72,
   "metadata": {},
   "outputs": [],
   "source": [
    "# Get the ROC Curve\n",
    "fpr, tpr, thresholds = roc_curve(y_test, probs)"
   ]
  },
  {
   "cell_type": "code",
   "execution_count": 73,
   "metadata": {},
   "outputs": [
    {
     "data": {
      "image/png": "[encoded data removed]",
      "text/plain": [
       "<Figure size 432x288 with 1 Axes>"
      ]
     },
     "metadata": {
      "needs_background": "light"
     },
     "output_type": "display_data"
    }
   ],
   "source": [
    "plot_roc_curve(fpr, tpr)"
   ]
  },
  {
   "cell_type": "markdown",
   "metadata": {},
   "source": [
    "## 1.6 Correlation Plots"
   ]
  },
  {
   "cell_type": "code",
   "execution_count": 74,
   "metadata": {},
   "outputs": [
    {
     "data": {
      "text/plain": [
       "(['heart_Kurtosis_LV_ED_intensity',\n",
       "  'heart_Minimum_LV_ES_intensity',\n",
       "  'heart_Percentile10_LV_ES_intensity',\n",
       "  'heart_Median_LV_ES_intensity',\n",
       "  'heart_InformalMeasureofCorrelation2_glcm_LV_ES_texture'],\n",
       " ['cardio_cmr_LVEDV_i',\n",
       "  'cardio_cmr_LVESV_i',\n",
       "  'cardio_cmr_LVSV_i',\n",
       "  'cardio_cmr_RVEDV_i',\n",
       "  'cardio_cmr_RVSV_i'],\n",
       " ['brain_bio_median_t2star_in_hippocampus__right__0_imaging',\n",
       "  'brain_bio_inverted_signal_to_noise_ratio_in_t1_0_imaging',\n",
       "  'brain_bio_mean_rfmri_head_motion__averaged_across_space_and_time_points_0_imaging',\n",
       "  'brain_bio_mean_tfmri_head_motion__averaged_across_space_and_time_points_0_imaging',\n",
       "  'brain_bio_inverted_temporal_signal_to_noise_ratio_in_pre_processed_rfmri_0_imaging'],\n",
       " ['brain_bio_median_t2star_in_hippocampus__right__0_imaging',\n",
       "  'brain_bio_inverted_signal_to_noise_ratio_in_t1_0_imaging',\n",
       "  'brain_bio_mean_rfmri_head_motion__averaged_across_space_and_time_points_0_imaging',\n",
       "  'brain_bio_mean_tfmri_head_motion__averaged_across_space_and_time_points_0_imaging',\n",
       "  'brain_bio_inverted_temporal_signal_to_noise_ratio_in_pre_processed_rfmri_0_imaging'],\n",
       " ['brain_bio_median_t2star_in_hippocampus__right__0_imaging',\n",
       "  'brain_bio_inverted_signal_to_noise_ratio_in_t1_0_imaging',\n",
       "  'brain_bio_mean_rfmri_head_motion__averaged_across_space_and_time_points_0_imaging',\n",
       "  'brain_bio_mean_tfmri_head_motion__averaged_across_space_and_time_points_0_imaging',\n",
       "  'brain_bio_inverted_temporal_signal_to_noise_ratio_in_pre_processed_rfmri_0_imaging'])"
      ]
     },
     "execution_count": 74,
     "metadata": {},
     "output_type": "execute_result"
    }
   ],
   "source": [
    "K_best_heart, K_best_cmr, K_best_brain, K_best_heart_brain, K_best_cmr_brain"
   ]
  },
  {
   "cell_type": "code",
   "execution_count": 80,
   "metadata": {},
   "outputs": [],
   "source": [
    "# Create dataframes\n",
    "corr_heart_brain = data.filter(['heart_Kurtosis_LV_ED_intensity', \n",
    "                         'heart_Minimum_LV_ES_intensity',\n",
    "                         'heart_Percentile10_LV_ES_intensity',\n",
    "                         'heart_Median_LV_ES_intensity',\n",
    "                         'heart_InformalMeasureofCorrelation2_glcm_LV_ES_texture',\n",
    "                         'brain_bio_median_t2star_in_hippocampus__right__0_imaging',\n",
    "                         'brain_bio_inverted_signal_to_noise_ratio_in_t1_0_imaging',\n",
    "                         'brain_bio_mean_rfmri_head_motion__averaged_across_space_and_time_points_0_imaging',\n",
    "                         'brain_bio_mean_tfmri_head_motion__averaged_across_space_and_time_points_0_imaging',\n",
    "                         'brain_bio_inverted_temporal_signal_to_noise_ratio_in_pre_processed_rfmri_0_imaging'], axis=1)\n",
    "\n",
    "corr_cmr_brain = data.filter(['cardio_cmr_LVEDV_i', \n",
    "                         'cardio_cmr_LVESV_i',\n",
    "                         'cardio_cmr_LVSV_i',\n",
    "                         'cardio_cmr_RVEDV_i',\n",
    "                         'cardio_cmr_RVSV_i',\n",
    "                         'brain_bio_median_t2star_in_hippocampus__right__0_imaging',\n",
    "                         'brain_bio_inverted_signal_to_noise_ratio_in_t1_0_imaging',\n",
    "                         'brain_bio_mean_rfmri_head_motion__averaged_across_space_and_time_points_0_imaging',\n",
    "                         'brain_bio_mean_tfmri_head_motion__averaged_across_space_and_time_points_0_imaging',\n",
    "                         'brain_bio_inverted_temporal_signal_to_noise_ratio_in_pre_processed_rfmri_0_imaging'], axis=1)"
   ]
  },
  {
   "cell_type": "code",
   "execution_count": 81,
   "metadata": {},
   "outputs": [
    {
     "data": {
      "image/png": "[encoded data removed]",
      "text/plain": [
       "<Figure size 792x648 with 2 Axes>"
      ]
     },
     "metadata": {
      "needs_background": "light"
     },
     "output_type": "display_data"
    }
   ],
   "source": [
    "heart_brain_corr = corr_heart_brain.corr()\n",
    "plt.figure(figsize=(11,9))\n",
    "sns.heatmap(heart_brain_corr, cmap=plt.cm.RdBu_r, vmin=-1, vmax=1)\n",
    "plt.show()"
   ]
  },
  {
   "cell_type": "code",
   "execution_count": 82,
   "metadata": {},
   "outputs": [
    {
     "data": {
      "text/html": [
       "<div>\n",
       "<style scoped>\n",
       "    .dataframe tbody tr th:only-of-type {\n",
       "        vertical-align: middle;\n",
       "    }\n",
       "\n",
       "    .dataframe tbody tr th {\n",
       "        vertical-align: top;\n",
       "    }\n",
       "\n",
       "    .dataframe thead th {\n",
       "        text-align: right;\n",
       "    }\n",
       "</style>\n",
       "<table border=\"1\" class=\"dataframe\">\n",
       "  <thead>\n",
       "    <tr style=\"text-align: right;\">\n",
       "      <th></th>\n",
       "      <th>heart_Kurtosis_LV_ED_intensity</th>\n",
       "      <th>heart_Minimum_LV_ES_intensity</th>\n",
       "      <th>heart_Percentile10_LV_ES_intensity</th>\n",
       "      <th>heart_Median_LV_ES_intensity</th>\n",
       "      <th>heart_InformalMeasureofCorrelation2_glcm_LV_ES_texture</th>\n",
       "      <th>brain_bio_median_t2star_in_hippocampus__right__0_imaging</th>\n",
       "      <th>brain_bio_inverted_signal_to_noise_ratio_in_t1_0_imaging</th>\n",
       "      <th>brain_bio_mean_rfmri_head_motion__averaged_across_space_and_time_points_0_imaging</th>\n",
       "      <th>brain_bio_mean_tfmri_head_motion__averaged_across_space_and_time_points_0_imaging</th>\n",
       "      <th>brain_bio_inverted_temporal_signal_to_noise_ratio_in_pre_processed_rfmri_0_imaging</th>\n",
       "    </tr>\n",
       "  </thead>\n",
       "  <tbody>\n",
       "    <tr>\n",
       "      <th>heart_Kurtosis_LV_ED_intensity</th>\n",
       "      <td>1.000000</td>\n",
       "      <td>0.256072</td>\n",
       "      <td>0.428685</td>\n",
       "      <td>0.503701</td>\n",
       "      <td>0.164938</td>\n",
       "      <td>0.189093</td>\n",
       "      <td>-0.169828</td>\n",
       "      <td>-0.311143</td>\n",
       "      <td>-0.297680</td>\n",
       "      <td>-0.296559</td>\n",
       "    </tr>\n",
       "    <tr>\n",
       "      <th>heart_Minimum_LV_ES_intensity</th>\n",
       "      <td>0.256072</td>\n",
       "      <td>1.000000</td>\n",
       "      <td>0.646551</td>\n",
       "      <td>0.370140</td>\n",
       "      <td>0.210031</td>\n",
       "      <td>0.129961</td>\n",
       "      <td>-0.149487</td>\n",
       "      <td>-0.213547</td>\n",
       "      <td>-0.191378</td>\n",
       "      <td>-0.222703</td>\n",
       "    </tr>\n",
       "    <tr>\n",
       "      <th>heart_Percentile10_LV_ES_intensity</th>\n",
       "      <td>0.428685</td>\n",
       "      <td>0.646551</td>\n",
       "      <td>1.000000</td>\n",
       "      <td>0.770224</td>\n",
       "      <td>0.267601</td>\n",
       "      <td>0.186802</td>\n",
       "      <td>-0.219734</td>\n",
       "      <td>-0.297532</td>\n",
       "      <td>-0.269906</td>\n",
       "      <td>-0.327761</td>\n",
       "    </tr>\n",
       "    <tr>\n",
       "      <th>heart_Median_LV_ES_intensity</th>\n",
       "      <td>0.503701</td>\n",
       "      <td>0.370140</td>\n",
       "      <td>0.770224</td>\n",
       "      <td>1.000000</td>\n",
       "      <td>0.268184</td>\n",
       "      <td>0.161042</td>\n",
       "      <td>-0.178298</td>\n",
       "      <td>-0.297579</td>\n",
       "      <td>-0.261397</td>\n",
       "      <td>-0.309734</td>\n",
       "    </tr>\n",
       "    <tr>\n",
       "      <th>heart_InformalMeasureofCorrelation2_glcm_LV_ES_texture</th>\n",
       "      <td>0.164938</td>\n",
       "      <td>0.210031</td>\n",
       "      <td>0.267601</td>\n",
       "      <td>0.268184</td>\n",
       "      <td>1.000000</td>\n",
       "      <td>0.148263</td>\n",
       "      <td>-0.136637</td>\n",
       "      <td>-0.241819</td>\n",
       "      <td>-0.229837</td>\n",
       "      <td>-0.200051</td>\n",
       "    </tr>\n",
       "    <tr>\n",
       "      <th>brain_bio_median_t2star_in_hippocampus__right__0_imaging</th>\n",
       "      <td>0.189093</td>\n",
       "      <td>0.129961</td>\n",
       "      <td>0.186802</td>\n",
       "      <td>0.161042</td>\n",
       "      <td>0.148263</td>\n",
       "      <td>1.000000</td>\n",
       "      <td>-0.300674</td>\n",
       "      <td>-0.402202</td>\n",
       "      <td>-0.356125</td>\n",
       "      <td>-0.416952</td>\n",
       "    </tr>\n",
       "    <tr>\n",
       "      <th>brain_bio_inverted_signal_to_noise_ratio_in_t1_0_imaging</th>\n",
       "      <td>-0.169828</td>\n",
       "      <td>-0.149487</td>\n",
       "      <td>-0.219734</td>\n",
       "      <td>-0.178298</td>\n",
       "      <td>-0.136637</td>\n",
       "      <td>-0.300674</td>\n",
       "      <td>1.000000</td>\n",
       "      <td>0.432335</td>\n",
       "      <td>0.370281</td>\n",
       "      <td>0.627819</td>\n",
       "    </tr>\n",
       "    <tr>\n",
       "      <th>brain_bio_mean_rfmri_head_motion__averaged_across_space_and_time_points_0_imaging</th>\n",
       "      <td>-0.311143</td>\n",
       "      <td>-0.213547</td>\n",
       "      <td>-0.297532</td>\n",
       "      <td>-0.297579</td>\n",
       "      <td>-0.241819</td>\n",
       "      <td>-0.402202</td>\n",
       "      <td>0.432335</td>\n",
       "      <td>1.000000</td>\n",
       "      <td>0.770301</td>\n",
       "      <td>0.695842</td>\n",
       "    </tr>\n",
       "    <tr>\n",
       "      <th>brain_bio_mean_tfmri_head_motion__averaged_across_space_and_time_points_0_imaging</th>\n",
       "      <td>-0.297680</td>\n",
       "      <td>-0.191378</td>\n",
       "      <td>-0.269906</td>\n",
       "      <td>-0.261397</td>\n",
       "      <td>-0.229837</td>\n",
       "      <td>-0.356125</td>\n",
       "      <td>0.370281</td>\n",
       "      <td>0.770301</td>\n",
       "      <td>1.000000</td>\n",
       "      <td>0.541515</td>\n",
       "    </tr>\n",
       "    <tr>\n",
       "      <th>brain_bio_inverted_temporal_signal_to_noise_ratio_in_pre_processed_rfmri_0_imaging</th>\n",
       "      <td>-0.296559</td>\n",
       "      <td>-0.222703</td>\n",
       "      <td>-0.327761</td>\n",
       "      <td>-0.309734</td>\n",
       "      <td>-0.200051</td>\n",
       "      <td>-0.416952</td>\n",
       "      <td>0.627819</td>\n",
       "      <td>0.695842</td>\n",
       "      <td>0.541515</td>\n",
       "      <td>1.000000</td>\n",
       "    </tr>\n",
       "  </tbody>\n",
       "</table>\n",
       "</div>"
      ],
      "text/plain": [
       "                                                    heart_Kurtosis_LV_ED_intensity  \\\n",
       "heart_Kurtosis_LV_ED_intensity                                            1.000000   \n",
       "heart_Minimum_LV_ES_intensity                                             0.256072   \n",
       "heart_Percentile10_LV_ES_intensity                                        0.428685   \n",
       "heart_Median_LV_ES_intensity                                              0.503701   \n",
       "heart_InformalMeasureofCorrelation2_glcm_LV_ES_...                        0.164938   \n",
       "brain_bio_median_t2star_in_hippocampus__right__...                        0.189093   \n",
       "brain_bio_inverted_signal_to_noise_ratio_in_t1_...                       -0.169828   \n",
       "brain_bio_mean_rfmri_head_motion__averaged_acro...                       -0.311143   \n",
       "brain_bio_mean_tfmri_head_motion__averaged_acro...                       -0.297680   \n",
       "brain_bio_inverted_temporal_signal_to_noise_rat...                       -0.296559   \n",
       "\n",
       "                                                    heart_Minimum_LV_ES_intensity  \\\n",
       "heart_Kurtosis_LV_ED_intensity                                           0.256072   \n",
       "heart_Minimum_LV_ES_intensity                                            1.000000   \n",
       "heart_Percentile10_LV_ES_intensity                                       0.646551   \n",
       "heart_Median_LV_ES_intensity                                             0.370140   \n",
       "heart_InformalMeasureofCorrelation2_glcm_LV_ES_...                       0.210031   \n",
       "brain_bio_median_t2star_in_hippocampus__right__...                       0.129961   \n",
       "brain_bio_inverted_signal_to_noise_ratio_in_t1_...                      -0.149487   \n",
       "brain_bio_mean_rfmri_head_motion__averaged_acro...                      -0.213547   \n",
       "brain_bio_mean_tfmri_head_motion__averaged_acro...                      -0.191378   \n",
       "brain_bio_inverted_temporal_signal_to_noise_rat...                      -0.222703   \n",
       "\n",
       "                                                    heart_Percentile10_LV_ES_intensity  \\\n",
       "heart_Kurtosis_LV_ED_intensity                                                0.428685   \n",
       "heart_Minimum_LV_ES_intensity                                                 0.646551   \n",
       "heart_Percentile10_LV_ES_intensity                                            1.000000   \n",
       "heart_Median_LV_ES_intensity                                                  0.770224   \n",
       "heart_InformalMeasureofCorrelation2_glcm_LV_ES_...                            0.267601   \n",
       "brain_bio_median_t2star_in_hippocampus__right__...                            0.186802   \n",
       "brain_bio_inverted_signal_to_noise_ratio_in_t1_...                           -0.219734   \n",
       "brain_bio_mean_rfmri_head_motion__averaged_acro...                           -0.297532   \n",
       "brain_bio_mean_tfmri_head_motion__averaged_acro...                           -0.269906   \n",
       "brain_bio_inverted_temporal_signal_to_noise_rat...                           -0.327761   \n",
       "\n",
       "                                                    heart_Median_LV_ES_intensity  \\\n",
       "heart_Kurtosis_LV_ED_intensity                                          0.503701   \n",
       "heart_Minimum_LV_ES_intensity                                           0.370140   \n",
       "heart_Percentile10_LV_ES_intensity                                      0.770224   \n",
       "heart_Median_LV_ES_intensity                                            1.000000   \n",
       "heart_InformalMeasureofCorrelation2_glcm_LV_ES_...                      0.268184   \n",
       "brain_bio_median_t2star_in_hippocampus__right__...                      0.161042   \n",
       "brain_bio_inverted_signal_to_noise_ratio_in_t1_...                     -0.178298   \n",
       "brain_bio_mean_rfmri_head_motion__averaged_acro...                     -0.297579   \n",
       "brain_bio_mean_tfmri_head_motion__averaged_acro...                     -0.261397   \n",
       "brain_bio_inverted_temporal_signal_to_noise_rat...                     -0.309734   \n",
       "\n",
       "                                                    heart_InformalMeasureofCorrelation2_glcm_LV_ES_texture  \\\n",
       "heart_Kurtosis_LV_ED_intensity                                                               0.164938        \n",
       "heart_Minimum_LV_ES_intensity                                                                0.210031        \n",
       "heart_Percentile10_LV_ES_intensity                                                           0.267601        \n",
       "heart_Median_LV_ES_intensity                                                                 0.268184        \n",
       "heart_InformalMeasureofCorrelation2_glcm_LV_ES_...                                           1.000000        \n",
       "brain_bio_median_t2star_in_hippocampus__right__...                                           0.148263        \n",
       "brain_bio_inverted_signal_to_noise_ratio_in_t1_...                                          -0.136637        \n",
       "brain_bio_mean_rfmri_head_motion__averaged_acro...                                          -0.241819        \n",
       "brain_bio_mean_tfmri_head_motion__averaged_acro...                                          -0.229837        \n",
       "brain_bio_inverted_temporal_signal_to_noise_rat...                                          -0.200051        \n",
       "\n",
       "                                                    brain_bio_median_t2star_in_hippocampus__right__0_imaging  \\\n",
       "heart_Kurtosis_LV_ED_intensity                                                               0.189093          \n",
       "heart_Minimum_LV_ES_intensity                                                                0.129961          \n",
       "heart_Percentile10_LV_ES_intensity                                                           0.186802          \n",
       "heart_Median_LV_ES_intensity                                                                 0.161042          \n",
       "heart_InformalMeasureofCorrelation2_glcm_LV_ES_...                                           0.148263          \n",
       "brain_bio_median_t2star_in_hippocampus__right__...                                           1.000000          \n",
       "brain_bio_inverted_signal_to_noise_ratio_in_t1_...                                          -0.300674          \n",
       "brain_bio_mean_rfmri_head_motion__averaged_acro...                                          -0.402202          \n",
       "brain_bio_mean_tfmri_head_motion__averaged_acro...                                          -0.356125          \n",
       "brain_bio_inverted_temporal_signal_to_noise_rat...                                          -0.416952          \n",
       "\n",
       "                                                    brain_bio_inverted_signal_to_noise_ratio_in_t1_0_imaging  \\\n",
       "heart_Kurtosis_LV_ED_intensity                                                              -0.169828          \n",
       "heart_Minimum_LV_ES_intensity                                                               -0.149487          \n",
       "heart_Percentile10_LV_ES_intensity                                                          -0.219734          \n",
       "heart_Median_LV_ES_intensity                                                                -0.178298          \n",
       "heart_InformalMeasureofCorrelation2_glcm_LV_ES_...                                          -0.136637          \n",
       "brain_bio_median_t2star_in_hippocampus__right__...                                          -0.300674          \n",
       "brain_bio_inverted_signal_to_noise_ratio_in_t1_...                                           1.000000          \n",
       "brain_bio_mean_rfmri_head_motion__averaged_acro...                                           0.432335          \n",
       "brain_bio_mean_tfmri_head_motion__averaged_acro...                                           0.370281          \n",
       "brain_bio_inverted_temporal_signal_to_noise_rat...                                           0.627819          \n",
       "\n",
       "                                                    brain_bio_mean_rfmri_head_motion__averaged_across_space_and_time_points_0_imaging  \\\n",
       "heart_Kurtosis_LV_ED_intensity                                                              -0.311143                                   \n",
       "heart_Minimum_LV_ES_intensity                                                               -0.213547                                   \n",
       "heart_Percentile10_LV_ES_intensity                                                          -0.297532                                   \n",
       "heart_Median_LV_ES_intensity                                                                -0.297579                                   \n",
       "heart_InformalMeasureofCorrelation2_glcm_LV_ES_...                                          -0.241819                                   \n",
       "brain_bio_median_t2star_in_hippocampus__right__...                                          -0.402202                                   \n",
       "brain_bio_inverted_signal_to_noise_ratio_in_t1_...                                           0.432335                                   \n",
       "brain_bio_mean_rfmri_head_motion__averaged_acro...                                           1.000000                                   \n",
       "brain_bio_mean_tfmri_head_motion__averaged_acro...                                           0.770301                                   \n",
       "brain_bio_inverted_temporal_signal_to_noise_rat...                                           0.695842                                   \n",
       "\n",
       "                                                    brain_bio_mean_tfmri_head_motion__averaged_across_space_and_time_points_0_imaging  \\\n",
       "heart_Kurtosis_LV_ED_intensity                                                              -0.297680                                   \n",
       "heart_Minimum_LV_ES_intensity                                                               -0.191378                                   \n",
       "heart_Percentile10_LV_ES_intensity                                                          -0.269906                                   \n",
       "heart_Median_LV_ES_intensity                                                                -0.261397                                   \n",
       "heart_InformalMeasureofCorrelation2_glcm_LV_ES_...                                          -0.229837                                   \n",
       "brain_bio_median_t2star_in_hippocampus__right__...                                          -0.356125                                   \n",
       "brain_bio_inverted_signal_to_noise_ratio_in_t1_...                                           0.370281                                   \n",
       "brain_bio_mean_rfmri_head_motion__averaged_acro...                                           0.770301                                   \n",
       "brain_bio_mean_tfmri_head_motion__averaged_acro...                                           1.000000                                   \n",
       "brain_bio_inverted_temporal_signal_to_noise_rat...                                           0.541515                                   \n",
       "\n",
       "                                                    brain_bio_inverted_temporal_signal_to_noise_ratio_in_pre_processed_rfmri_0_imaging  \n",
       "heart_Kurtosis_LV_ED_intensity                                                              -0.296559                                   \n",
       "heart_Minimum_LV_ES_intensity                                                               -0.222703                                   \n",
       "heart_Percentile10_LV_ES_intensity                                                          -0.327761                                   \n",
       "heart_Median_LV_ES_intensity                                                                -0.309734                                   \n",
       "heart_InformalMeasureofCorrelation2_glcm_LV_ES_...                                          -0.200051                                   \n",
       "brain_bio_median_t2star_in_hippocampus__right__...                                          -0.416952                                   \n",
       "brain_bio_inverted_signal_to_noise_ratio_in_t1_...                                           0.627819                                   \n",
       "brain_bio_mean_rfmri_head_motion__averaged_acro...                                           0.695842                                   \n",
       "brain_bio_mean_tfmri_head_motion__averaged_acro...                                           0.541515                                   \n",
       "brain_bio_inverted_temporal_signal_to_noise_rat...                                           1.000000                                   "
      ]
     },
     "execution_count": 82,
     "metadata": {},
     "output_type": "execute_result"
    }
   ],
   "source": [
    "heart_brain_corr"
   ]
  },
  {
   "cell_type": "code",
   "execution_count": 83,
   "metadata": {},
   "outputs": [
    {
     "data": {
      "image/png": "[encoded data removed]",
      "text/plain": [
       "<Figure size 792x648 with 2 Axes>"
      ]
     },
     "metadata": {
      "needs_background": "light"
     },
     "output_type": "display_data"
    }
   ],
   "source": [
    "cmr_brain_corr = corr_cmr_brain.corr()\n",
    "plt.figure(figsize=(11,9))\n",
    "sns.heatmap(cmr_brain_corr, cmap=plt.cm.RdBu_r, vmin=-1, vmax=1)\n",
    "plt.show()"
   ]
  },
  {
   "cell_type": "code",
   "execution_count": 84,
   "metadata": {},
   "outputs": [
    {
     "data": {
      "text/html": [
       "<div>\n",
       "<style scoped>\n",
       "    .dataframe tbody tr th:only-of-type {\n",
       "        vertical-align: middle;\n",
       "    }\n",
       "\n",
       "    .dataframe tbody tr th {\n",
       "        vertical-align: top;\n",
       "    }\n",
       "\n",
       "    .dataframe thead th {\n",
       "        text-align: right;\n",
       "    }\n",
       "</style>\n",
       "<table border=\"1\" class=\"dataframe\">\n",
       "  <thead>\n",
       "    <tr style=\"text-align: right;\">\n",
       "      <th></th>\n",
       "      <th>cardio_cmr_LVEDV_i</th>\n",
       "      <th>cardio_cmr_LVESV_i</th>\n",
       "      <th>cardio_cmr_LVSV_i</th>\n",
       "      <th>cardio_cmr_RVEDV_i</th>\n",
       "      <th>cardio_cmr_RVSV_i</th>\n",
       "      <th>brain_bio_median_t2star_in_hippocampus__right__0_imaging</th>\n",
       "      <th>brain_bio_inverted_signal_to_noise_ratio_in_t1_0_imaging</th>\n",
       "      <th>brain_bio_mean_rfmri_head_motion__averaged_across_space_and_time_points_0_imaging</th>\n",
       "      <th>brain_bio_mean_tfmri_head_motion__averaged_across_space_and_time_points_0_imaging</th>\n",
       "      <th>brain_bio_inverted_temporal_signal_to_noise_ratio_in_pre_processed_rfmri_0_imaging</th>\n",
       "    </tr>\n",
       "  </thead>\n",
       "  <tbody>\n",
       "    <tr>\n",
       "      <th>cardio_cmr_LVEDV_i</th>\n",
       "      <td>1.000000</td>\n",
       "      <td>0.832724</td>\n",
       "      <td>0.818599</td>\n",
       "      <td>0.806088</td>\n",
       "      <td>0.774736</td>\n",
       "      <td>0.069795</td>\n",
       "      <td>0.011332</td>\n",
       "      <td>-0.119604</td>\n",
       "      <td>-0.136510</td>\n",
       "      <td>-0.010840</td>\n",
       "    </tr>\n",
       "    <tr>\n",
       "      <th>cardio_cmr_LVESV_i</th>\n",
       "      <td>0.832724</td>\n",
       "      <td>1.000000</td>\n",
       "      <td>0.363647</td>\n",
       "      <td>0.636581</td>\n",
       "      <td>0.377506</td>\n",
       "      <td>0.021516</td>\n",
       "      <td>0.034756</td>\n",
       "      <td>-0.083726</td>\n",
       "      <td>-0.092079</td>\n",
       "      <td>0.036283</td>\n",
       "    </tr>\n",
       "    <tr>\n",
       "      <th>cardio_cmr_LVSV_i</th>\n",
       "      <td>0.818599</td>\n",
       "      <td>0.363647</td>\n",
       "      <td>1.000000</td>\n",
       "      <td>0.695825</td>\n",
       "      <td>0.911827</td>\n",
       "      <td>0.095106</td>\n",
       "      <td>-0.016989</td>\n",
       "      <td>-0.114372</td>\n",
       "      <td>-0.134150</td>\n",
       "      <td>-0.055876</td>\n",
       "    </tr>\n",
       "    <tr>\n",
       "      <th>cardio_cmr_RVEDV_i</th>\n",
       "      <td>0.806088</td>\n",
       "      <td>0.636581</td>\n",
       "      <td>0.695825</td>\n",
       "      <td>1.000000</td>\n",
       "      <td>0.796017</td>\n",
       "      <td>0.058688</td>\n",
       "      <td>0.019703</td>\n",
       "      <td>-0.095598</td>\n",
       "      <td>-0.121540</td>\n",
       "      <td>0.008033</td>\n",
       "    </tr>\n",
       "    <tr>\n",
       "      <th>cardio_cmr_RVSV_i</th>\n",
       "      <td>0.774736</td>\n",
       "      <td>0.377506</td>\n",
       "      <td>0.911827</td>\n",
       "      <td>0.796017</td>\n",
       "      <td>1.000000</td>\n",
       "      <td>0.082557</td>\n",
       "      <td>-0.006661</td>\n",
       "      <td>-0.116529</td>\n",
       "      <td>-0.130178</td>\n",
       "      <td>-0.048988</td>\n",
       "    </tr>\n",
       "    <tr>\n",
       "      <th>brain_bio_median_t2star_in_hippocampus__right__0_imaging</th>\n",
       "      <td>0.069795</td>\n",
       "      <td>0.021516</td>\n",
       "      <td>0.095106</td>\n",
       "      <td>0.058688</td>\n",
       "      <td>0.082557</td>\n",
       "      <td>1.000000</td>\n",
       "      <td>-0.300674</td>\n",
       "      <td>-0.402202</td>\n",
       "      <td>-0.356125</td>\n",
       "      <td>-0.416952</td>\n",
       "    </tr>\n",
       "    <tr>\n",
       "      <th>brain_bio_inverted_signal_to_noise_ratio_in_t1_0_imaging</th>\n",
       "      <td>0.011332</td>\n",
       "      <td>0.034756</td>\n",
       "      <td>-0.016989</td>\n",
       "      <td>0.019703</td>\n",
       "      <td>-0.006661</td>\n",
       "      <td>-0.300674</td>\n",
       "      <td>1.000000</td>\n",
       "      <td>0.432335</td>\n",
       "      <td>0.370281</td>\n",
       "      <td>0.627819</td>\n",
       "    </tr>\n",
       "    <tr>\n",
       "      <th>brain_bio_mean_rfmri_head_motion__averaged_across_space_and_time_points_0_imaging</th>\n",
       "      <td>-0.119604</td>\n",
       "      <td>-0.083726</td>\n",
       "      <td>-0.114372</td>\n",
       "      <td>-0.095598</td>\n",
       "      <td>-0.116529</td>\n",
       "      <td>-0.402202</td>\n",
       "      <td>0.432335</td>\n",
       "      <td>1.000000</td>\n",
       "      <td>0.770301</td>\n",
       "      <td>0.695842</td>\n",
       "    </tr>\n",
       "    <tr>\n",
       "      <th>brain_bio_mean_tfmri_head_motion__averaged_across_space_and_time_points_0_imaging</th>\n",
       "      <td>-0.136510</td>\n",
       "      <td>-0.092079</td>\n",
       "      <td>-0.134150</td>\n",
       "      <td>-0.121540</td>\n",
       "      <td>-0.130178</td>\n",
       "      <td>-0.356125</td>\n",
       "      <td>0.370281</td>\n",
       "      <td>0.770301</td>\n",
       "      <td>1.000000</td>\n",
       "      <td>0.541515</td>\n",
       "    </tr>\n",
       "    <tr>\n",
       "      <th>brain_bio_inverted_temporal_signal_to_noise_ratio_in_pre_processed_rfmri_0_imaging</th>\n",
       "      <td>-0.010840</td>\n",
       "      <td>0.036283</td>\n",
       "      <td>-0.055876</td>\n",
       "      <td>0.008033</td>\n",
       "      <td>-0.048988</td>\n",
       "      <td>-0.416952</td>\n",
       "      <td>0.627819</td>\n",
       "      <td>0.695842</td>\n",
       "      <td>0.541515</td>\n",
       "      <td>1.000000</td>\n",
       "    </tr>\n",
       "  </tbody>\n",
       "</table>\n",
       "</div>"
      ],
      "text/plain": [
       "                                                    cardio_cmr_LVEDV_i  \\\n",
       "cardio_cmr_LVEDV_i                                            1.000000   \n",
       "cardio_cmr_LVESV_i                                            0.832724   \n",
       "cardio_cmr_LVSV_i                                             0.818599   \n",
       "cardio_cmr_RVEDV_i                                            0.806088   \n",
       "cardio_cmr_RVSV_i                                             0.774736   \n",
       "brain_bio_median_t2star_in_hippocampus__right__...            0.069795   \n",
       "brain_bio_inverted_signal_to_noise_ratio_in_t1_...            0.011332   \n",
       "brain_bio_mean_rfmri_head_motion__averaged_acro...           -0.119604   \n",
       "brain_bio_mean_tfmri_head_motion__averaged_acro...           -0.136510   \n",
       "brain_bio_inverted_temporal_signal_to_noise_rat...           -0.010840   \n",
       "\n",
       "                                                    cardio_cmr_LVESV_i  \\\n",
       "cardio_cmr_LVEDV_i                                            0.832724   \n",
       "cardio_cmr_LVESV_i                                            1.000000   \n",
       "cardio_cmr_LVSV_i                                             0.363647   \n",
       "cardio_cmr_RVEDV_i                                            0.636581   \n",
       "cardio_cmr_RVSV_i                                             0.377506   \n",
       "brain_bio_median_t2star_in_hippocampus__right__...            0.021516   \n",
       "brain_bio_inverted_signal_to_noise_ratio_in_t1_...            0.034756   \n",
       "brain_bio_mean_rfmri_head_motion__averaged_acro...           -0.083726   \n",
       "brain_bio_mean_tfmri_head_motion__averaged_acro...           -0.092079   \n",
       "brain_bio_inverted_temporal_signal_to_noise_rat...            0.036283   \n",
       "\n",
       "                                                    cardio_cmr_LVSV_i  \\\n",
       "cardio_cmr_LVEDV_i                                           0.818599   \n",
       "cardio_cmr_LVESV_i                                           0.363647   \n",
       "cardio_cmr_LVSV_i                                            1.000000   \n",
       "cardio_cmr_RVEDV_i                                           0.695825   \n",
       "cardio_cmr_RVSV_i                                            0.911827   \n",
       "brain_bio_median_t2star_in_hippocampus__right__...           0.095106   \n",
       "brain_bio_inverted_signal_to_noise_ratio_in_t1_...          -0.016989   \n",
       "brain_bio_mean_rfmri_head_motion__averaged_acro...          -0.114372   \n",
       "brain_bio_mean_tfmri_head_motion__averaged_acro...          -0.134150   \n",
       "brain_bio_inverted_temporal_signal_to_noise_rat...          -0.055876   \n",
       "\n",
       "                                                    cardio_cmr_RVEDV_i  \\\n",
       "cardio_cmr_LVEDV_i                                            0.806088   \n",
       "cardio_cmr_LVESV_i                                            0.636581   \n",
       "cardio_cmr_LVSV_i                                             0.695825   \n",
       "cardio_cmr_RVEDV_i                                            1.000000   \n",
       "cardio_cmr_RVSV_i                                             0.796017   \n",
       "brain_bio_median_t2star_in_hippocampus__right__...            0.058688   \n",
       "brain_bio_inverted_signal_to_noise_ratio_in_t1_...            0.019703   \n",
       "brain_bio_mean_rfmri_head_motion__averaged_acro...           -0.095598   \n",
       "brain_bio_mean_tfmri_head_motion__averaged_acro...           -0.121540   \n",
       "brain_bio_inverted_temporal_signal_to_noise_rat...            0.008033   \n",
       "\n",
       "                                                    cardio_cmr_RVSV_i  \\\n",
       "cardio_cmr_LVEDV_i                                           0.774736   \n",
       "cardio_cmr_LVESV_i                                           0.377506   \n",
       "cardio_cmr_LVSV_i                                            0.911827   \n",
       "cardio_cmr_RVEDV_i                                           0.796017   \n",
       "cardio_cmr_RVSV_i                                            1.000000   \n",
       "brain_bio_median_t2star_in_hippocampus__right__...           0.082557   \n",
       "brain_bio_inverted_signal_to_noise_ratio_in_t1_...          -0.006661   \n",
       "brain_bio_mean_rfmri_head_motion__averaged_acro...          -0.116529   \n",
       "brain_bio_mean_tfmri_head_motion__averaged_acro...          -0.130178   \n",
       "brain_bio_inverted_temporal_signal_to_noise_rat...          -0.048988   \n",
       "\n",
       "                                                    brain_bio_median_t2star_in_hippocampus__right__0_imaging  \\\n",
       "cardio_cmr_LVEDV_i                                                                           0.069795          \n",
       "cardio_cmr_LVESV_i                                                                           0.021516          \n",
       "cardio_cmr_LVSV_i                                                                            0.095106          \n",
       "cardio_cmr_RVEDV_i                                                                           0.058688          \n",
       "cardio_cmr_RVSV_i                                                                            0.082557          \n",
       "brain_bio_median_t2star_in_hippocampus__right__...                                           1.000000          \n",
       "brain_bio_inverted_signal_to_noise_ratio_in_t1_...                                          -0.300674          \n",
       "brain_bio_mean_rfmri_head_motion__averaged_acro...                                          -0.402202          \n",
       "brain_bio_mean_tfmri_head_motion__averaged_acro...                                          -0.356125          \n",
       "brain_bio_inverted_temporal_signal_to_noise_rat...                                          -0.416952          \n",
       "\n",
       "                                                    brain_bio_inverted_signal_to_noise_ratio_in_t1_0_imaging  \\\n",
       "cardio_cmr_LVEDV_i                                                                           0.011332          \n",
       "cardio_cmr_LVESV_i                                                                           0.034756          \n",
       "cardio_cmr_LVSV_i                                                                           -0.016989          \n",
       "cardio_cmr_RVEDV_i                                                                           0.019703          \n",
       "cardio_cmr_RVSV_i                                                                           -0.006661          \n",
       "brain_bio_median_t2star_in_hippocampus__right__...                                          -0.300674          \n",
       "brain_bio_inverted_signal_to_noise_ratio_in_t1_...                                           1.000000          \n",
       "brain_bio_mean_rfmri_head_motion__averaged_acro...                                           0.432335          \n",
       "brain_bio_mean_tfmri_head_motion__averaged_acro...                                           0.370281          \n",
       "brain_bio_inverted_temporal_signal_to_noise_rat...                                           0.627819          \n",
       "\n",
       "                                                    brain_bio_mean_rfmri_head_motion__averaged_across_space_and_time_points_0_imaging  \\\n",
       "cardio_cmr_LVEDV_i                                                                          -0.119604                                   \n",
       "cardio_cmr_LVESV_i                                                                          -0.083726                                   \n",
       "cardio_cmr_LVSV_i                                                                           -0.114372                                   \n",
       "cardio_cmr_RVEDV_i                                                                          -0.095598                                   \n",
       "cardio_cmr_RVSV_i                                                                           -0.116529                                   \n",
       "brain_bio_median_t2star_in_hippocampus__right__...                                          -0.402202                                   \n",
       "brain_bio_inverted_signal_to_noise_ratio_in_t1_...                                           0.432335                                   \n",
       "brain_bio_mean_rfmri_head_motion__averaged_acro...                                           1.000000                                   \n",
       "brain_bio_mean_tfmri_head_motion__averaged_acro...                                           0.770301                                   \n",
       "brain_bio_inverted_temporal_signal_to_noise_rat...                                           0.695842                                   \n",
       "\n",
       "                                                    brain_bio_mean_tfmri_head_motion__averaged_across_space_and_time_points_0_imaging  \\\n",
       "cardio_cmr_LVEDV_i                                                                          -0.136510                                   \n",
       "cardio_cmr_LVESV_i                                                                          -0.092079                                   \n",
       "cardio_cmr_LVSV_i                                                                           -0.134150                                   \n",
       "cardio_cmr_RVEDV_i                                                                          -0.121540                                   \n",
       "cardio_cmr_RVSV_i                                                                           -0.130178                                   \n",
       "brain_bio_median_t2star_in_hippocampus__right__...                                          -0.356125                                   \n",
       "brain_bio_inverted_signal_to_noise_ratio_in_t1_...                                           0.370281                                   \n",
       "brain_bio_mean_rfmri_head_motion__averaged_acro...                                           0.770301                                   \n",
       "brain_bio_mean_tfmri_head_motion__averaged_acro...                                           1.000000                                   \n",
       "brain_bio_inverted_temporal_signal_to_noise_rat...                                           0.541515                                   \n",
       "\n",
       "                                                    brain_bio_inverted_temporal_signal_to_noise_ratio_in_pre_processed_rfmri_0_imaging  \n",
       "cardio_cmr_LVEDV_i                                                                          -0.010840                                   \n",
       "cardio_cmr_LVESV_i                                                                           0.036283                                   \n",
       "cardio_cmr_LVSV_i                                                                           -0.055876                                   \n",
       "cardio_cmr_RVEDV_i                                                                           0.008033                                   \n",
       "cardio_cmr_RVSV_i                                                                           -0.048988                                   \n",
       "brain_bio_median_t2star_in_hippocampus__right__...                                          -0.416952                                   \n",
       "brain_bio_inverted_signal_to_noise_ratio_in_t1_...                                           0.627819                                   \n",
       "brain_bio_mean_rfmri_head_motion__averaged_acro...                                           0.695842                                   \n",
       "brain_bio_mean_tfmri_head_motion__averaged_acro...                                           0.541515                                   \n",
       "brain_bio_inverted_temporal_signal_to_noise_rat...                                           1.000000                                   "
      ]
     },
     "execution_count": 84,
     "metadata": {},
     "output_type": "execute_result"
    }
   ],
   "source": [
    "cmr_brain_corr"
   ]
  },
  {
   "cell_type": "markdown",
   "metadata": {},
   "source": [
    "# 2. References"
   ]
  },
  {
   "cell_type": "markdown",
   "metadata": {},
   "source": [
    "[1] [Pedregosa, F. et al. (2011)](https://www.jmlr.org/papers/volume12/pedregosa11a/pedregosa11a.pdf). Scikit-learn: Machine Learning in Python."
   ]
  }
 ],
 "metadata": {
  "kernelspec": {
   "display_name": "Python 3",
   "language": "python",
   "name": "python3"
  },
  "language_info": {
   "codemirror_mode": {
    "name": "ipython",
    "version": 3
   },
   "file_extension": ".py",
   "mimetype": "text/x-python",
   "name": "python",
   "nbconvert_exporter": "python",
   "pygments_lexer": "ipython3",
   "version": "3.7.3"
  }
 },
 "nbformat": 4,
 "nbformat_minor": 2
}
