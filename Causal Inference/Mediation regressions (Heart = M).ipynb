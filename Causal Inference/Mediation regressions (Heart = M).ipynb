{
 "cells": [
  {
   "cell_type": "code",
   "execution_count": 1,
   "metadata": {},
   "outputs": [],
   "source": [
    "import statsmodels.api as sm\n",
    "import statsmodels.formula.api as smf\n",
    "from statsmodels.stats.mediation import Mediation\n",
    "import pandas as pd\n",
    "import numpy as np\n",
    "from sklearn.decomposition import FactorAnalysis"
   ]
  },
  {
   "cell_type": "markdown",
   "metadata": {},
   "source": [
    "# 0. Preparing dataset"
   ]
  },
  {
   "cell_type": "code",
   "execution_count": 2,
   "metadata": {},
   "outputs": [
    {
     "data": {
      "text/plain": [
       "((2065, 639), (2065, 744), (2065,))"
      ]
     },
     "execution_count": 2,
     "metadata": {},
     "output_type": "execute_result"
    }
   ],
   "source": [
    "# Reading and filtering datasets\n",
    "data = pd.read_csv(\"casuality_data_final_factor_analyzer.csv\")\n",
    "heart_df = data.filter(regex='heart')\n",
    "cardio_cmr_df = data.filter(regex='cardio_cmr')\n",
    "X1 = pd.concat([heart_df, cardio_cmr_df], axis=1)\n",
    "X2 = data.filter(regex='brain')\n",
    "g_VRF = data[\"g_VRF\"]\n",
    "X1.shape, X2.shape, g_VRF.shape"
   ]
  },
  {
   "cell_type": "code",
   "execution_count": 3,
   "metadata": {},
   "outputs": [
    {
     "data": {
      "text/plain": [
       "((2065,), (2065,), (2065,))"
      ]
     },
     "execution_count": 3,
     "metadata": {},
     "output_type": "execute_result"
    }
   ],
   "source": [
    "# Extracting latent factor for heart and brain\n",
    "factor_heart = FactorAnalysis(n_components=1)\n",
    "factor_heart = factor_heart.fit_transform(X1, g_VRF)\n",
    "factor_brain = FactorAnalysis(n_components=1)\n",
    "factor_brain = factor_brain.fit_transform(X2, g_VRF)\n",
    "factor_heart = factor_heart[:, 0]\n",
    "factor_brain = factor_brain[:, 0]\n",
    "factor_heart.shape, factor_brain.shape, g_VRF.shape"
   ]
  },
  {
   "cell_type": "code",
   "execution_count": 4,
   "metadata": {},
   "outputs": [],
   "source": [
    "data['factor_heart'] = factor_heart\n",
    "data['factor_brain'] = factor_brain"
   ]
  },
  {
   "cell_type": "code",
   "execution_count": 5,
   "metadata": {},
   "outputs": [
    {
     "data": {
      "text/html": [
       "<div>\n",
       "<style scoped>\n",
       "    .dataframe tbody tr th:only-of-type {\n",
       "        vertical-align: middle;\n",
       "    }\n",
       "\n",
       "    .dataframe tbody tr th {\n",
       "        vertical-align: top;\n",
       "    }\n",
       "\n",
       "    .dataframe thead th {\n",
       "        text-align: right;\n",
       "    }\n",
       "</style>\n",
       "<table border=\"1\" class=\"dataframe\">\n",
       "  <thead>\n",
       "    <tr style=\"text-align: right;\">\n",
       "      <th></th>\n",
       "      <th>factor_heart</th>\n",
       "      <th>factor_brain</th>\n",
       "      <th>g_VRF</th>\n",
       "    </tr>\n",
       "  </thead>\n",
       "  <tbody>\n",
       "    <tr>\n",
       "      <th>0</th>\n",
       "      <td>-1.364912</td>\n",
       "      <td>1.062501</td>\n",
       "      <td>-0.270503</td>\n",
       "    </tr>\n",
       "    <tr>\n",
       "      <th>1</th>\n",
       "      <td>-1.186440</td>\n",
       "      <td>-1.240734</td>\n",
       "      <td>-0.399763</td>\n",
       "    </tr>\n",
       "    <tr>\n",
       "      <th>2</th>\n",
       "      <td>1.164212</td>\n",
       "      <td>-1.648003</td>\n",
       "      <td>1.179964</td>\n",
       "    </tr>\n",
       "    <tr>\n",
       "      <th>3</th>\n",
       "      <td>0.793579</td>\n",
       "      <td>-0.003127</td>\n",
       "      <td>-1.170220</td>\n",
       "    </tr>\n",
       "    <tr>\n",
       "      <th>4</th>\n",
       "      <td>-0.661120</td>\n",
       "      <td>0.919291</td>\n",
       "      <td>-0.291274</td>\n",
       "    </tr>\n",
       "  </tbody>\n",
       "</table>\n",
       "</div>"
      ],
      "text/plain": [
       "   factor_heart  factor_brain     g_VRF\n",
       "0     -1.364912      1.062501 -0.270503\n",
       "1     -1.186440     -1.240734 -0.399763\n",
       "2      1.164212     -1.648003  1.179964\n",
       "3      0.793579     -0.003127 -1.170220\n",
       "4     -0.661120      0.919291 -0.291274"
      ]
     },
     "execution_count": 5,
     "metadata": {},
     "output_type": "execute_result"
    }
   ],
   "source": [
    "data_new = data.filter(['factor_heart', 'factor_brain', 'g_VRF'], axis=1)\n",
    "data_new.head()"
   ]
  },
  {
   "cell_type": "markdown",
   "metadata": {},
   "source": [
    "# 1. Running regressions (VRF->Brain with Heart mediation)"
   ]
  },
  {
   "cell_type": "code",
   "execution_count": 6,
   "metadata": {},
   "outputs": [],
   "source": [
    "# inputs\n",
    "X = data[\"g_VRF\"]\n",
    "M = factor_heart\n",
    "Y = factor_brain"
   ]
  },
  {
   "cell_type": "markdown",
   "metadata": {},
   "source": [
    "A mediation analysis is comprised of three sets of regression: X → Y, X → M, and X + M → Y"
   ]
  },
  {
   "cell_type": "markdown",
   "metadata": {},
   "source": [
    "## 1.1 X -> Y"
   ]
  },
  {
   "cell_type": "markdown",
   "metadata": {},
   "source": [
    "We want X to affect Y. If there is no relationship between X and Y, there is nothing to mediate."
   ]
  },
  {
   "cell_type": "code",
   "execution_count": 7,
   "metadata": {},
   "outputs": [
    {
     "name": "stdout",
     "output_type": "stream",
     "text": [
      "                            OLS Regression Results                            \n",
      "==============================================================================\n",
      "Dep. Variable:                      y   R-squared:                       0.041\n",
      "Model:                            OLS   Adj. R-squared:                  0.040\n",
      "Method:                 Least Squares   F-statistic:                     87.87\n",
      "Date:                Tue, 25 Aug 2020   Prob (F-statistic):           1.77e-20\n",
      "Time:                        01:27:02   Log-Likelihood:                -2883.8\n",
      "No. Observations:                2065   AIC:                             5772.\n",
      "Df Residuals:                    2063   BIC:                             5783.\n",
      "Df Model:                           1                                         \n",
      "Covariance Type:            nonrobust                                         \n",
      "==============================================================================\n",
      "                 coef    std err          t      P>|t|      [0.025      0.975]\n",
      "------------------------------------------------------------------------------\n",
      "const       1.561e-16      0.022   7.25e-15      1.000      -0.042       0.042\n",
      "g_VRF         -0.1895      0.020     -9.374      0.000      -0.229      -0.150\n",
      "==============================================================================\n",
      "Omnibus:                      165.936   Durbin-Watson:                   2.002\n",
      "Prob(Omnibus):                  0.000   Jarque-Bera (JB):              348.687\n",
      "Skew:                          -0.516   Prob(JB):                     1.92e-76\n",
      "Kurtosis:                       4.728   Cond. No.                         1.07\n",
      "==============================================================================\n",
      "\n",
      "Warnings:\n",
      "[1] Standard Errors assume that the covariance matrix of the errors is correctly specified.\n"
     ]
    }
   ],
   "source": [
    "X = sm.add_constant(X)\n",
    "est = sm.OLS(Y, X)\n",
    "est2 = est.fit()\n",
    "print(est2.summary())"
   ]
  },
  {
   "cell_type": "markdown",
   "metadata": {},
   "source": [
    "We can see how the coefficient for g_VRF (-0.1895) is significant. Therefore, X affects Y."
   ]
  },
  {
   "cell_type": "markdown",
   "metadata": {},
   "source": [
    "## 1.2 X -> M"
   ]
  },
  {
   "cell_type": "markdown",
   "metadata": {},
   "source": [
    "We want X to affect M. If X and M have no relationship, M is just a third variable that may or may not be associated with Y. A mediation makes sense only if X affects M."
   ]
  },
  {
   "cell_type": "code",
   "execution_count": 8,
   "metadata": {},
   "outputs": [
    {
     "name": "stdout",
     "output_type": "stream",
     "text": [
      "                            OLS Regression Results                            \n",
      "==============================================================================\n",
      "Dep. Variable:                      y   R-squared:                       0.070\n",
      "Model:                            OLS   Adj. R-squared:                  0.070\n",
      "Method:                 Least Squares   F-statistic:                     155.6\n",
      "Date:                Tue, 25 Aug 2020   Prob (F-statistic):           1.72e-34\n",
      "Time:                        01:27:02   Log-Likelihood:                -2853.8\n",
      "No. Observations:                2065   AIC:                             5712.\n",
      "Df Residuals:                    2063   BIC:                             5723.\n",
      "Df Model:                           1                                         \n",
      "Covariance Type:            nonrobust                                         \n",
      "==============================================================================\n",
      "                 coef    std err          t      P>|t|      [0.025      0.975]\n",
      "------------------------------------------------------------------------------\n",
      "const       4.922e-17      0.021   2.32e-15      1.000      -0.042       0.042\n",
      "g_VRF         -0.2485      0.020    -12.476      0.000      -0.288      -0.209\n",
      "==============================================================================\n",
      "Omnibus:                       21.071   Durbin-Watson:                   2.118\n",
      "Prob(Omnibus):                  0.000   Jarque-Bera (JB):               26.885\n",
      "Skew:                           0.148   Prob(JB):                     1.45e-06\n",
      "Kurtosis:                       3.475   Cond. No.                         1.07\n",
      "==============================================================================\n",
      "\n",
      "Warnings:\n",
      "[1] Standard Errors assume that the covariance matrix of the errors is correctly specified.\n"
     ]
    }
   ],
   "source": [
    "X = sm.add_constant(X)\n",
    "est = sm.OLS(M, X)\n",
    "est2 = est.fit()\n",
    "print(est2.summary())"
   ]
  },
  {
   "cell_type": "markdown",
   "metadata": {},
   "source": [
    "We can see how the coefficient for g_VRF (-0.2485) is significant. Therefore, X affects M."
   ]
  },
  {
   "cell_type": "markdown",
   "metadata": {},
   "source": [
    "## 1.3 X + M -> Y"
   ]
  },
  {
   "cell_type": "markdown",
   "metadata": {},
   "source": [
    "We want M to affect Y, but X to no longer affect Y (or X to still affect Y but in a smaller magnitude). If a mediation effect exists, the effect of X on Y will disappear (or at least weaken) when M is included in the regression. The effect of X on Y goes through M.\n",
    "\n",
    "If the effect of X on Y completely disappears, M fully mediates between X and Y (full mediation). If the effect of X on Y still exists, but in a smaller magnitude, M partially mediates between X and Y (partial mediation)."
   ]
  },
  {
   "cell_type": "code",
   "execution_count": 9,
   "metadata": {},
   "outputs": [
    {
     "name": "stdout",
     "output_type": "stream",
     "text": [
      "                            OLS Regression Results                            \n",
      "==============================================================================\n",
      "Dep. Variable:           factor_brain   R-squared:                       0.044\n",
      "Model:                            OLS   Adj. R-squared:                  0.043\n",
      "Method:                 Least Squares   F-statistic:                     47.08\n",
      "Date:                Tue, 25 Aug 2020   Prob (F-statistic):           1.02e-20\n",
      "Time:                        01:27:02   Log-Likelihood:                -2880.8\n",
      "No. Observations:                2065   AIC:                             5768.\n",
      "Df Residuals:                    2062   BIC:                             5784.\n",
      "Df Model:                           2                                         \n",
      "Covariance Type:            nonrobust                                         \n",
      "================================================================================\n",
      "                   coef    std err          t      P>|t|      [0.025      0.975]\n",
      "--------------------------------------------------------------------------------\n",
      "Intercept     1.561e-16      0.022   7.26e-15      1.000      -0.042       0.042\n",
      "g_VRF           -0.2031      0.021     -9.703      0.000      -0.244      -0.162\n",
      "factor_heart    -0.0550      0.022     -2.464      0.014      -0.099      -0.011\n",
      "==============================================================================\n",
      "Omnibus:                      167.012   Durbin-Watson:                   1.997\n",
      "Prob(Omnibus):                  0.000   Jarque-Bera (JB):              353.549\n",
      "Skew:                          -0.517   Prob(JB):                     1.69e-77\n",
      "Kurtosis:                       4.744   Cond. No.                         1.32\n",
      "==============================================================================\n",
      "\n",
      "Warnings:\n",
      "[1] Standard Errors assume that the covariance matrix of the errors is correctly specified.\n"
     ]
    }
   ],
   "source": [
    "mod = smf.ols(formula='factor_brain ~ g_VRF + factor_heart', data=data_new)\n",
    "res = mod.fit()\n",
    "print(res.summary())"
   ]
  },
  {
   "cell_type": "markdown",
   "metadata": {},
   "source": [
    "We can see how the coefficient for g_VRF (-0.2031) is still significant. Therefore, X still affects Y. However, the mediation effect of factor_heart is very low (-0.0550). Therefore, the heart does not play an important mediating role between VRFs and the brain."
   ]
  },
  {
   "cell_type": "markdown",
   "metadata": {},
   "source": [
    "# 2. Mediation Analysis"
   ]
  },
  {
   "cell_type": "markdown",
   "metadata": {},
   "source": [
    "Once we find these relationships, we want to see if this mediation effect is statistically significant (different from zero or not). To do so, there are two main approaches: the Sobel test (Sobel, 1982) and bootstrapping (Preacher & Hayes, 2004). In R, you can use sobel() in ‘multilevel’ package for the Sobel test and mediate() in ‘mediation’ package for bootstrapping. Because bootstrapping is strongly recommended in recent years (although Sobel test was widely used before), I’ll show only the bootstrapping method in this example.\n",
    "\n",
    "\n",
    "mediate() takes two model objects as input (X → M and X + M → Y) and we need to specify which variable is an IV (treatment) and a mediator (mediator). For bootstrapping, set boot = TRUE and sims to at least 500. After running it, look for ACME (Average Causal Mediation Effects) in the results and see if it’s different from zero."
   ]
  },
  {
   "cell_type": "code",
   "execution_count": 10,
   "metadata": {},
   "outputs": [
    {
     "name": "stdout",
     "output_type": "stream",
     "text": [
      "                          Estimate  Lower CI bound  Upper CI bound  P-value\n",
      "ACME (control)               0.014           0.003           0.026    0.012\n",
      "ACME (treated)               0.014           0.003           0.026    0.012\n",
      "ADE (control)               -0.202          -0.246          -0.160    0.000\n",
      "ADE (treated)               -0.202          -0.246          -0.160    0.000\n",
      "Total effect                -0.189          -0.232          -0.148    0.000\n",
      "Prop. mediated (control)    -0.070          -0.149          -0.017    0.012\n",
      "Prop. mediated (treated)    -0.070          -0.149          -0.017    0.012\n",
      "ACME (average)               0.014           0.003           0.026    0.012\n",
      "ADE (average)               -0.202          -0.246          -0.160    0.000\n",
      "Prop. mediated (average)    -0.070          -0.149          -0.017    0.012\n"
     ]
    }
   ],
   "source": [
    "from statsmodels.stats.mediation import Mediation\n",
    "outcome_model = sm.OLS.from_formula(\"factor_brain ~  g_VRF + factor_heart\", data = data_new)\n",
    "mediator_model = sm.OLS.from_formula(\"factor_heart ~ g_VRF\", data = data_new)\n",
    "med = Mediation(outcome_model, mediator_model, \"g_VRF\", mediator = \"factor_heart\")\n",
    "med_result = med.fit(n_rep = 500, method = 'bootstrap')\n",
    "print(np.round(med_result.summary(), decimals = 3))"
   ]
  },
  {
   "cell_type": "markdown",
   "metadata": {},
   "source": [
    "Note that the Total Effect in the summary (-0.189) is the coefficient in the first step: a total effect of X on Y (without M). The direct effect (ADE, -0.202) is the coefficient in the third step: a direct effect of X on Y after taking into account a mediation (indirect) effect of M. Finally, the mediation effect (ACME) is the total effect minus the direct effect. The goal of mediation analysis is to obtain this indirect effect and see if it’s statistically significant."
   ]
  },
  {
   "cell_type": "markdown",
   "metadata": {},
   "source": [
    "# 3. References"
   ]
  },
  {
   "cell_type": "markdown",
   "metadata": {},
   "source": [
    "[1]: [Kim Bommae (2016)](https://data.library.virginia.edu/introduction-to-mediation-analysis/). Introduction to Mediation Analysis"
   ]
  }
 ],
 "metadata": {
  "kernelspec": {
   "display_name": "Python 3",
   "language": "python",
   "name": "python3"
  },
  "language_info": {
   "codemirror_mode": {
    "name": "ipython",
    "version": 3
   },
   "file_extension": ".py",
   "mimetype": "text/x-python",
   "name": "python",
   "nbconvert_exporter": "python",
   "pygments_lexer": "ipython3",
   "version": "3.7.3"
  }
 },
 "nbformat": 4,
 "nbformat_minor": 4
}
