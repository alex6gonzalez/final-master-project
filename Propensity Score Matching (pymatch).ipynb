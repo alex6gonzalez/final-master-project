{
 "cells": [
  {
   "cell_type": "code",
   "execution_count": 1,
   "metadata": {},
   "outputs": [],
   "source": [
    "import warnings\n",
    "warnings.filterwarnings('ignore')\n",
    "from pymatch.Matcher import Matcher\n",
    "import pandas as pd\n",
    "import numpy as np\n",
    "import matplotlib.pyplot as plt"
   ]
  },
  {
   "cell_type": "markdown",
   "metadata": {},
   "source": [
    "# Propensity Score Matching Analysis (pymatch)"
   ]
  },
  {
   "cell_type": "markdown",
   "metadata": {},
   "source": [
    "Participants with an aggregate score of 4 or 5 vascular risk factors (VRFs) were propensity scored matched on age and sex for those with a score of 0, using the pymatch package for python [1]."
   ]
  },
  {
   "cell_type": "code",
   "execution_count": 2,
   "metadata": {},
   "outputs": [
    {
     "data": {
      "text/plain": [
       "(2065, 1427)"
      ]
     },
     "execution_count": 2,
     "metadata": {},
     "output_type": "execute_result"
    }
   ],
   "source": [
    "data = pd.read_csv('casuality_data_final_factor_analyzer.csv')\n",
    "data.shape"
   ]
  },
  {
   "cell_type": "code",
   "execution_count": 3,
   "metadata": {},
   "outputs": [
    {
     "data": {
      "text/plain": [
       "((523, 1427), (606, 1427), (555, 1427), (273, 1427), (91, 1427), (17, 1427))"
      ]
     },
     "execution_count": 3,
     "metadata": {},
     "output_type": "execute_result"
    }
   ],
   "source": [
    "S0 = data.loc[data['agg_score'] == 0]\n",
    "S1 = data.loc[data['agg_score'] == 1]\n",
    "S2 = data.loc[data['agg_score'] == 2]\n",
    "S3 = data.loc[data['agg_score'] == 3]\n",
    "S4 = data.loc[data['agg_score'] == 4]\n",
    "S5 = data.loc[data['agg_score'] == 5]\n",
    "S0.shape, S1.shape, S2.shape, S3.shape, S4.shape, S5.shape"
   ]
  },
  {
   "cell_type": "code",
   "execution_count": 4,
   "metadata": {},
   "outputs": [
    {
     "data": {
      "text/plain": [
       "(108, 1427)"
      ]
     },
     "execution_count": 4,
     "metadata": {},
     "output_type": "execute_result"
    }
   ],
   "source": [
    "S_45 = pd.concat((S4, S5), axis=0)\n",
    "S_45.shape"
   ]
  },
  {
   "cell_type": "code",
   "execution_count": 5,
   "metadata": {},
   "outputs": [],
   "source": [
    "# Create test and control groups\n",
    "test_obs = S_45\n",
    "control_obs = S0"
   ]
  },
  {
   "cell_type": "code",
   "execution_count": 6,
   "metadata": {},
   "outputs": [],
   "source": [
    "# Covariates to test on\n",
    "columns=['cardio_cov_sex', 'cardio_cov_age']\n",
    "test_obs = test_obs[columns]\n",
    "control_obs = control_obs[columns]"
   ]
  },
  {
   "cell_type": "code",
   "execution_count": 7,
   "metadata": {},
   "outputs": [
    {
     "name": "stdout",
     "output_type": "stream",
     "text": [
      "(108, 2)\n",
      "(523, 2)\n"
     ]
    }
   ],
   "source": [
    "print(test_obs.shape)\n",
    "print(control_obs.shape)"
   ]
  },
  {
   "cell_type": "code",
   "execution_count": 8,
   "metadata": {},
   "outputs": [],
   "source": [
    "# This step is necessary for the statement in the library\n",
    "test_obs['agg_score'] = 1\n",
    "control_obs['agg_score'] = 0"
   ]
  },
  {
   "cell_type": "markdown",
   "metadata": {},
   "source": [
    "## 1. Distributions before matching"
   ]
  },
  {
   "cell_type": "code",
   "execution_count": 9,
   "metadata": {},
   "outputs": [
    {
     "data": {
      "image/png": "[encoded data removed]",
      "text/plain": [
       "<Figure size 720x360 with 2 Axes>"
      ]
     },
     "metadata": {
      "needs_background": "light"
     },
     "output_type": "display_data"
    }
   ],
   "source": [
    "plt.figure(figsize=(10,5))\n",
    "plt.subplot(1,2,1)\n",
    "plt.title('Test', loc ='center')\n",
    "n, bins, patches = plt.hist(test_obs[\"cardio_cov_sex\"], 3, density=True, facecolor='g', alpha=0.5)\n",
    "\n",
    "plt.subplot(1,2,2)\n",
    "plt.title('Control', loc ='center')\n",
    "n, bins, patches = plt.hist(control_obs[\"cardio_cov_sex\"], 3, density=True, facecolor='g', alpha=0.5)\n",
    "plt.show()"
   ]
  },
  {
   "cell_type": "code",
   "execution_count": 10,
   "metadata": {},
   "outputs": [
    {
     "data": {
      "image/png": "[encoded data removed]",
      "text/plain": [
       "<Figure size 720x360 with 2 Axes>"
      ]
     },
     "metadata": {
      "needs_background": "light"
     },
     "output_type": "display_data"
    }
   ],
   "source": [
    "plt.figure(figsize=(10,5))\n",
    "plt.subplot(1,2,1)\n",
    "plt.title('Test', loc ='center')\n",
    "n, bins, patches = plt.hist(test_obs[\"cardio_cov_age\"], 15, density=True, facecolor='g', alpha=0.5)\n",
    "\n",
    "plt.subplot(1,2,2)\n",
    "plt.title('Control', loc ='center')\n",
    "n, bins, patches = plt.hist(control_obs[\"cardio_cov_age\"], 15, density=True, facecolor='g', alpha=0.5)\n",
    "plt.show()"
   ]
  },
  {
   "cell_type": "code",
   "execution_count": 11,
   "metadata": {},
   "outputs": [],
   "source": [
    "mean_test_sex = test_obs[\"cardio_cov_sex\"].mean()\n",
    "mean_test_age = test_obs[\"cardio_cov_age\"].mean()\n",
    "mean_control_sex = control_obs[\"cardio_cov_sex\"].mean()\n",
    "mean_control_age = control_obs[\"cardio_cov_age\"].mean()"
   ]
  },
  {
   "cell_type": "code",
   "execution_count": 12,
   "metadata": {},
   "outputs": [
    {
     "name": "stdout",
     "output_type": "stream",
     "text": [
      "Test sex mean: 0.75\n",
      "Test age mean: 59.583333333333336\n",
      "Control sex mean: 0.26577437858508607\n",
      "Control age mean: 53.79158699808795\n"
     ]
    }
   ],
   "source": [
    "print(str(\"Test sex mean: \" + str(mean_test_sex)))\n",
    "print(str(\"Test age mean: \" + str(mean_test_age)))\n",
    "print(str(\"Control sex mean: \" + str(mean_control_sex)))\n",
    "print(str(\"Control age mean: \" + str(mean_control_age)))"
   ]
  },
  {
   "cell_type": "markdown",
   "metadata": {},
   "source": [
    "## 2. Matching"
   ]
  },
  {
   "cell_type": "markdown",
   "metadata": {},
   "source": [
    "Initalize the `Matcher` object. \n",
    "\n",
    "**Note that:**\n",
    "\n",
    "* Upon intialization, `Matcher` prints the formula used to fit logistic regression model(s) and the number of records in the majority/minority class. \n",
    "    * The regression model(s) are used to generate propensity scores. In this case, we are using the covariates on the right side of the equation to estimate the probability of having 4 or 5 VRFs or none. \n",
    "* `Matcher` will use all covariates in the dataset unless a formula is specified by the user. Note that this step is only fitting model(s), we assign propensity scores later. \n",
    "* Any covariates passed to the (optional) `exclude` parameter will be ignored from the model fitting process. This parameter is particularly useful for unique identifiers like a `user_id`. "
   ]
  },
  {
   "cell_type": "markdown",
   "metadata": {},
   "source": [
    "### `Matcher`"
   ]
  },
  {
   "cell_type": "code",
   "execution_count": 13,
   "metadata": {},
   "outputs": [
    {
     "name": "stdout",
     "output_type": "stream",
     "text": [
      "Formula:\n",
      "agg_score ~ cardio_cov_sex+cardio_cov_age\n",
      "n majority: 523\n",
      "n minority: 108\n"
     ]
    }
   ],
   "source": [
    "m = Matcher(test_obs, control_obs, yvar=\"agg_score\", exclude=[])"
   ]
  },
  {
   "cell_type": "markdown",
   "metadata": {},
   "source": [
    "There is a significant imbalance in our data--the majority group (0 VRFs) having many more records than the minority group (4 and 5 VRFs). We account for this by setting `balance=True` when calling `Matcher.fit_scores()` below. This tells `Matcher` to sample from the majority group when fitting the logistic regression model(s) so that the groups are of equal size. When undersampling this way, it is highly recommended that `nmodels` is explictly assigned to a integer much larger than 1. This ensure is that more of the majority group is contributing to the generation of propensity scores. The value of this integer should depend on the severity of the imbalance; here we use `nmodels`=100."
   ]
  },
  {
   "cell_type": "code",
   "execution_count": 14,
   "metadata": {},
   "outputs": [
    {
     "name": "stdout",
     "output_type": "stream",
     "text": [
      "Fitting Models on Balanced Samples: 100\\100\n",
      "Average Accuracy: 75.9%\n"
     ]
    }
   ],
   "source": [
    "# for reproducibility\n",
    "np.random.seed(20170925)\n",
    "\n",
    "m.fit_scores(balance=True, nmodels=100)"
   ]
  },
  {
   "cell_type": "markdown",
   "metadata": {},
   "source": [
    "The average accuracy of our 100 models is 75.9%, suggesting that there’s separability within our data and justifying the need for the matching procedure. It’s worth noting that we don’t pay much attention to these logistic models since we are using them as a feature extraction tool (generation of propensity scores). The accuracy is a good way to detect separability at a glance, but we shouldn’t spend time tuning and tinkering with these models. If our accuracy was close to 50%, that would suggest we cannot detect much separability in our groups given the features we observe and that matching is probably not necessary (or more features should be included if possible)."
   ]
  },
  {
   "cell_type": "code",
   "execution_count": 15,
   "metadata": {},
   "outputs": [],
   "source": [
    "m.predict_scores()"
   ]
  },
  {
   "cell_type": "code",
   "execution_count": 16,
   "metadata": {},
   "outputs": [
    {
     "data": {
      "image/png": "[encoded data removed]",
      "text/plain": [
       "<Figure size 720x360 with 1 Axes>"
      ]
     },
     "metadata": {
      "needs_background": "light"
     },
     "output_type": "display_data"
    }
   ],
   "source": [
    "m.plot_scores()"
   ]
  },
  {
   "cell_type": "markdown",
   "metadata": {},
   "source": [
    "The plot above demonstrates the separability present in our data. Test profiles have a much higher **propensity**, or estimated probability of defaulting given the features we isolated in the data."
   ]
  },
  {
   "cell_type": "markdown",
   "metadata": {},
   "source": [
    "### Tune Threshold"
   ]
  },
  {
   "cell_type": "markdown",
   "metadata": {},
   "source": [
    "The `Matcher.match()` method matches profiles that have propensity scores within some threshold. \n",
    "\n",
    "i.e. for two scores `s1` and `s2`, `|s1 - s2|` <= `threshold`\n",
    "\n",
    "By default matches are found *from* the majority group *for* the minority group. For example, if our test group contains 1,000 records and our control group contains 20,000, `Matcher` will\n",
    "    iterate through the test (minority) group and find suitable matches from the control (majority) group. If a record in the minority group has no suitable matches, it is dropped from the final matched dataset. We need to ensure our threshold is small enough such that we get close matches and retain most (or all) of our data in the minority group."
   ]
  },
  {
   "cell_type": "markdown",
   "metadata": {},
   "source": [
    "### Match Data"
   ]
  },
  {
   "cell_type": "markdown",
   "metadata": {},
   "source": [
    "Below we match one record from the majority group to each record in the minority group. This is done **with** replacement, meaning a single majority record can be matched to multiple minority records. `Matcher` assigns a unique `record_id` to each record in the test and control groups so this can be addressed after matching. If susequent modelling is planned, one might consider weighting models using a weight vector of 1/`f` for each record, `f` being a record's frequency in the matched dataset. Thankfully `Matcher` can handle all of this for you :)."
   ]
  },
  {
   "cell_type": "code",
   "execution_count": 17,
   "metadata": {},
   "outputs": [],
   "source": [
    "m.match(method=\"min\", nmatches=1, threshold=0.00001)"
   ]
  },
  {
   "cell_type": "code",
   "execution_count": 18,
   "metadata": {},
   "outputs": [],
   "source": [
    "m.assign_weight_vector()"
   ]
  },
  {
   "cell_type": "markdown",
   "metadata": {},
   "source": [
    "Let's take a look at our matched data thus far. Note that in addition to the weight vector, `Matcher` has also assigned a `match_id` to each record indicating our (in this cased) *paired* matches since we use `nmatches=1`. We can verify that matched records have `scores` within 0.00001 of each other. "
   ]
  },
  {
   "cell_type": "code",
   "execution_count": 19,
   "metadata": {},
   "outputs": [
    {
     "data": {
      "text/plain": [
       "(216, 7)"
      ]
     },
     "execution_count": 19,
     "metadata": {},
     "output_type": "execute_result"
    }
   ],
   "source": [
    "match_data = m.matched_data\n",
    "match_data.shape"
   ]
  },
  {
   "cell_type": "code",
   "execution_count": 20,
   "metadata": {},
   "outputs": [
    {
     "data": {
      "text/html": [
       "<div>\n",
       "<style scoped>\n",
       "    .dataframe tbody tr th:only-of-type {\n",
       "        vertical-align: middle;\n",
       "    }\n",
       "\n",
       "    .dataframe tbody tr th {\n",
       "        vertical-align: top;\n",
       "    }\n",
       "\n",
       "    .dataframe thead th {\n",
       "        text-align: right;\n",
       "    }\n",
       "</style>\n",
       "<table border=\"1\" class=\"dataframe\">\n",
       "  <thead>\n",
       "    <tr style=\"text-align: right;\">\n",
       "      <th></th>\n",
       "      <th>record_id</th>\n",
       "      <th>weight</th>\n",
       "      <th>cardio_cov_sex</th>\n",
       "      <th>cardio_cov_age</th>\n",
       "      <th>agg_score</th>\n",
       "      <th>scores</th>\n",
       "      <th>match_id</th>\n",
       "    </tr>\n",
       "  </thead>\n",
       "  <tbody>\n",
       "    <tr>\n",
       "      <th>0</th>\n",
       "      <td>0</td>\n",
       "      <td>1.000000</td>\n",
       "      <td>0</td>\n",
       "      <td>64</td>\n",
       "      <td>1</td>\n",
       "      <td>0.455016</td>\n",
       "      <td>0</td>\n",
       "    </tr>\n",
       "    <tr>\n",
       "      <th>211</th>\n",
       "      <td>595</td>\n",
       "      <td>0.500000</td>\n",
       "      <td>0</td>\n",
       "      <td>64</td>\n",
       "      <td>0</td>\n",
       "      <td>0.455016</td>\n",
       "      <td>0</td>\n",
       "    </tr>\n",
       "    <tr>\n",
       "      <th>193</th>\n",
       "      <td>574</td>\n",
       "      <td>0.142857</td>\n",
       "      <td>1</td>\n",
       "      <td>62</td>\n",
       "      <td>0</td>\n",
       "      <td>0.820240</td>\n",
       "      <td>1</td>\n",
       "    </tr>\n",
       "    <tr>\n",
       "      <th>1</th>\n",
       "      <td>1</td>\n",
       "      <td>1.000000</td>\n",
       "      <td>1</td>\n",
       "      <td>62</td>\n",
       "      <td>1</td>\n",
       "      <td>0.820240</td>\n",
       "      <td>1</td>\n",
       "    </tr>\n",
       "    <tr>\n",
       "      <th>2</th>\n",
       "      <td>2</td>\n",
       "      <td>1.000000</td>\n",
       "      <td>0</td>\n",
       "      <td>59</td>\n",
       "      <td>1</td>\n",
       "      <td>0.321896</td>\n",
       "      <td>2</td>\n",
       "    </tr>\n",
       "  </tbody>\n",
       "</table>\n",
       "</div>"
      ],
      "text/plain": [
       "     record_id    weight  cardio_cov_sex  cardio_cov_age  agg_score    scores  \\\n",
       "0            0  1.000000               0              64          1  0.455016   \n",
       "211        595  0.500000               0              64          0  0.455016   \n",
       "193        574  0.142857               1              62          0  0.820240   \n",
       "1            1  1.000000               1              62          1  0.820240   \n",
       "2            2  1.000000               0              59          1  0.321896   \n",
       "\n",
       "     match_id  \n",
       "0           0  \n",
       "211         0  \n",
       "193         1  \n",
       "1           1  \n",
       "2           2  "
      ]
     },
     "execution_count": 20,
     "metadata": {},
     "output_type": "execute_result"
    }
   ],
   "source": [
    "m.matched_data.sort_values(\"match_id\").head(5)"
   ]
  },
  {
   "cell_type": "markdown",
   "metadata": {},
   "source": [
    "### Assess Matches"
   ]
  },
  {
   "cell_type": "markdown",
   "metadata": {},
   "source": [
    "We must now determine if our data is \"balanced\". Can we detect any statistical differences between the covariates of our matched test and control groups? `Matcher` is configured to treat categorical and continouous variables separately in this assessment."
   ]
  },
  {
   "cell_type": "markdown",
   "metadata": {},
   "source": [
    "___Continuous___\n",
    "\n",
    "For continous variables we look at Empirical Cumulative Distribution Functions (ECDF) for our test and control groups  before and after matching.\n",
    "\n",
    "For example, the first plot pair shows:\n",
    "* ECDF for test vs ECDF for control before matching (left), ECDF for test vs ECDF for control after matching(right). We want the two lines to be very close to each other (or indistiguishable) after matching.\n",
    "* Some tests + metrics are included in the chart titles.\n",
    "    * Tests performed:\n",
    "        * Kolmogorov-Smirnov Goodness of fit Test (KS-test)\n",
    "            This test statistic is calculated on 1000\n",
    "            permuted samples of the data, generating\n",
    "            an imperical p-value.\n",
    "        * Chi-Square Distance:\n",
    "            Similarly this distance metric is calculated on \n",
    "            1000 permuted samples. \n",
    "\n",
    "    * Other included Stats:\n",
    "        * Standarized mean and median differences.\n",
    "             How many standard deviations away are the mean/median\n",
    "            between our groups before and after matching\n",
    "            i.e. `abs(mean(control) - mean(test))` / `std(control.union(test))`"
   ]
  },
  {
   "cell_type": "code",
   "execution_count": 21,
   "metadata": {},
   "outputs": [
    {
     "data": {
      "image/png": "[encoded data removed]",
      "text/plain": [
       "<Figure size 864x360 with 2 Axes>"
      ]
     },
     "metadata": {
      "needs_background": "light"
     },
     "output_type": "display_data"
    },
    {
     "data": {
      "image/png": "[encoded data removed]",
      "text/plain": [
       "<Figure size 864x360 with 2 Axes>"
      ]
     },
     "metadata": {
      "needs_background": "light"
     },
     "output_type": "display_data"
    }
   ],
   "source": [
    "cc = m.compare_continuous(return_table=True)"
   ]
  },
  {
   "cell_type": "code",
   "execution_count": 22,
   "metadata": {},
   "outputs": [
    {
     "data": {
      "text/html": [
       "<div>\n",
       "<style scoped>\n",
       "    .dataframe tbody tr th:only-of-type {\n",
       "        vertical-align: middle;\n",
       "    }\n",
       "\n",
       "    .dataframe tbody tr th {\n",
       "        vertical-align: top;\n",
       "    }\n",
       "\n",
       "    .dataframe thead th {\n",
       "        text-align: right;\n",
       "    }\n",
       "</style>\n",
       "<table border=\"1\" class=\"dataframe\">\n",
       "  <thead>\n",
       "    <tr style=\"text-align: right;\">\n",
       "      <th></th>\n",
       "      <th>var</th>\n",
       "      <th>ks_before</th>\n",
       "      <th>ks_after</th>\n",
       "      <th>grouped_chisqr_before</th>\n",
       "      <th>grouped_chisqr_after</th>\n",
       "      <th>std_median_diff_before</th>\n",
       "      <th>std_median_diff_after</th>\n",
       "      <th>std_mean_diff_before</th>\n",
       "      <th>std_mean_diff_after</th>\n",
       "    </tr>\n",
       "  </thead>\n",
       "  <tbody>\n",
       "    <tr>\n",
       "      <th>0</th>\n",
       "      <td>cardio_cov_sex</td>\n",
       "      <td>0.0</td>\n",
       "      <td>1.0</td>\n",
       "      <td>1.0</td>\n",
       "      <td>1.0</td>\n",
       "      <td>2.098443</td>\n",
       "      <td>0.0</td>\n",
       "      <td>1.016120</td>\n",
       "      <td>0.0</td>\n",
       "    </tr>\n",
       "    <tr>\n",
       "      <th>1</th>\n",
       "      <td>cardio_cov_age</td>\n",
       "      <td>0.0</td>\n",
       "      <td>1.0</td>\n",
       "      <td>0.0</td>\n",
       "      <td>1.0</td>\n",
       "      <td>0.812745</td>\n",
       "      <td>0.0</td>\n",
       "      <td>0.784536</td>\n",
       "      <td>0.0</td>\n",
       "    </tr>\n",
       "  </tbody>\n",
       "</table>\n",
       "</div>"
      ],
      "text/plain": [
       "              var  ks_before  ks_after  grouped_chisqr_before  \\\n",
       "0  cardio_cov_sex        0.0       1.0                    1.0   \n",
       "1  cardio_cov_age        0.0       1.0                    0.0   \n",
       "\n",
       "   grouped_chisqr_after  std_median_diff_before  std_median_diff_after  \\\n",
       "0                   1.0                2.098443                    0.0   \n",
       "1                   1.0                0.812745                    0.0   \n",
       "\n",
       "   std_mean_diff_before  std_mean_diff_after  \n",
       "0              1.016120                  0.0  \n",
       "1              0.784536                  0.0  "
      ]
     },
     "execution_count": 22,
     "metadata": {},
     "output_type": "execute_result"
    }
   ],
   "source": [
    "cc"
   ]
  },
  {
   "cell_type": "markdown",
   "metadata": {},
   "source": [
    "We want the pvalues from both the KS-test and the grouped permutation of the Chi-Square distance after matching to be > 0.05, and they all are! We can verify by looking at how close the ECDFs are between test and control."
   ]
  },
  {
   "cell_type": "markdown",
   "metadata": {},
   "source": [
    "## 3. Distributions after matching"
   ]
  },
  {
   "cell_type": "code",
   "execution_count": 23,
   "metadata": {},
   "outputs": [
    {
     "data": {
      "text/plain": [
       "((108, 7), (108, 7))"
      ]
     },
     "execution_count": 23,
     "metadata": {},
     "output_type": "execute_result"
    }
   ],
   "source": [
    "test_match = match_data.loc[match_data['agg_score'] == 1]\n",
    "control_match = match_data.loc[match_data['agg_score'] == 0]\n",
    "test_match.shape, control_match.shape"
   ]
  },
  {
   "cell_type": "code",
   "execution_count": 24,
   "metadata": {},
   "outputs": [
    {
     "data": {
      "image/png": "[encoded data removed]",
      "text/plain": [
       "<Figure size 720x360 with 2 Axes>"
      ]
     },
     "metadata": {
      "needs_background": "light"
     },
     "output_type": "display_data"
    }
   ],
   "source": [
    "plt.figure(figsize=(10,5))\n",
    "plt.subplot(1,2,1)\n",
    "plt.title('Test', loc ='center')\n",
    "n, bins, patches = plt.hist(test_match[\"cardio_cov_sex\"], 3, density=True, facecolor='g', alpha=0.5)\n",
    "\n",
    "plt.subplot(1,2,2)\n",
    "plt.title('Control', loc ='center')\n",
    "n, bins, patches = plt.hist(control_match[\"cardio_cov_sex\"], 3, density=True, facecolor='g', alpha=0.5)\n",
    "plt.show()"
   ]
  },
  {
   "cell_type": "code",
   "execution_count": 25,
   "metadata": {},
   "outputs": [
    {
     "data": {
      "image/png": "[encoded data removed]",
      "text/plain": [
       "<Figure size 720x360 with 2 Axes>"
      ]
     },
     "metadata": {
      "needs_background": "light"
     },
     "output_type": "display_data"
    }
   ],
   "source": [
    "plt.figure(figsize=(10,5))\n",
    "plt.subplot(1,2,1)\n",
    "plt.title('Test', loc ='center')\n",
    "n, bins, patches = plt.hist(test_match[\"cardio_cov_age\"], 15, density=True, facecolor='g', alpha=0.5)\n",
    "\n",
    "plt.subplot(1,2,2)\n",
    "plt.title('Control', loc ='center')\n",
    "n, bins, patches = plt.hist(control_match[\"cardio_cov_age\"], 15, density=True, facecolor='g', alpha=0.5)\n",
    "plt.show()"
   ]
  },
  {
   "cell_type": "code",
   "execution_count": 26,
   "metadata": {},
   "outputs": [],
   "source": [
    "mean_test_sex = test_match[\"cardio_cov_sex\"].mean()\n",
    "mean_test_age = test_match[\"cardio_cov_age\"].mean()\n",
    "mean_control_sex = control_match[\"cardio_cov_sex\"].mean()\n",
    "mean_control_age = control_match[\"cardio_cov_age\"].mean()"
   ]
  },
  {
   "cell_type": "code",
   "execution_count": 27,
   "metadata": {},
   "outputs": [
    {
     "name": "stdout",
     "output_type": "stream",
     "text": [
      "Test sex mean: 0.75\n",
      "Test age mean: 59.583333333333336\n",
      "Control sex mean: 0.75\n",
      "Control age mean: 59.583333333333336\n"
     ]
    }
   ],
   "source": [
    "print(str(\"Test sex mean: \" + str(mean_test_sex)))\n",
    "print(str(\"Test age mean: \" + str(mean_test_age)))\n",
    "print(str(\"Control sex mean: \" + str(mean_control_sex)))\n",
    "print(str(\"Control age mean: \" + str(mean_control_age)))"
   ]
  },
  {
   "cell_type": "markdown",
   "metadata": {},
   "source": [
    "As we can see, we also plotted the mean distributions for age and sex before and after matching, and computed the means for these covariates for both our control and test groups. These results shows us how the matching procedure worked since these distributions are more balanced after applying propensity score matching. In addition, it is also noticeable that before matching, there are more males than females in the test group (patients with four and five VRFs). Furthermore, the age mean for the test group (59.58) before matching is much higher than the control’s group (53.79)."
   ]
  },
  {
   "cell_type": "markdown",
   "metadata": {},
   "source": [
    "## 4. References"
   ]
  },
  {
   "cell_type": "markdown",
   "metadata": {},
   "source": [
    "[1]: [Miroglio, Ben (2017)](https://github.com/benmiroglio/pymatch). pymatch\n",
    "\n",
    "[2]: [Miroglio, Ben (2017)](https://medium.com/@bmiroglio/introducing-the-pymatch-package-6a8c020e2009). Introducing the pymatch Python Package"
   ]
  }
 ],
 "metadata": {
  "kernelspec": {
   "display_name": "Python 3",
   "language": "python",
   "name": "python3"
  },
  "language_info": {
   "codemirror_mode": {
    "name": "ipython",
    "version": 3
   },
   "file_extension": ".py",
   "mimetype": "text/x-python",
   "name": "python",
   "nbconvert_exporter": "python",
   "pygments_lexer": "ipython3",
   "version": "3.7.3"
  }
 },
 "nbformat": 4,
 "nbformat_minor": 2
}
