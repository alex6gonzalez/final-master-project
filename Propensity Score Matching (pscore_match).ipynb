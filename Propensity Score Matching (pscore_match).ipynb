{
 "cells": [
  {
   "cell_type": "code",
   "execution_count": 1,
   "metadata": {},
   "outputs": [],
   "source": [
    "from pscore_match.pscore import PropensityScore\n",
    "from pscore_match.match import Match, whichMatched\n",
    "from pscore_match.match import rank_test\n",
    "from pscore_match.match import t_test\n",
    "from scipy.stats import gaussian_kde\n",
    "import matplotlib.pyplot as plt\n",
    "import numpy as np\n",
    "import pandas as pd"
   ]
  },
  {
   "cell_type": "markdown",
   "metadata": {},
   "source": [
    "# Propensity Score Matching Analysis (pscore_match)"
   ]
  },
  {
   "cell_type": "markdown",
   "metadata": {},
   "source": [
    "Participants with an aggregate score of 4 or 5 vascular risk factors (VRFs) were propensity scored matched on age and sex for those with a score of 0, using the pscore_match package for python [1]."
   ]
  },
  {
   "cell_type": "code",
   "execution_count": 2,
   "metadata": {},
   "outputs": [
    {
     "data": {
      "text/plain": [
       "(2065, 1427)"
      ]
     },
     "execution_count": 2,
     "metadata": {},
     "output_type": "execute_result"
    }
   ],
   "source": [
    "data = pd.read_csv('casuality_data_final_factor_analyzer.csv')\n",
    "data.shape"
   ]
  },
  {
   "cell_type": "code",
   "execution_count": 3,
   "metadata": {},
   "outputs": [
    {
     "data": {
      "text/plain": [
       "((523, 1427), (606, 1427), (555, 1427), (273, 1427), (91, 1427), (17, 1427))"
      ]
     },
     "execution_count": 3,
     "metadata": {},
     "output_type": "execute_result"
    }
   ],
   "source": [
    "S0 = data.loc[data['agg_score'] == 0]\n",
    "S1 = data.loc[data['agg_score'] == 1]\n",
    "S2 = data.loc[data['agg_score'] == 2]\n",
    "S3 = data.loc[data['agg_score'] == 3]\n",
    "S4 = data.loc[data['agg_score'] == 4]\n",
    "S5 = data.loc[data['agg_score'] == 5]\n",
    "S0.shape, S1.shape, S2.shape, S3.shape, S4.shape, S5.shape"
   ]
  },
  {
   "cell_type": "code",
   "execution_count": 4,
   "metadata": {},
   "outputs": [
    {
     "data": {
      "text/plain": [
       "(108, 1427)"
      ]
     },
     "execution_count": 4,
     "metadata": {},
     "output_type": "execute_result"
    }
   ],
   "source": [
    "S_45 = pd.concat((S4, S5), axis=0)\n",
    "S_45[\"agg_score\"] = S_45[\"agg_score\"].map({4:1, 5:1})\n",
    "S_45.shape"
   ]
  },
  {
   "cell_type": "code",
   "execution_count": 5,
   "metadata": {},
   "outputs": [
    {
     "data": {
      "text/plain": [
       "(631, 1427)"
      ]
     },
     "execution_count": 5,
     "metadata": {},
     "output_type": "execute_result"
    }
   ],
   "source": [
    "data_new = pd.concat((S0, S_45), axis=0, ignore_index = True)\n",
    "data_new.shape"
   ]
  },
  {
   "cell_type": "code",
   "execution_count": 6,
   "metadata": {},
   "outputs": [
    {
     "data": {
      "text/plain": [
       "((108, 1427), (523, 1427))"
      ]
     },
     "execution_count": 6,
     "metadata": {},
     "output_type": "execute_result"
    }
   ],
   "source": [
    "test_obs = data_new.loc[data_new['agg_score'] == 1]\n",
    "control_obs = data_new.loc[data_new['agg_score'] == 0]\n",
    "test_obs.shape, control_obs.shape"
   ]
  },
  {
   "cell_type": "markdown",
   "metadata": {},
   "source": [
    "## 1. Distributions before matching"
   ]
  },
  {
   "cell_type": "code",
   "execution_count": 7,
   "metadata": {},
   "outputs": [
    {
     "data": {
      "image/png": "[encoded data removed]",
      "text/plain": [
       "<Figure size 720x360 with 2 Axes>"
      ]
     },
     "metadata": {
      "needs_background": "light"
     },
     "output_type": "display_data"
    }
   ],
   "source": [
    "plt.figure(figsize=(10,5))\n",
    "plt.subplot(1,2,1)\n",
    "plt.title('Test', loc ='center')\n",
    "n, bins, patches = plt.hist(test_obs[\"cardio_cov_sex\"], 3, density=True, facecolor='g', alpha=0.5)\n",
    "\n",
    "plt.subplot(1,2,2)\n",
    "plt.title('Control', loc ='center')\n",
    "n, bins, patches = plt.hist(control_obs[\"cardio_cov_sex\"], 3, density=True, facecolor='g', alpha=0.5)\n",
    "plt.show()"
   ]
  },
  {
   "cell_type": "code",
   "execution_count": 8,
   "metadata": {},
   "outputs": [
    {
     "data": {
      "image/png": "[encoded data removed]",
      "text/plain": [
       "<Figure size 720x360 with 2 Axes>"
      ]
     },
     "metadata": {
      "needs_background": "light"
     },
     "output_type": "display_data"
    }
   ],
   "source": [
    "plt.figure(figsize=(10,5))\n",
    "plt.subplot(1,2,1)\n",
    "plt.title('Test', loc ='center')\n",
    "n, bins, patches = plt.hist(test_obs[\"cardio_cov_age\"], 15, density=True, facecolor='g', alpha=0.5)\n",
    "\n",
    "plt.subplot(1,2,2)\n",
    "plt.title('Control', loc ='center')\n",
    "n, bins, patches = plt.hist(control_obs[\"cardio_cov_age\"], 15, density=True, facecolor='g', alpha=0.5)\n",
    "plt.show()"
   ]
  },
  {
   "cell_type": "code",
   "execution_count": 9,
   "metadata": {},
   "outputs": [],
   "source": [
    "mean_test_sex = test_obs[\"cardio_cov_sex\"].mean()\n",
    "mean_test_age = test_obs[\"cardio_cov_age\"].mean()\n",
    "mean_control_sex = control_obs[\"cardio_cov_sex\"].mean()\n",
    "mean_control_age = control_obs[\"cardio_cov_age\"].mean()"
   ]
  },
  {
   "cell_type": "code",
   "execution_count": 10,
   "metadata": {},
   "outputs": [
    {
     "name": "stdout",
     "output_type": "stream",
     "text": [
      "Test sex mean: 0.75\n",
      "Test age mean: 59.583333333333336\n",
      "Control sex mean: 0.26577437858508607\n",
      "Control age mean: 53.79158699808795\n"
     ]
    }
   ],
   "source": [
    "print(str(\"Test sex mean: \" + str(mean_test_sex)))\n",
    "print(str(\"Test age mean: \" + str(mean_test_age)))\n",
    "print(str(\"Control sex mean: \" + str(mean_control_sex)))\n",
    "print(str(\"Control age mean: \" + str(mean_control_age)))"
   ]
  },
  {
   "cell_type": "markdown",
   "metadata": {},
   "source": [
    "## 2. Matching"
   ]
  },
  {
   "cell_type": "code",
   "execution_count": 11,
   "metadata": {},
   "outputs": [],
   "source": [
    "# Covariates to test on\n",
    "cov_list = ['cardio_cov_sex', 'cardio_cov_age']\n",
    "covariates = data_new[cov_list]\n",
    "treatment = data_new['agg_score']"
   ]
  },
  {
   "cell_type": "markdown",
   "metadata": {},
   "source": [
    "Pscore module contains a class to estimate propensity scores for each observation. The compute method uses a generalized linear model to regress treatment on covariates to estimate the propensity score. This is not the only way to estimate the propensity score, but it is the most common. The two options allowed are logistic regression and probit regression."
   ]
  },
  {
   "cell_type": "code",
   "execution_count": 12,
   "metadata": {},
   "outputs": [],
   "source": [
    "pscore = PropensityScore(treatment, covariates).compute()"
   ]
  },
  {
   "cell_type": "markdown",
   "metadata": {},
   "source": [
    "Match module implements several variants of matching: one-to-one matching, one-to-many matching, with or without a caliper, and without or without replacement."
   ]
  },
  {
   "cell_type": "code",
   "execution_count": 13,
   "metadata": {},
   "outputs": [
    {
     "name": "stderr",
     "output_type": "stream",
     "text": [
      "C:\\Users\\Alejandro\\Downloads\\ANACONDA\\lib\\site-packages\\pscore_match\\match.py:135: FutureWarning: 'argmin' is deprecated, use 'idxmin' instead. The behavior of 'argmin'\n",
      "will be corrected to return the positional minimum in the future.\n",
      "Use 'series.values.argmin' to get the position of the minimum now.\n",
      "  matches[m] = dist.argmin()    # Potential problem: check for ties\n"
     ]
    }
   ],
   "source": [
    "pairs = Match(treatment, pscore)\n",
    "pairs.create(method='one-to-one', replace=True)"
   ]
  },
  {
   "cell_type": "code",
   "execution_count": 14,
   "metadata": {},
   "outputs": [],
   "source": [
    "# Simple function to convert output of Matches to DataFrame of all matched observations\n",
    "data_matched = whichMatched(pairs, pd.DataFrame({'pscore': pscore, 'treatment' :treatment, \n",
    "                                                 'sex':covariates['cardio_cov_sex'],\n",
    "                                                 'age':covariates['cardio_cov_age']}))"
   ]
  },
  {
   "cell_type": "code",
   "execution_count": 15,
   "metadata": {},
   "outputs": [
    {
     "data": {
      "text/html": [
       "<div>\n",
       "<style scoped>\n",
       "    .dataframe tbody tr th:only-of-type {\n",
       "        vertical-align: middle;\n",
       "    }\n",
       "\n",
       "    .dataframe tbody tr th {\n",
       "        vertical-align: top;\n",
       "    }\n",
       "\n",
       "    .dataframe thead th {\n",
       "        text-align: right;\n",
       "    }\n",
       "</style>\n",
       "<table border=\"1\" class=\"dataframe\">\n",
       "  <thead>\n",
       "    <tr style=\"text-align: right;\">\n",
       "      <th></th>\n",
       "      <th>pscore</th>\n",
       "      <th>treatment</th>\n",
       "      <th>sex</th>\n",
       "      <th>age</th>\n",
       "    </tr>\n",
       "  </thead>\n",
       "  <tbody>\n",
       "    <tr>\n",
       "      <th>2</th>\n",
       "      <td>0.515691</td>\n",
       "      <td>0</td>\n",
       "      <td>1</td>\n",
       "      <td>63</td>\n",
       "    </tr>\n",
       "    <tr>\n",
       "      <th>2</th>\n",
       "      <td>0.515691</td>\n",
       "      <td>0</td>\n",
       "      <td>1</td>\n",
       "      <td>63</td>\n",
       "    </tr>\n",
       "    <tr>\n",
       "      <th>2</th>\n",
       "      <td>0.515691</td>\n",
       "      <td>0</td>\n",
       "      <td>1</td>\n",
       "      <td>63</td>\n",
       "    </tr>\n",
       "    <tr>\n",
       "      <th>3</th>\n",
       "      <td>0.257954</td>\n",
       "      <td>0</td>\n",
       "      <td>1</td>\n",
       "      <td>53</td>\n",
       "    </tr>\n",
       "    <tr>\n",
       "      <th>3</th>\n",
       "      <td>0.257954</td>\n",
       "      <td>0</td>\n",
       "      <td>1</td>\n",
       "      <td>53</td>\n",
       "    </tr>\n",
       "  </tbody>\n",
       "</table>\n",
       "</div>"
      ],
      "text/plain": [
       "     pscore  treatment  sex  age\n",
       "2  0.515691          0    1   63\n",
       "2  0.515691          0    1   63\n",
       "2  0.515691          0    1   63\n",
       "3  0.257954          0    1   53\n",
       "3  0.257954          0    1   53"
      ]
     },
     "execution_count": 15,
     "metadata": {},
     "output_type": "execute_result"
    }
   ],
   "source": [
    "data_matched.head()"
   ]
  },
  {
   "cell_type": "markdown",
   "metadata": {},
   "source": [
    "Let’s see how the covariate imbalance improves after matching. If there is good covariate balance, the treatment and control group distributions of propensity scores should overlap. The gray smoothed density represents the treatment group and the black line represents controls. Before matching, there are a large number of controls with smaller probability of getting called; after matching, we have a group of controls whose propensity scores match those in the treatment group."
   ]
  },
  {
   "cell_type": "code",
   "execution_count": 16,
   "metadata": {},
   "outputs": [
    {
     "data": {
      "image/png": "[encoded data removed]",
      "text/plain": [
       "<Figure size 720x360 with 2 Axes>"
      ]
     },
     "metadata": {
      "needs_background": "light"
     },
     "output_type": "display_data"
    }
   ],
   "source": [
    "plt.figure(figsize=(10,5))\n",
    "plt.subplot(1, 2, 1)\n",
    "density0 = gaussian_kde(pscore[treatment==0])\n",
    "density1 = gaussian_kde(pscore[treatment==1])\n",
    "xs = np.linspace(0,0.14,200)\n",
    "plt.plot(xs,density0(xs),color='black')\n",
    "plt.fill_between(xs,density1(xs),color='gray')\n",
    "plt.text(0.03, 2, 'Control Group')\n",
    "plt.text(0.06, 0.7, 'Treatment Group')\n",
    "plt.title('Before Matching')\n",
    "plt.axis([0, 0.15, 0, 2.7])\n",
    "plt.xlabel('Propensity Score')\n",
    "plt.ylabel('Density')\n",
    "\n",
    "plt.subplot(1, 2, 2)\n",
    "density0_post = gaussian_kde(data_matched.pscore[data_matched.treatment==0])\n",
    "density1_post = gaussian_kde(data_matched.pscore[data_matched.treatment==1])\n",
    "xs = np.linspace(0,0.2,200)\n",
    "plt.plot(xs,density0_post(xs),color='black')\n",
    "plt.fill_between(xs,density1_post(xs),color='gray')\n",
    "plt.title('After Matching')\n",
    "plt.axis([0, 0.2, 0, 2.7])\n",
    "plt.xlabel('Propensity Score')\n",
    "plt.ylabel('Density')\n",
    "plt.show()"
   ]
  },
  {
   "cell_type": "markdown",
   "metadata": {},
   "source": [
    "### Covariace Balance test"
   ]
  },
  {
   "cell_type": "markdown",
   "metadata": {},
   "source": [
    "By definition, propensity score matching helps improve the overlap of the treatment and control group propensity score distributions. But does our estimated propensity score help improve the overlap of covariate distributions?\n",
    "\n",
    "We can check this visually, the same way as we did with the propensity score distributions before and after matching, or we can look at many covariates at once by running statistical tests. For each covariate we want to balance, we can run a two-sample test to compare the distributions for the treatment and control groups. We do this before matching and again after matching, instead comparing the treatment group with the matched controls. We hope to see that the matched controls are similar to the treated group on all these covariates.\n",
    "\n",
    "Important note: I don’t “believe” the p-values coming out of these tests, in the sense that the necessary assumptions are definitely violated. However, they can serve as a crude measure of how similar the treatment and control group distributions are. A “small” p-value suggests that they’re very different.\n",
    "\n",
    "Ideally, we’d want to iterate this process of estimating propensity scores and testing covariate balance until we deem them to be sufficiently balanced.\n",
    "\n",
    "We ran both a t-test and a Wilcoxon rank sum test for each covariate in the propensity score model."
   ]
  },
  {
   "cell_type": "code",
   "execution_count": 17,
   "metadata": {},
   "outputs": [
    {
     "name": "stderr",
     "output_type": "stream",
     "text": [
      "C:\\Users\\Alejandro\\Downloads\\ANACONDA\\lib\\site-packages\\plotly\\offline\\offline.py:563: UserWarning:\n",
      "\n",
      "Your filename `ggi-balance` didn't end with .html. Adding .html to the end of your file.\n",
      "\n"
     ]
    }
   ],
   "source": [
    "# Plot the p-values for covariate balance before and after matching\n",
    "import plotly\n",
    "pairs.plot_balance(covariates, filename='ggi-balance', auto_open=False)"
   ]
  },
  {
   "cell_type": "markdown",
   "metadata": {},
   "source": [
    "<center><img src=\"Figures/pscore matching.png\"></center>"
   ]
  },
  {
   "cell_type": "markdown",
   "metadata": {},
   "source": [
    "As we can see, covariate imbalance improved for everything, therefore the matching worked."
   ]
  },
  {
   "cell_type": "markdown",
   "metadata": {},
   "source": [
    "Wilcoxon rank sum test for the distribution of treatment and control covariates.\n",
    "\n",
    "Returns a list of p-values, one for each column in covariates"
   ]
  },
  {
   "cell_type": "code",
   "execution_count": 18,
   "metadata": {},
   "outputs": [
    {
     "data": {
      "text/plain": [
       "array([2.21107348e-15, 1.47171170e-13])"
      ]
     },
     "execution_count": 18,
     "metadata": {},
     "output_type": "execute_result"
    }
   ],
   "source": [
    "rank_test(covariates, treatment)"
   ]
  },
  {
   "cell_type": "markdown",
   "metadata": {},
   "source": [
    "Two sample t test for the distribution of treatment and control covariates. \n",
    "\n",
    "Returns a list of p-values, one for each column in covariates"
   ]
  },
  {
   "cell_type": "code",
   "execution_count": 19,
   "metadata": {},
   "outputs": [
    {
     "data": {
      "text/plain": [
       "array([1.92101462e-23, 3.51396998e-14])"
      ]
     },
     "execution_count": 19,
     "metadata": {},
     "output_type": "execute_result"
    }
   ],
   "source": [
    "t_test(covariates, treatment)"
   ]
  },
  {
   "cell_type": "markdown",
   "metadata": {},
   "source": [
    "## 3. Distributions after matching"
   ]
  },
  {
   "cell_type": "code",
   "execution_count": 20,
   "metadata": {},
   "outputs": [
    {
     "data": {
      "text/plain": [
       "((108, 4), (108, 4))"
      ]
     },
     "execution_count": 20,
     "metadata": {},
     "output_type": "execute_result"
    }
   ],
   "source": [
    "test_match = data_matched.loc[data_matched['treatment'] == 1]\n",
    "control_match = data_matched.loc[data_matched['treatment'] == 0]\n",
    "test_match.shape, control_match.shape"
   ]
  },
  {
   "cell_type": "code",
   "execution_count": 21,
   "metadata": {},
   "outputs": [
    {
     "data": {
      "text/plain": [
       "(108, 39)"
      ]
     },
     "execution_count": 21,
     "metadata": {},
     "output_type": "execute_result"
    }
   ],
   "source": [
    "test_match.index.nunique(), control_match.index.nunique()"
   ]
  },
  {
   "cell_type": "code",
   "execution_count": 22,
   "metadata": {},
   "outputs": [
    {
     "data": {
      "image/png": "[encoded data removed]",
      "text/plain": [
       "<Figure size 720x360 with 2 Axes>"
      ]
     },
     "metadata": {
      "needs_background": "light"
     },
     "output_type": "display_data"
    }
   ],
   "source": [
    "plt.figure(figsize=(10,5))\n",
    "plt.subplot(1,2,1)\n",
    "plt.title('Test', loc ='center')\n",
    "n, bins, patches = plt.hist(test_match[\"sex\"], 3, density=True, facecolor='g', alpha=0.5)\n",
    "\n",
    "plt.subplot(1,2,2)\n",
    "plt.title('Control', loc ='center')\n",
    "n, bins, patches = plt.hist(control_match[\"sex\"], 3, density=True, facecolor='g', alpha=0.5)\n",
    "plt.show()"
   ]
  },
  {
   "cell_type": "code",
   "execution_count": 23,
   "metadata": {},
   "outputs": [
    {
     "data": {
      "image/png": "[encoded data removed]",
      "text/plain": [
       "<Figure size 720x360 with 2 Axes>"
      ]
     },
     "metadata": {
      "needs_background": "light"
     },
     "output_type": "display_data"
    }
   ],
   "source": [
    "plt.figure(figsize=(10,5))\n",
    "plt.subplot(1,2,1)\n",
    "plt.title('Test', loc ='center')\n",
    "n, bins, patches = plt.hist(test_match[\"age\"], 15, density=True, facecolor='g', alpha=0.5)\n",
    "\n",
    "plt.subplot(1,2,2)\n",
    "plt.title('Control', loc ='center')\n",
    "n, bins, patches = plt.hist(control_match[\"age\"], 15, density=True, facecolor='g', alpha=0.5)\n",
    "plt.show()"
   ]
  },
  {
   "cell_type": "code",
   "execution_count": 24,
   "metadata": {},
   "outputs": [],
   "source": [
    "mean_test_sex = test_match[\"sex\"].mean()\n",
    "mean_test_age = test_match[\"age\"].mean()\n",
    "mean_control_sex = control_match[\"sex\"].mean()\n",
    "mean_control_age = control_match[\"age\"].mean()"
   ]
  },
  {
   "cell_type": "code",
   "execution_count": 25,
   "metadata": {},
   "outputs": [
    {
     "name": "stdout",
     "output_type": "stream",
     "text": [
      "Test sex mean: 0.75\n",
      "Test age mean: 59.583333333333336\n",
      "Control sex mean: 0.75\n",
      "Control age mean: 59.583333333333336\n"
     ]
    }
   ],
   "source": [
    "print(str(\"Test sex mean: \" + str(mean_test_sex)))\n",
    "print(str(\"Test age mean: \" + str(mean_test_age)))\n",
    "print(str(\"Control sex mean: \" + str(mean_control_sex)))\n",
    "print(str(\"Control age mean: \" + str(mean_control_age)))"
   ]
  },
  {
   "cell_type": "markdown",
   "metadata": {},
   "source": [
    "As we can see, we also plotted the mean distributions for age and sex before and after matching, and computed the means for these covariates for both our control and test groups. These results shows us how the matching procedure worked since these distributions are more balanced after applying propensity score matching. In addition, it is also noticeable that before matching, there are more males than females in the test group (patients with four and five VRFs). Furthermore, the age mean for the test group (59.58) before matching is much higher than the control’s group (53.79)."
   ]
  },
  {
   "cell_type": "markdown",
   "metadata": {},
   "source": [
    "## 4. References"
   ]
  },
  {
   "cell_type": "markdown",
   "metadata": {},
   "source": [
    "[1]: [Ottoboni, K. (2020)](http://www.kellieottoboni.com/pscore_match/index.html). pscore_match’s documentation"
   ]
  }
 ],
 "metadata": {
  "kernelspec": {
   "display_name": "Python 3",
   "language": "python",
   "name": "python3"
  },
  "language_info": {
   "codemirror_mode": {
    "name": "ipython",
    "version": 3
   },
   "file_extension": ".py",
   "mimetype": "text/x-python",
   "name": "python",
   "nbconvert_exporter": "python",
   "pygments_lexer": "ipython3",
   "version": "3.7.3"
  }
 },
 "nbformat": 4,
 "nbformat_minor": 2
}
