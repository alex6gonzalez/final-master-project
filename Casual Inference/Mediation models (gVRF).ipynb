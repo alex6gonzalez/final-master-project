{
 "cells": [
  {
   "cell_type": "code",
   "execution_count": 1,
   "metadata": {},
   "outputs": [],
   "source": [
    "import statsmodels.api as sm\n",
    "from statsmodels.stats.mediation import Mediation\n",
    "import pandas as pd\n",
    "import numpy as np\n",
    "from sklearn.decomposition import FactorAnalysis"
   ]
  },
  {
   "cell_type": "markdown",
   "metadata": {},
   "source": [
    "In addition to the ML models and propensity score matching analysis, for this thesis we also proposed using new causal inference modeling techniques to mine the UK Biobank data to better infer the causal link between heart\n",
    "and brain diseases. For that purpose, we used causal mediation analysis, we assembled several graphs of potential relationships between each of the three datasets, and measured the strength of the connections in these graphs to simultaneously estimate the causal connection between brain structures, heart structures, and heart function. "
   ]
  },
  {
   "cell_type": "markdown",
   "metadata": {},
   "source": [
    "# 0. Preparing dataset"
   ]
  },
  {
   "cell_type": "code",
   "execution_count": 2,
   "metadata": {},
   "outputs": [
    {
     "data": {
      "text/plain": [
       "((2065, 639), (2065, 744), (2065,))"
      ]
     },
     "execution_count": 2,
     "metadata": {},
     "output_type": "execute_result"
    }
   ],
   "source": [
    "# Reading and filtering datasets\n",
    "data = pd.read_csv(\"casuality_data_final_factor_analyzer.csv\")\n",
    "heart_df = data.filter(regex='heart')\n",
    "cardio_cmr_df = data.filter(regex='cardio_cmr')\n",
    "X1 = pd.concat([heart_df, cardio_cmr_df], axis=1)\n",
    "X2 = data.filter(regex='brain')\n",
    "g_VRF = data[\"g_VRF\"]\n",
    "X1.shape, X2.shape, g_VRF.shape"
   ]
  },
  {
   "cell_type": "code",
   "execution_count": 3,
   "metadata": {},
   "outputs": [
    {
     "data": {
      "text/plain": [
       "((2065,), (2065,), (2065,))"
      ]
     },
     "execution_count": 3,
     "metadata": {},
     "output_type": "execute_result"
    }
   ],
   "source": [
    "# Extracting latent factor for heart and brain\n",
    "factor_heart = FactorAnalysis(n_components=1)\n",
    "factor_heart = factor_heart.fit_transform(X1, g_VRF)\n",
    "factor_brain = FactorAnalysis(n_components=1)\n",
    "factor_brain = factor_brain.fit_transform(X2, g_VRF)\n",
    "factor_heart = factor_heart[:, 0]\n",
    "factor_brain = factor_brain[:, 0]\n",
    "factor_heart.shape, factor_brain.shape, g_VRF.shape"
   ]
  },
  {
   "cell_type": "code",
   "execution_count": 4,
   "metadata": {},
   "outputs": [],
   "source": [
    "data['factor_heart'] = factor_heart\n",
    "data['factor_brain'] = factor_brain"
   ]
  },
  {
   "cell_type": "code",
   "execution_count": 5,
   "metadata": {},
   "outputs": [
    {
     "data": {
      "text/html": [
       "<div>\n",
       "<style scoped>\n",
       "    .dataframe tbody tr th:only-of-type {\n",
       "        vertical-align: middle;\n",
       "    }\n",
       "\n",
       "    .dataframe tbody tr th {\n",
       "        vertical-align: top;\n",
       "    }\n",
       "\n",
       "    .dataframe thead th {\n",
       "        text-align: right;\n",
       "    }\n",
       "</style>\n",
       "<table border=\"1\" class=\"dataframe\">\n",
       "  <thead>\n",
       "    <tr style=\"text-align: right;\">\n",
       "      <th></th>\n",
       "      <th>factor_heart</th>\n",
       "      <th>factor_brain</th>\n",
       "      <th>g_VRF</th>\n",
       "    </tr>\n",
       "  </thead>\n",
       "  <tbody>\n",
       "    <tr>\n",
       "      <th>0</th>\n",
       "      <td>-1.364912</td>\n",
       "      <td>1.062501</td>\n",
       "      <td>-0.270503</td>\n",
       "    </tr>\n",
       "    <tr>\n",
       "      <th>1</th>\n",
       "      <td>-1.186440</td>\n",
       "      <td>-1.240734</td>\n",
       "      <td>-0.399763</td>\n",
       "    </tr>\n",
       "    <tr>\n",
       "      <th>2</th>\n",
       "      <td>1.164212</td>\n",
       "      <td>-1.648003</td>\n",
       "      <td>1.179964</td>\n",
       "    </tr>\n",
       "    <tr>\n",
       "      <th>3</th>\n",
       "      <td>0.793579</td>\n",
       "      <td>-0.003127</td>\n",
       "      <td>-1.170220</td>\n",
       "    </tr>\n",
       "    <tr>\n",
       "      <th>4</th>\n",
       "      <td>-0.661120</td>\n",
       "      <td>0.919291</td>\n",
       "      <td>-0.291274</td>\n",
       "    </tr>\n",
       "  </tbody>\n",
       "</table>\n",
       "</div>"
      ],
      "text/plain": [
       "   factor_heart  factor_brain     g_VRF\n",
       "0     -1.364912      1.062501 -0.270503\n",
       "1     -1.186440     -1.240734 -0.399763\n",
       "2      1.164212     -1.648003  1.179964\n",
       "3      0.793579     -0.003127 -1.170220\n",
       "4     -0.661120      0.919291 -0.291274"
      ]
     },
     "execution_count": 5,
     "metadata": {},
     "output_type": "execute_result"
    }
   ],
   "source": [
    "data_new = data.filter(['factor_heart', 'factor_brain', 'g_VRF'], axis=1)\n",
    "data_new.head()"
   ]
  },
  {
   "cell_type": "markdown",
   "metadata": {},
   "source": [
    "# 1. Mediation Analysis"
   ]
  },
  {
   "cell_type": "markdown",
   "metadata": {},
   "source": [
    "Many recent publications have proved that changes in brain structure correlate with changes in cardiac function, differences in heart CMR radiomics are associated with differences in brain imaging, and changes in heart CMR radiomics correlate with changes in cardiac function. However, because these connections have been studied independently but not simultaneously, there are potential redundancies in the data. For this reason, causal mediation analysis plays an essential role by helping to identify intermediate variables (or mediators) that lie in the causal pathway between the treatment and the outcome [1]."
   ]
  },
  {
   "cell_type": "markdown",
   "metadata": {},
   "source": [
    "To apply these causal mediation analyses we used the “Mediation” class from the “Statsmodels” library, the Python version for the “mediation R package”. This package implements a comprehensive suite of statistical tools for conducting such an analysis, and is organized into two distinct approaches. For the purpose of this thesis we used the model-based approach, in which researchers can estimate causal mediation effects and conduct sensitivity analysis under the standard research design [2]."
   ]
  },
  {
   "cell_type": "markdown",
   "metadata": {},
   "source": [
    "<center><img src=\"Figures/mediation analysis.png\"></center>"
   ]
  },
  {
   "cell_type": "markdown",
   "metadata": {},
   "source": [
    "Generical graphical representation of a mediation analysis. $a$ and $b$ reflect the indirect path of the effect of $X$ on the outcome ($Y$) through the mediator ($M$), while $c'$ is the direct effect of $X$ on the outcome after the indirect path has been removed. The total effect of $X$ is the combined indirect and direct effects."
   ]
  },
  {
   "cell_type": "markdown",
   "metadata": {},
   "source": [
    "## 1.1 gVRF - Heart - Brain"
   ]
  },
  {
   "cell_type": "markdown",
   "metadata": {},
   "source": [
    "First, we will study the mediating role that heart structure (aka heart radiomics) plays between cardiovascular risk (gVRF) and brain structure. In other words, how much of the connection between cardiovascular risk and brain structure can be explained by changes in heart structure."
   ]
  },
  {
   "cell_type": "markdown",
   "metadata": {},
   "source": [
    "<center><img src=\"Figures/gvrf-heart-brain.png\"></center>"
   ]
  },
  {
   "cell_type": "code",
   "execution_count": 6,
   "metadata": {},
   "outputs": [],
   "source": [
    "# Regression model for the outcome. Predictor variables include the treatment and the mediator\n",
    "outcome_model = sm.OLS.from_formula(\"factor_brain ~  g_VRF + factor_heart\", data = data_new)"
   ]
  },
  {
   "cell_type": "code",
   "execution_count": 7,
   "metadata": {},
   "outputs": [],
   "source": [
    "# Regression model for the mediator variable. Predictor variables include the treatment and any other variables of interest.\n",
    "mediator_model = sm.OLS.from_formula(\"factor_heart ~ g_VRF\", data = data_new)"
   ]
  },
  {
   "cell_type": "code",
   "execution_count": 8,
   "metadata": {},
   "outputs": [],
   "source": [
    "# Define the model class\n",
    "med = Mediation(outcome_model, mediator_model, \"g_VRF\", mediator = \"factor_heart\")"
   ]
  },
  {
   "cell_type": "code",
   "execution_count": 9,
   "metadata": {},
   "outputs": [],
   "source": [
    "# Fit a regression model to assess mediation. Either ‘parametric’ or ‘bootstrap’.\n",
    "# n_rep: The number of simulation replications.\n",
    "med_result = med.fit(n_rep = 500)"
   ]
  },
  {
   "cell_type": "markdown",
   "metadata": {},
   "source": [
    "The average causal mediation effect (ACME) represents the expected difference in the potential outcome when the mediator took the value that would realize under the treatment condition as opposed to the control condition, while the treatment status itself is held constant."
   ]
  },
  {
   "cell_type": "code",
   "execution_count": 10,
   "metadata": {},
   "outputs": [
    {
     "name": "stdout",
     "output_type": "stream",
     "text": [
      "                          Estimate  Lower CI bound  Upper CI bound  P-value\n",
      "ACME (control)               0.014           0.003           0.025    0.004\n",
      "ACME (treated)               0.014           0.003           0.025    0.004\n",
      "ADE (control)               -0.202          -0.239          -0.162    0.000\n",
      "ADE (treated)               -0.202          -0.239          -0.162    0.000\n",
      "Total effect                -0.188          -0.227          -0.148    0.000\n",
      "Prop. mediated (control)    -0.074          -0.139          -0.015    0.004\n",
      "Prop. mediated (treated)    -0.074          -0.139          -0.015    0.004\n",
      "ACME (average)               0.014           0.003           0.025    0.004\n",
      "ADE (average)               -0.202          -0.239          -0.162    0.000\n",
      "Prop. mediated (average)    -0.074          -0.139          -0.015    0.004\n"
     ]
    }
   ],
   "source": [
    "print(np.round(med_result.summary(), decimals = 3))"
   ]
  },
  {
   "cell_type": "markdown",
   "metadata": {},
   "source": [
    "## 1.2 gVRF - Brain - Heart "
   ]
  },
  {
   "cell_type": "markdown",
   "metadata": {},
   "source": [
    "Second, we will study the mediating role that brain structure (aka brain MRI indices) plays between cardiovascular risk (gVRF) and heart structure. In other words, how much of the connection between cardiovascular risk and heart structure can be explained by changes in brain structure."
   ]
  },
  {
   "cell_type": "markdown",
   "metadata": {},
   "source": [
    "<center><img src=\"Figures/gvrf - brain - heart.png\"></center>"
   ]
  },
  {
   "cell_type": "code",
   "execution_count": 11,
   "metadata": {},
   "outputs": [],
   "source": [
    "outcome_model = sm.OLS.from_formula(\"factor_heart ~  g_VRF + factor_brain\", data = data_new)"
   ]
  },
  {
   "cell_type": "code",
   "execution_count": 12,
   "metadata": {},
   "outputs": [],
   "source": [
    "mediator_model = sm.OLS.from_formula(\"factor_brain ~ g_VRF\", data = data_new)"
   ]
  },
  {
   "cell_type": "code",
   "execution_count": 13,
   "metadata": {},
   "outputs": [],
   "source": [
    "med = Mediation(outcome_model, mediator_model, \"g_VRF\", mediator = \"factor_brain\")"
   ]
  },
  {
   "cell_type": "code",
   "execution_count": 14,
   "metadata": {},
   "outputs": [],
   "source": [
    "med_result = med.fit(n_rep = 500)"
   ]
  },
  {
   "cell_type": "code",
   "execution_count": 15,
   "metadata": {},
   "outputs": [
    {
     "name": "stdout",
     "output_type": "stream",
     "text": [
      "                          Estimate  Lower CI bound  Upper CI bound  P-value\n",
      "ACME (control)               0.011           0.001           0.021    0.012\n",
      "ACME (treated)               0.011           0.001           0.021    0.012\n",
      "ADE (control)               -0.259          -0.299          -0.215    0.000\n",
      "ADE (treated)               -0.259          -0.299          -0.215    0.000\n",
      "Total effect                -0.248          -0.288          -0.209    0.000\n",
      "Prop. mediated (control)    -0.041          -0.089          -0.006    0.012\n",
      "Prop. mediated (treated)    -0.041          -0.089          -0.006    0.012\n",
      "ACME (average)               0.011           0.001           0.021    0.012\n",
      "ADE (average)               -0.259          -0.299          -0.215    0.000\n",
      "Prop. mediated (average)    -0.041          -0.089          -0.006    0.012\n"
     ]
    }
   ],
   "source": [
    "print(np.round(med_result.summary(), decimals = 3))"
   ]
  },
  {
   "cell_type": "markdown",
   "metadata": {},
   "source": [
    "## 1.3 Brain - gVRF - Heart "
   ]
  },
  {
   "cell_type": "markdown",
   "metadata": {},
   "source": [
    "Third, we will study the mediating role that cardiovascular risk (gVRF) plays between brain structure and heart structure. In other words, how much of the connection between brain structure and heart structure can be explained by changes in cardiovascular risk."
   ]
  },
  {
   "cell_type": "markdown",
   "metadata": {},
   "source": [
    "<center><img src=\"Figures/brain - gvrf - heart.png\"></center>"
   ]
  },
  {
   "cell_type": "code",
   "execution_count": 16,
   "metadata": {},
   "outputs": [],
   "source": [
    "outcome_model = sm.OLS.from_formula(\"factor_heart ~  g_VRF + factor_brain\", data = data_new)"
   ]
  },
  {
   "cell_type": "code",
   "execution_count": 17,
   "metadata": {},
   "outputs": [],
   "source": [
    "mediator_model = sm.OLS.from_formula(\"g_VRF ~ factor_brain\", data = data_new)"
   ]
  },
  {
   "cell_type": "code",
   "execution_count": 18,
   "metadata": {},
   "outputs": [],
   "source": [
    "med = Mediation(outcome_model, mediator_model, \"factor_brain\", mediator = \"g_VRF\")"
   ]
  },
  {
   "cell_type": "code",
   "execution_count": 19,
   "metadata": {},
   "outputs": [],
   "source": [
    "med_result = med.fit(n_rep = 500)"
   ]
  },
  {
   "cell_type": "code",
   "execution_count": 20,
   "metadata": {},
   "outputs": [
    {
     "name": "stdout",
     "output_type": "stream",
     "text": [
      "                          Estimate  Lower CI bound  Upper CI bound  P-value\n",
      "ACME (control)               0.056           0.033           0.077    0.000\n",
      "ACME (treated)               0.056           0.033           0.077    0.000\n",
      "ADE (control)               -0.052          -0.093          -0.011    0.016\n",
      "ADE (treated)               -0.052          -0.093          -0.011    0.016\n",
      "Total effect                 0.004          -0.038           0.046    0.892\n",
      "Prop. mediated (control)     1.497         -61.366          24.160    0.892\n",
      "Prop. mediated (treated)     1.497         -61.366          24.160    0.892\n",
      "ACME (average)               0.056           0.033           0.077    0.000\n",
      "ADE (average)               -0.052          -0.093          -0.011    0.016\n",
      "Prop. mediated (average)     1.497         -61.366          24.160    0.892\n"
     ]
    }
   ],
   "source": [
    "print(np.round(med_result.summary(), decimals = 3))"
   ]
  },
  {
   "cell_type": "markdown",
   "metadata": {},
   "source": [
    "## 1.4 Heart - gVRF - Brain"
   ]
  },
  {
   "cell_type": "markdown",
   "metadata": {},
   "source": [
    "Lastly, we will study the mediating role that cardiovascular risk (agg_score) plays between heart structure and brain structure. In other words, how much of the connection between heart structure and brain structure can be explained by changes in cardiovascular risk."
   ]
  },
  {
   "cell_type": "markdown",
   "metadata": {},
   "source": [
    "<center><img src=\"Figures/heart - gvrf - brain.png\"></center>"
   ]
  },
  {
   "cell_type": "code",
   "execution_count": 21,
   "metadata": {},
   "outputs": [],
   "source": [
    "outcome_model = sm.OLS.from_formula(\"factor_brain ~  g_VRF + factor_heart\", data = data_new)"
   ]
  },
  {
   "cell_type": "code",
   "execution_count": 22,
   "metadata": {},
   "outputs": [],
   "source": [
    "mediator_model = sm.OLS.from_formula(\"g_VRF ~ factor_heart\", data = data_new)"
   ]
  },
  {
   "cell_type": "code",
   "execution_count": 23,
   "metadata": {},
   "outputs": [],
   "source": [
    "med = Mediation(outcome_model, mediator_model, \"factor_heart\", mediator = \"g_VRF\")"
   ]
  },
  {
   "cell_type": "code",
   "execution_count": 24,
   "metadata": {},
   "outputs": [],
   "source": [
    "med_result = med.fit(n_rep = 500)"
   ]
  },
  {
   "cell_type": "code",
   "execution_count": 25,
   "metadata": {},
   "outputs": [
    {
     "name": "stdout",
     "output_type": "stream",
     "text": [
      "                          Estimate  Lower CI bound  Upper CI bound  P-value\n",
      "ACME (control)               0.057           0.040           0.077    0.000\n",
      "ACME (treated)               0.057           0.040           0.077    0.000\n",
      "ADE (control)               -0.053          -0.103          -0.008    0.036\n",
      "ADE (treated)               -0.053          -0.103          -0.008    0.036\n",
      "Total effect                 0.004          -0.042           0.050    0.912\n",
      "Prop. mediated (control)     1.425         -50.491          48.983    0.912\n",
      "Prop. mediated (treated)     1.425         -50.491          48.983    0.912\n",
      "ACME (average)               0.057           0.040           0.077    0.000\n",
      "ADE (average)               -0.053          -0.103          -0.008    0.036\n",
      "Prop. mediated (average)     1.425         -50.491          48.983    0.912\n"
     ]
    }
   ],
   "source": [
    "print(np.round(med_result.summary(), decimals = 3))"
   ]
  },
  {
   "cell_type": "markdown",
   "metadata": {},
   "source": [
    "# 2. References"
   ]
  },
  {
   "cell_type": "markdown",
   "metadata": {},
   "source": [
    "[1]: [Imai, Kosuke, Luke Keele, and Dustin Tingley (Oct. 2010)](https://doi.apa.org/doiLanding?doi=10.1037%2Fa0020761). A General Approach to Causal Mediation Analysis.\n",
    "\n",
    "[2]: [Tingley, Dustin et al. (Oct. 2014)](https://www.jstatsoft.org/article/view/v059i05). Mediation: R Package for Causal Mediation Analysis."
   ]
  }
 ],
 "metadata": {
  "kernelspec": {
   "display_name": "Python 3",
   "language": "python",
   "name": "python3"
  },
  "language_info": {
   "codemirror_mode": {
    "name": "ipython",
    "version": 3
   },
   "file_extension": ".py",
   "mimetype": "text/x-python",
   "name": "python",
   "nbconvert_exporter": "python",
   "pygments_lexer": "ipython3",
   "version": "3.7.3"
  }
 },
 "nbformat": 4,
 "nbformat_minor": 4
}
